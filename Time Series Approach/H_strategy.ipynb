{
 "cells": [
  {
   "cell_type": "markdown",
   "id": "electric-berlin",
   "metadata": {},
   "source": [
    "# H-Strategy"
   ]
  },
  {
   "cell_type": "markdown",
   "id": "loaded-machinery",
   "metadata": {},
   "source": [
    "## Introduction\n",
    "\n",
    "This notebook demonstrates an implementation of the strategy described in [Bogomolov, T. (2013). Pairs trading based on statistical variability of the spread process.](https://www.researchgate.net/publication/263339291_Pairs_trading_based_on_statistical_variability_of_the_spread_process)\n",
    "\n",
    "In this paper, the author proposes a new nonparametric approach to pairs trading based on the idea of Renko and Kagi charts. This approach exploits statistical information about the variability of the tradable process. The approach does not aim to find a long-run mean of the process and trade towards it like other methods of pairs trading. Instead, it manages the problem of how far the process should move in one direction before trading in the opposite direction becomes potentially profitable by measure the variability of the process."
   ]
  },
  {
   "cell_type": "markdown",
   "id": "hungarian-teacher",
   "metadata": {},
   "source": [
    "## H-construction\n",
    "\n",
    "Suppose $P(t)$ is a continuous time series on the time interval $[0, T]$.\n",
    "\n",
    "### Renko construction\n",
    "\n",
    "#### Step 1: Generate the Renko Process\n",
    "The Renko process $X(i)$ is defined as,\n",
    "\n",
    "$X(i) : X(i) = P(\\tau_i)$, $i = 0, 1, ..., N$,\n",
    "\n",
    "where $\\tau_i$, $i = 0, 1, ..., N$ is an increasing sequence of time moments such that for some arbitrary $H > 0$, $\\tau_0 = 0$ and $P(\\tau_0) = P(0)$,\n",
    "\n",
    "$H \\leq \\max \\limits_{t \\in [0,T]} P(t) - \\min \\limits_{t \\in [0,T]} P(t)$,\n",
    "\n",
    "$\\tau_i = inf\\{u \\in [\\tau_{i - 1}, T] : |P(u) − P(\\tau_{i - 1})| = H\\}$.\n",
    "\n",
    "#### Step 2: Determine Turning Points\n",
    "\n",
    "We create another sequence of time moments $\\{(\\tau^a_n, \\tau^b_n), n = 0, 1, ..., M\\}$ based on the\n",
    "sequence ${\\tau_i}$. The sequence $\\{\\tau^a_n\\}$ defines time moments when the renko process $X(i)$ has a local\n",
    "maximum or minimum, that is the process $X(i) = P(\\tau_i)$ changes its direction, and the sequence\n",
    "$\\{\\tau^b_n\\}$ defines the time moments when the local maximum or minimum is detected.\n",
    "\n",
    "More precisely, when take $\\tau^a_0 = \\tau_0$ and $\\tau^b_0 = \\tau_1$ then\n",
    "\n",
    "$\\tau^b_n = min\\{\\tau_i > \\tau^b_{n-1}: (P(\\tau_i) − P(\\tau_{i-1}))(P(\\tau_{i-1}) − P(\\tau_{i-2})) < 0\\}$, \n",
    "\n",
    "$\\tau^a_n = \\{\\tau_{i - 1} : \\tau^b_n = \\tau_i\\}$.\n",
    "\n",
    "### Kagi construction\n",
    "\n",
    "The Kagi construction is similar to the Renko construction with the only difference being that to create the sequence of time moments $\\{(\\tau^a_n, \\tau^b_n), n = 0, 1, ..., M\\}$ for the Kagi construction we use local maximums and minimums of the process $P(t)$ rather than the process $X(i)$ derived from it.\n",
    "\n",
    "The sequence $\\{\\tau^a_n\\}$ then defines the time moments when the price process $P(t)$ has a local maximum or minimum and the sequence $\\{\\tau^b_n\\}$ defines the time moments when that local maximum or minimum is recognized, that is, the time when the process $P(t)$ moves away from its last local maximum or minimum by a distance equal to $H$.\n",
    "\n",
    "More precisely, $\\tau^a_0$, $\\tau^b_0$ and $S_0$ is defined as,\n",
    "\n",
    "$\\tau^b_0 = inf\\{u \\in [0, T] : \\max \\limits_{t \\in [0,u]} P(t) − \\min \\limits_{t \\in [0,u]} P(t) = H\\}$,\n",
    "\n",
    "$\\tau^a_0 = inf\\{u < \\tau^b_0: |P(u) − P(\\tau^b_0)| = H\\}$,\n",
    "\n",
    "$S_0 = sign(P(\\tau^a_0) − P(\\tau^b_0))$,\n",
    "\n",
    "where $S_0$ can take two values: $1$ for a local maximum and $−1$ for a local minimum.\n",
    "\n",
    "Then we define $(\\tau^a_n, \\tau^b_n)$, $n > 0$ recursively. The construction of the full sequence $\\{(\\tau^a_n, \\tau^b_n), n = 0, 1, ..., M\\}$ is done inductively by alternating the following cases.\n",
    "\n",
    "$Case\\ 1: \\ \\ S_{n-1} = -1$\n",
    "\n",
    "if $S_{n-1} = -1$, then $\\tau^a_n, \\tau^b_n$ and $S_n$ is defined as,\n",
    "\n",
    "$\\tau^b_n = inf\\{u \\in [\\tau^a_{n-1}, T] : P(u) − \\min \\limits_{t \\in [\\tau^a_{n-1}\\ \\ ,\\ u]} P(t) = H\\}$,\n",
    "\n",
    "$\\tau^a_n = inf\\{u < \\tau^b_n: P(u) = \\min \\limits_{t \\in [\\tau^a_{n-1}\\ \\ ,\\ \\tau^b_n]} P(t)\\}$,\n",
    "\n",
    "$S_n = 1$.\n",
    "\n",
    "\n",
    "$Case\\ 2: \\ \\ S_{n-1} = 1$\n",
    "\n",
    "if $S_{n-1} = 1$, then $\\tau^a_n, \\tau^b_n$ and $S_n$ is defined as,\n",
    "\n",
    "$\\tau^b_n = inf\\{u \\in [\\tau^a_{n-1}, T] : \\max \\limits_{t \\in [\\tau^a_{n-1}\\ \\ ,\\ u]} P(t) - P(u) = H\\}$,\n",
    "\n",
    "$\\tau^a_n = inf\\{u < \\tau^b_n: P(u) = \\max \\limits_{t \\in [\\tau^a_{n-1}\\ \\ ,\\ \\tau^b_n]} P(t)\\}$,\n",
    "\n",
    "$S_n = -1$."
   ]
  },
  {
   "cell_type": "markdown",
   "id": "precise-upper",
   "metadata": {},
   "source": [
    "## H-statistics\n",
    "\n",
    "### H-inversion\n",
    "\n",
    "H-inversion counts the number of times the process $P(t)$ changes its direction for selected $H$, $T$ and $P(t)$. It is given by\n",
    "\n",
    "$N_T (H, P) = \\max \\{n : \\tau^{b}_{n} = T\\} = N$,\n",
    "\n",
    "where $H$ denotes the threshold of the H-construction, and $P$ dnotes the process $P(t)$.\n",
    "\n",
    "### H-distances\n",
    "\n",
    "H-distances counts the sum of vertical distances between local maximums and minimums to the power $p$. It is given by\n",
    "\n",
    "$V^p_T (H, P) = \\sum_{n = 1}^{N}|P(\\tau^a_n) − P(\\tau^a_{n−1})|^p$.\n",
    "\n",
    "### H-volatility\n",
    "\n",
    "H-volatility of order p measures the variability of the process $P(t)$ for selected $H$ and $T$. It is given by\n",
    "\n",
    "$\\xi^p_T = {V^p_T (H, P)}/{N_T (H, P)}$."
   ]
  },
  {
   "cell_type": "markdown",
   "id": "interracial-procurement",
   "metadata": {},
   "source": [
    "## Strategies\n",
    "\n",
    "### Momentum Strategy\n",
    "\n",
    "The investor buys (sells) an asset at a stopping time $\\tau^b_n$ when he or she recognizes that the process passed its previous local minimum\n",
    "(maximum) and the investor expects a continuation of the movement. The signal $s_t$ is given by\n",
    "\n",
    "$s_t = \\left\\{\\begin{array}{l}\n",
    "+1,\\ if\\ t = \\tau^b_n\\ and\\ P(\\tau^b_n) - P(\\tau^a_n) > 0\\\\\n",
    "-1,\\ if\\ t = \\tau^b_n\\ and\\ P(\\tau^b_n) - P(\\tau^a_n) < 0\\\\\n",
    "0,\\ otherwise\n",
    "\\end{array}\\right.$\n",
    "\n",
    "where $+1$ indicates $opening\\ a\\ long\\ trade\\ or\\ closeing\\ a\\ short\\ trade$, $-1$ indicates $opening\\ a\\ short\\ trade\\ or\\ closeing\\ a\\ long\\ trade$ and $0$ indicates $holding\\ the\\ previous\\ position$.\n",
    "\n",
    "The profit from one trade according to the momentum H-strategy over time from $\\tau^b_{n−1}$ to $\\tau^b_{n}$ is\n",
    "\n",
    "$Y_{\\tau^b_n} = (P(\\tau^b_n) − P(\\tau^b_{n−1})) · sign(P(\\tau^a_n) − P(\\tau^a_{n−1}))$\n",
    "\n",
    "and the total profit from time $0$ till time $T$ is\n",
    "\n",
    "$Y_T(H, P) = (\\xi^1_T (H, P) − 2H) \\cdot N_T (H, P)$\n",
    "\n",
    "### Contrarian Strategy\n",
    "\n",
    "The investor sells (buys) an asset at a stopping time $\\tau^b_n$ when he or she decides that the process has passed far enough from its previous local minimum\n",
    "(maximum), and the investor expects a movement reversion. The signal $s_t$ is given by\n",
    "\n",
    "$s_t = \\left\\{\\begin{array}{l}\n",
    "+1,\\ if\\ t = \\tau^b_n\\ and\\ P(\\tau^b_n) - P(\\tau^a_n) < 0\\\\\n",
    "-1,\\ if\\ t = \\tau^b_n\\ and\\ P(\\tau^b_n) - P(\\tau^a_n) > 0\\\\\n",
    "0,\\ otherwise\n",
    "\\end{array}\\right.$\n",
    "\n",
    "where $+1$ indicates $opening\\ a\\ long\\ trade\\ or\\ closeing\\ a\\ short\\ trade$, $-1$ indicates $opening\\ a\\ short\\ trade\\ or\\ closeing\\ a\\ long\\ trade$ and $0$ indicates $holding\\ the\\ previous\\ position$.\n",
    "\n",
    "The profit from one trade according to the momentum H-strategy over time from $\\tau^b_{n−1}$ to $\\tau^b_{n}$ is\n",
    "\n",
    "$Y_{\\tau^b_n} = (P(\\tau^b_n) − P(\\tau^b_{n−1})) · sign(P(\\tau^a_{n−1}) - P(\\tau^a_n))$,\n",
    "\n",
    "and the total profit from time $0$ till time $T$ is\n",
    "\n",
    "$Y_T(H, P) = (2H - \\xi^1_T (H, P)) \\cdot N_T (H, P)$.\n",
    "\n",
    "### Properties\n",
    "\n",
    "It is clear that the choice of H-strategy depends on the value of H-volatility. if $\\xi^1_T > 2H$, then to achieve a positive profit the investor should\n",
    "employ a momentum H -strategy; if $\\xi^1_T < 2H$ then the investor should use a contrarian H-strategy.\n",
    "\n",
    "Suppose $P(t)$ follows the Wiener process, the H-volatility $\\xi^1_T = 2H$. As a result, it is impossible to profit from the trading on the process $P(t)$. We can also see that H-volatility $\\xi^1_T = 2H$ is a property of a martingale. Likewise $\\xi^1_T > 2H$ could be a property of a sub-martingale or a super-martingale or a process regularly switching over time from a sub-martingale to a super-martingale and back.\n",
    "\n",
    "In this paper, the author propose that for any mean-reverting process, regardless of its distribution, the H-volatility is less than $2H$. Hence, theoretically, trading the mean-reverting process by the contrarian H-strategy is profitable for any choice of $H$."
   ]
  },
  {
   "cell_type": "markdown",
   "id": "stupid-champagne",
   "metadata": {},
   "source": [
    "## Pairs Selection\n",
    "- Purpose: Select trading pairs from the assets pool by using the properties of the H-construction.\n",
    "- Algorithm:\n",
    "    - Determine the assets pool and the length of historical data.\n",
    "    - Take log-prices of all assets based on the history, combine them in all possible pairs and build spread process for each pair.\n",
    "        - $spread_{ij} = log(P_i) - log(P_j)$\n",
    "    - For each spread process, calculate its standard deviation, and set it as the threshold of the H-construction.\n",
    "    - Determine the construction type of the H-construction.\n",
    "        - It could be either Renko or Kagi.\n",
    "    - Build the H-construction on the spread series formed by each possible pairs.\n",
    "    - The top N pairs with the highest/lowest H-inversion are used for pairs trading.\n",
    "        - Mean-reverting process tends to have higher H-inversion."
   ]
  },
  {
   "cell_type": "code",
   "execution_count": 1,
   "id": "coupled-campus",
   "metadata": {},
   "outputs": [],
   "source": [
    "import os\n",
    "\n",
    "import pandas as pd\n",
    "import numpy as np\n",
    "import matplotlib.pyplot as plt\n",
    "import yfinance as yf\n",
    "\n",
    "from arbitragelab.time_series_approach.h_strategy import HConstruction\n",
    "from arbitragelab.time_series_approach.h_strategy import HSelection"
   ]
  },
  {
   "cell_type": "markdown",
   "id": "united-variance",
   "metadata": {},
   "source": [
    "## Pairs Trading Backtesting Example\n",
    "\n",
    "### Pairs Selection\n",
    "- Frequency: Reselect every six months.\n",
    "- H-selection parameters: \n",
    "    - Assets pool: S&P 500 Components, updated at the beginning of each year.\n",
    "    - The length of historical data: 12-month history.\n",
    "    - Construction type: Kagi\n",
    "    - Selection: The top 5 pairs with the highest H-inversion.\n",
    "    \n",
    "### Trading Strategy\n",
    "- Construction type: Kagi\n",
    "- Signals type: contrarian.\n",
    "- Trading period: Start trading all pairs from the first day of trading period and constantly stay in the market up to six months.\n",
    "\n",
    "### Others\n",
    "- Backtesting interval: 2005/01/01 ~ 2020/07/01\n",
    "- Transaction costs: 0.1% per trade, which means about 0.2% per trade for the pair and about 0.4% per round trip for the pair."
   ]
  },
  {
   "cell_type": "code",
   "execution_count": 2,
   "id": "romantic-central",
   "metadata": {},
   "outputs": [
    {
     "name": "stdout",
     "output_type": "stream",
     "text": [
      "Training: 2004-01-01 ~ 2005-01-01 Testing: 2005-01-01 ~ 2005-07-01\n",
      "Training: 2004-07-01 ~ 2005-07-01 Testing: 2005-07-01 ~ 2006-01-01\n",
      "Training: 2005-01-01 ~ 2006-01-01 Testing: 2006-01-01 ~ 2006-07-01\n",
      "Training: 2005-07-01 ~ 2006-07-01 Testing: 2006-07-01 ~ 2007-01-01\n",
      "Training: 2006-01-01 ~ 2007-01-01 Testing: 2007-01-01 ~ 2007-07-01\n"
     ]
    }
   ],
   "source": [
    "# Getting the date of the first day of each quarter\n",
    "dates = pd.date_range(\"2004-01-01\", \"2011-01-01\", freq = \"QS\")\n",
    "\n",
    "# Setting parameters for getting training and testing intervals\n",
    "interval = 4\n",
    "overlap = 2\n",
    "\n",
    "train_date = []\n",
    "test_date = []\n",
    "\n",
    "# Determining training and testing intervals\n",
    "i = 0\n",
    "while i < len(dates) - interval - overlap:\n",
    "    trd = (dates[i].date(), dates[i + interval].date())\n",
    "    tsd = (dates[i + interval].date(), dates[i + interval + overlap].date())\n",
    "    \n",
    "    train_date.append(trd)\n",
    "    test_date.append(tsd)\n",
    "    \n",
    "    i += 2\n",
    "    \n",
    "# Printing out some of the training and testing intervals\n",
    "for train, test in zip(train_date[:5], test_date[:5]):\n",
    "    print(\"Training:\", train[0], \"~\", train[1], \"Testing:\", test[0], \"~\", test[1])"
   ]
  },
  {
   "cell_type": "code",
   "execution_count": 3,
   "id": "inner-hurricane",
   "metadata": {},
   "outputs": [],
   "source": [
    "# Getting data path\n",
    "root_path = os.path.abspath(os.path.join(os.getcwd(), os.pardir))\n",
    "path_1 = os.path.join(root_path, \"Sample-Data\", \"S&P500_comp\")\n",
    "path_2 = os.path.join(root_path, \"Sample-Data\", \"S&P500_data\")"
   ]
  },
  {
   "cell_type": "code",
   "execution_count": 4,
   "id": "hollow-facial",
   "metadata": {},
   "outputs": [],
   "source": [
    "# Getting the S&P 500 components for each year from the folder\n",
    "components_dict = {}\n",
    "prefix = path_1\n",
    "\n",
    "for filename in os.listdir(prefix):\n",
    "    year = filename.split(\" \")[-1].split(\".\")[0]\n",
    "    path = prefix + \"\\\\\" + filename\n",
    "    \n",
    "    tickers = list(pd.read_csv(path)[\"ID\"].str.split(\" \", expand=True)[0])\n",
    "    components_dict[year] = tickers"
   ]
  },
  {
   "cell_type": "code",
   "execution_count": 5,
   "id": "anonymous-walter",
   "metadata": {},
   "outputs": [],
   "source": [
    "# Getting the historical data for each ticker from the folder\n",
    "data_dict = {}\n",
    "prefix = path_2\n",
    "\n",
    "for filename in os.listdir(prefix):\n",
    "    ticker = filename.split(\".\")[0]\n",
    "    path = prefix + \"\\\\\" + filename\n",
    "    \n",
    "    data = pd.read_csv(path)\n",
    "    if len(data) > 0:\n",
    "        data.index = pd.to_datetime(data.timestamp)\n",
    "        data.index.name = \"date\"\n",
    "        data = data[\"close\"]\n",
    "        data_dict[ticker] = data\n",
    "\n",
    "# Merging all the close price into a dataframe\n",
    "data_df = pd.DataFrame(data_dict)\n",
    "tickers_with_data = list(data_df.columns)"
   ]
  },
  {
   "cell_type": "code",
   "execution_count": 6,
   "id": "editorial-session",
   "metadata": {},
   "outputs": [
    {
     "name": "stderr",
     "output_type": "stream",
     "text": [
      "100%|████████████████████████████████████████████████████████████████████████████| 29646/29646 [05:30<00:00, 89.76it/s]\n"
     ]
    },
    {
     "name": "stdout",
     "output_type": "stream",
     "text": [
      "Training: 2004-01-01 ~ 2005-01-01\n",
      "Testing: 2005-01-01 ~ 2005-07-01\n"
     ]
    },
    {
     "name": "stderr",
     "output_type": "stream",
     "text": [
      "100%|████████████████████████████████████████████████████████████████████████████| 29890/29890 [05:57<00:00, 83.50it/s]\n"
     ]
    },
    {
     "name": "stdout",
     "output_type": "stream",
     "text": [
      "Training: 2004-07-01 ~ 2005-07-01\n",
      "Testing: 2005-07-01 ~ 2006-01-01\n"
     ]
    },
    {
     "name": "stderr",
     "output_type": "stream",
     "text": [
      "100%|████████████████████████████████████████████████████████████████████████████| 31878/31878 [06:20<00:00, 83.84it/s]\n"
     ]
    },
    {
     "name": "stdout",
     "output_type": "stream",
     "text": [
      "Training: 2005-01-01 ~ 2006-01-01\n",
      "Testing: 2006-01-01 ~ 2006-07-01\n"
     ]
    },
    {
     "name": "stderr",
     "output_type": "stream",
     "text": [
      "100%|████████████████████████████████████████████████████████████████████████████| 32385/32385 [06:44<00:00, 80.00it/s]\n"
     ]
    },
    {
     "name": "stdout",
     "output_type": "stream",
     "text": [
      "Training: 2005-07-01 ~ 2006-07-01\n",
      "Testing: 2006-07-01 ~ 2007-01-01\n"
     ]
    },
    {
     "name": "stderr",
     "output_type": "stream",
     "text": [
      "100%|████████████████████████████████████████████████████████████████████████████| 36585/36585 [06:39<00:00, 91.58it/s]\n"
     ]
    },
    {
     "name": "stdout",
     "output_type": "stream",
     "text": [
      "Training: 2006-01-01 ~ 2007-01-01\n",
      "Testing: 2007-01-01 ~ 2007-07-01\n"
     ]
    },
    {
     "name": "stderr",
     "output_type": "stream",
     "text": [
      "100%|████████████████████████████████████████████████████████████████████████████| 37128/37128 [06:18<00:00, 98.04it/s]\n"
     ]
    },
    {
     "name": "stdout",
     "output_type": "stream",
     "text": [
      "Training: 2006-07-01 ~ 2007-07-01\n",
      "Testing: 2007-07-01 ~ 2008-01-01\n"
     ]
    },
    {
     "name": "stderr",
     "output_type": "stream",
     "text": [
      "100%|████████████████████████████████████████████████████████████████████████████| 39903/39903 [10:12<00:00, 65.15it/s]\n"
     ]
    },
    {
     "name": "stdout",
     "output_type": "stream",
     "text": [
      "Training: 2007-01-01 ~ 2008-01-01\n",
      "Testing: 2008-01-01 ~ 2008-07-01\n"
     ]
    },
    {
     "name": "stderr",
     "output_type": "stream",
     "text": [
      "100%|████████████████████████████████████████████████████████████████████████████| 40186/40186 [08:19<00:00, 80.41it/s]\n"
     ]
    },
    {
     "name": "stdout",
     "output_type": "stream",
     "text": [
      "Training: 2007-07-01 ~ 2008-07-01\n",
      "Testing: 2008-07-01 ~ 2009-01-01\n"
     ]
    },
    {
     "name": "stderr",
     "output_type": "stream",
     "text": [
      "100%|████████████████████████████████████████████████████████████████████████████| 45451/45451 [10:45<00:00, 70.39it/s]\n"
     ]
    },
    {
     "name": "stdout",
     "output_type": "stream",
     "text": [
      "Training: 2008-01-01 ~ 2009-01-01\n",
      "Testing: 2009-01-01 ~ 2009-07-01\n"
     ]
    },
    {
     "name": "stderr",
     "output_type": "stream",
     "text": [
      "100%|████████████████████████████████████████████████████████████████████████████| 45150/45150 [08:52<00:00, 84.85it/s]\n",
      "  0%|                                                                                        | 0/50403 [00:00<?, ?it/s]"
     ]
    },
    {
     "name": "stdout",
     "output_type": "stream",
     "text": [
      "Training: 2008-07-01 ~ 2009-07-01\n",
      "Testing: 2009-07-01 ~ 2010-01-01\n"
     ]
    },
    {
     "name": "stderr",
     "output_type": "stream",
     "text": [
      "100%|███████████████████████████████████████████████████████████████████████████| 50403/50403 [06:09<00:00, 136.31it/s]\n"
     ]
    },
    {
     "name": "stdout",
     "output_type": "stream",
     "text": [
      "Training: 2009-01-01 ~ 2010-01-01\n",
      "Testing: 2010-01-01 ~ 2010-07-01\n"
     ]
    },
    {
     "name": "stderr",
     "output_type": "stream",
     "text": [
      "100%|███████████████████████████████████████████████████████████████████████████| 50721/50721 [07:07<00:00, 118.62it/s]\n"
     ]
    },
    {
     "name": "stdout",
     "output_type": "stream",
     "text": [
      "Training: 2009-07-01 ~ 2010-07-01\n",
      "Testing: 2010-07-01 ~ 2011-01-01\n"
     ]
    }
   ],
   "source": [
    "# Setting parameters\n",
    "construction_type = \"Kagi\"\n",
    "signals_type = \"contrarian\"\n",
    "selection_method = \"highest\"\n",
    "transaction_costs = 0.001\n",
    "\n",
    "# Creating series for storing backtesting results\n",
    "total_returns = pd.Series(1, index = [test_date[0][0]], dtype = float)\n",
    "total_returns_with_costs = pd.Series(1, index = [test_date[0][0]], dtype = float)\n",
    "total_returns.index = pd.to_datetime(total_returns.index)\n",
    "total_returns_with_costs.index = pd.to_datetime(total_returns_with_costs.index)\n",
    "\n",
    "# Starting backtesting\n",
    "for train, test in zip(train_date, test_date):\n",
    "    train_year = str(train[0].year) # Getting the year of the start of the training interval\n",
    "    tickers = components_dict[train_year] # Getting S&P 500 components for the year\n",
    "    valid_tickers = list(set(tickers_with_data) & set(tickers)) # Determining which Tickers have historical data\n",
    "    \n",
    "    train_data = data_df[valid_tickers][train[0] : train[1]] # Getting required data for pairs selection\n",
    "    train_data = train_data.dropna(how = \"all\", axis = 0).dropna(how = \"all\", axis = 1)\n",
    "    \n",
    "    # Getting pairs for trading\n",
    "    minimum_length = len(train_data)*0.8\n",
    "    hs = HSelection(train_data, construction_type)\n",
    "    hs.select(minimum_length = minimum_length)\n",
    "    pairs = hs.get_pairs(5, selection_method, False)\n",
    "    \n",
    "    # Creating lists for storing cumulative returns in the test interval for each pair\n",
    "    returns_series_list = []\n",
    "    returns_series_with_costs_list = []\n",
    "    \n",
    "    print(\"Training:\", train[0], \"~\", train[1])\n",
    "    print(\"Testing:\", test[0], \"~\", test[1])\n",
    "    \n",
    "    # Calculating the cumulative returns in the test interval for each pair\n",
    "    for i in pairs:\n",
    "        threshold = i[1] # Getting the threshold of the H-construction\n",
    "        pair_tickers = list(i[2])\n",
    "        pair_data = data_df[pair_tickers][test[0] : test[1]] # Getting required data for backtesting\n",
    "        pair_data = pair_data.dropna(axis = 0).dropna(axis = 1)\n",
    "        \n",
    "        if len(pair_data.columns) < 2:\n",
    "            print(\"data error\")\n",
    "            continue\n",
    "        \n",
    "        series = np.log(pair_data[pair_tickers[0]]) - np.log(pair_data[pair_tickers[1]]) # Constructing spread series\n",
    "        hc = HConstruction(series, threshold, construction_type) # Creating a class object\n",
    "        signals = hc.get_signals(signals_type) # Getting the signals in the test interval\n",
    "        trade_actions = signals[signals != 0] # Getting the actual trade actions (+1 for Open a long trade, -1 for Open a short trade)\n",
    "        trade_dates_interval = [(trade_actions.index[i].date(), trade_actions.index[i + 1].date()) for i in range(len(trade_actions) - 1)] # Getting the intervals between two adjacent trade actions\n",
    "        \n",
    "        # Creating series for storing cumulative returns\n",
    "        returns_series = pd.Series(1, index = [test[0]], dtype = float)\n",
    "        returns_series.index = pd.to_datetime(returns_series.index)\n",
    "        returns_series_with_costs = pd.Series(1, index = [test[0]], dtype = float)\n",
    "        returns_series_with_costs.index = pd.to_datetime(returns_series_with_costs.index)\n",
    "        \n",
    "        # Calculating the cumulative returns for each interval between two adjacent trade actions, then connecting them together\n",
    "        for i, j in zip(trade_dates_interval, trade_actions.values):\n",
    "            daily_returns = pair_data.loc[i[0]:i[1]].pct_change().dropna(how = \"all\", axis = 0).dropna(how = \"all\", axis = 1)\n",
    "            daily_returns = daily_returns*[j, -j] # if j == 1 (-1), long (short) the first stock and short (long) the second stock\n",
    "            daily_returns_with_costs = daily_returns.copy()\n",
    "            daily_returns_with_costs.iloc[0] = daily_returns_with_costs.iloc[0] - transaction_costs*2\n",
    "            daily_returns_with_costs.iloc[-1] = daily_returns_with_costs.iloc[-1] - transaction_costs*2\n",
    "            cum_returns = (daily_returns + 1).cumprod().mean(axis = 1) # Assuming we have equal weights at the first day of the interval between two adjacent trade actions\n",
    "            cum_returns_with_costs = (daily_returns_with_costs + 1).cumprod().mean(axis = 1)\n",
    "            returns_series = pd.concat([returns_series, cum_returns*returns_series[-1]])\n",
    "            returns_series_with_costs = pd.concat([returns_series_with_costs, cum_returns_with_costs*returns_series_with_costs[-1]])\n",
    "        \n",
    "        returns_series_list.append(returns_series)\n",
    "        returns_series_with_costs_list.append(returns_series_with_costs)\n",
    "        \n",
    "    pairs_returns = pd.DataFrame(returns_series_list).T.ffill().mean(axis = 1) # Assuming we have equal weights at the first day of the test interval\n",
    "    total_returns = pd.concat([total_returns, pairs_returns*total_returns[-1]])\n",
    "    pairs_returns_with_costs = pd.DataFrame(returns_series_with_costs_list).T.ffill().mean(axis = 1)\n",
    "    total_returns_with_costs = pd.concat([total_returns_with_costs, pairs_returns_with_costs*total_returns_with_costs[-1]])"
   ]
  },
  {
   "cell_type": "code",
   "execution_count": 7,
   "id": "gentle-national",
   "metadata": {},
   "outputs": [
    {
     "name": "stdout",
     "output_type": "stream",
     "text": [
      "[*********************100%***********************]  1 of 1 completed\n"
     ]
    }
   ],
   "source": [
    "# Getting benckmark\n",
    "start = total_returns.index[0].date().isoformat()\n",
    "end = total_returns.index[-1].date().isoformat()\n",
    "SP500 = yf.download(\"^GSPC\", start=start, end=end)[\"Adj Close\"]"
   ]
  },
  {
   "cell_type": "code",
   "execution_count": 8,
   "id": "entire-merit",
   "metadata": {},
   "outputs": [
    {
     "data": {
      "image/png": "[encoded data removed]",
      "text/plain": [
       "<Figure size 1152x720 with 1 Axes>"
      ]
     },
     "metadata": {
      "needs_background": "light"
     },
     "output_type": "display_data"
    }
   ],
   "source": [
    "# Plotting results\n",
    "total_returns.plot(figsize=(16, 10), label = \"Stratrgy\")\n",
    "total_returns_with_costs.plot(label = \"Stratrgy with transaction costs\")\n",
    "(SP500.pct_change() + 1).cumprod().plot(label = \"Benckmark\")\n",
    "plt.legend()\n",
    "plt.show()"
   ]
  },
  {
   "cell_type": "markdown",
   "id": "subject-going",
   "metadata": {},
   "source": [
    "## Live Trading Example\n",
    "\n",
    "If users want to actually use this strategy for a live trading, they can use the following method to complete. It mainly consists of two steps. The first step is to transmit the latest price to the object, and the second step is to obtain the latest signal."
   ]
  },
  {
   "cell_type": "code",
   "execution_count": 9,
   "id": "horizontal-puppy",
   "metadata": {},
   "outputs": [
    {
     "name": "stdout",
     "output_type": "stream",
     "text": [
      "[*********************100%***********************]  2 of 2 completed\n",
      "Date\n",
      "2021-06-30   -1.007341\n",
      "dtype: float64\n"
     ]
    }
   ],
   "source": [
    "# Loading data\n",
    "data =  yf.download(\"KO PEP\", start=\"2020-01-01\", end=\"2021-07-01\")[\"Adj Close\"]\n",
    "\n",
    "# Constructing spread series\n",
    "series = np.log(data[\"KO\"]) - np.log(data[\"PEP\"])\n",
    "\n",
    "# Splitting the series for demonstation\n",
    "historical_series = series[:-1]\n",
    "threshold = historical_series.std()\n",
    "latest_data = series[-1:]\n",
    "print(latest_data)"
   ]
  },
  {
   "cell_type": "code",
   "execution_count": 10,
   "id": "postal-horizontal",
   "metadata": {},
   "outputs": [
    {
     "name": "stdout",
     "output_type": "stream",
     "text": [
      "Latest Signal:\n"
     ]
    },
    {
     "data": {
      "text/plain": [
       "Date\n",
       "2021-06-30    0.0\n",
       "dtype: float64"
      ]
     },
     "metadata": {},
     "output_type": "display_data"
    }
   ],
   "source": [
    "# Creating a class object\n",
    "hc = HConstruction(historical_series, threshold, \"Renko\")\n",
    "\n",
    "# Transmiting the latest price to the object\n",
    "hc.extend_series(latest_data)\n",
    "\n",
    "# Getting the latest signal\n",
    "print(\"Latest Signal:\")\n",
    "display(hc.get_signals()[-1:])"
   ]
  },
  {
   "cell_type": "markdown",
   "id": "portuguese-tennis",
   "metadata": {},
   "source": [
    "## Conclusion\n",
    "\n",
    "This notebook demonstrated a nonparametric approach to pairs trading based on the idea of Renko and Kagi charts, which is very different from the traditional one.\n",
    "\n",
    "Key takeaways from the notebook:\n",
    "- H-inversion statistic that capture the degree of mean reversion.\n",
    "- H-volatility statistic that measures the variability and the degree of mean reversion of the process.\n",
    "- A new way to select pairs and generate trading signals for statistical arbitrage strategies."
   ]
  },
  {
   "cell_type": "markdown",
   "id": "norwegian-committee",
   "metadata": {},
   "source": [
    "## References\n",
    "\n",
    "1. [Pairs trading based on statistical variability of the spread process. Bogomolov, T. (2013).](https://www.researchgate.net/publication/263339291_Pairs_trading_based_on_statistical_variability_of_the_spread_process)"
   ]
  }
 ],
 "metadata": {
  "kernelspec": {
   "display_name": "ht",
   "language": "python",
   "name": "ht"
  },
  "language_info": {
   "codemirror_mode": {
    "name": "ipython",
    "version": 3
   },
   "file_extension": ".py",
   "mimetype": "text/x-python",
   "name": "python",
   "nbconvert_exporter": "python",
   "pygments_lexer": "ipython3",
   "version": "3.8.10"
  }
 },
 "nbformat": 4,
 "nbformat_minor": 5
}

{
 "cells": [
  {
   "cell_type": "markdown",
   "id": "emotional-jamaica",
   "metadata": {},
   "source": [
    "# Implementation of OU Model Mudchanatongsuk\n",
    "\n",
    "This notebook demonstrates the usage of the `ou_model_mudchanatongsuk` module.\n",
    "\n",
    "This module contains implementation of the following paper \n",
    "\n",
    "- [Optimal pairs trading: A stochastic control approach. (2008)](http://folk.ntnu.no/skoge/prost/proceedings/acc08/data/papers/0479.pdf) by Mudchanatongsuk, S., Primbs, J.A. and Wong, W.\n",
    "\n",
    "\n",
    "## Introduction\n",
    "\n",
    "\n",
    "In the paper corresponding to this module, the authors implement a stochastic control-based approach to the problem of pairs trading.\n",
    "The paper models the log-relationship between a pair of stock prices as an Ornstein-Uhlenbeck process\n",
    "and use this to formulate a portfolio optimization based stochastic control problem.\n",
    "This problem is constructed in such a way that one may either\n",
    "trade based on the spread (by buying and selling equal amounts of the stocks in the pair) or\n",
    "place money in a risk-free asset. Then the optimal solution to this control problem\n",
    "is obtained in closed form via the corresponding Hamilton-Jacobi-Bellman equation under a power utility on terminal wealth.\n",
    "\n",
    "\n",
    "## Modelling\n",
    "\n",
    "\n",
    "Let $A(t)$ and $B(t)$ denote respectively the prices of the\n",
    "pair of stocks $A$ and $B$ at time $t$. The authors assume that stock $B$\n",
    "follows a geometric Brownian motion,\n",
    "\n",
    "$$\n",
    "    d B(t)=\\mu B(t) d t+\\sigma B(t) d Z(t)\n",
    "$$\n",
    "\n",
    "where $\\mu$ is the drift, $\\sigma$ is the volatility, and $Z(t)$ is a standard\n",
    "Brownian motion.\n",
    "\n",
    "Let $X(t)$ denote the spread of the two stocks at time $t$,\n",
    "defined as\n",
    "\n",
    "$$\n",
    "    X(t) = \\ln(A(t)) − \\ln(B(t))\n",
    "$$\n",
    "\n",
    "The authors assume that the spread follows an Ornstein-Uhlenbeck process\n",
    "\n",
    "$$\n",
    "    d X(t)=k(\\theta-X(t)) d t+\\eta d W(t)\n",
    "$$\n",
    "\n",
    "where $k$ is the rate of reversion, $\\eta$ is the standard deviation and\n",
    "$\\theta$ is the long-term equilibrium level to which the spread reverts.\n",
    "\n",
    "$\\rho$ denotes the instantaneous correlation coefficient between $Z(t)$ and $W(t)$.\n",
    "\n",
    "Let $V(t)$ be the value of a self-financing pairs-trading portfolio and\n",
    "let $h(t)$ and $-h(t)$ denote respectively the\n",
    "portfolio weights for stocks $A$ and $B$ at time $t$.\n",
    "\n",
    "\n",
    "The wealth dynamics of the portfolio value is given by,\n",
    "\n",
    "$$\n",
    "    d V(t)= V(t)\\left\\{\\left[h(t)\\left(k(\\theta-X(t))+\\frac{1}{2} \\eta^{2}+\\rho \\sigma \\eta\\right)+\n",
    "    r\\right] d t+\\eta d W(t)\\right\\}\n",
    "$$\n",
    "\n",
    "\n",
    "Given below is the formulation of the portfolio optimization pair-trading problem\n",
    "as a stochastic optimal control problem. The authors assume that an investor’s preference\n",
    "can be represented by the utility function $U(x) = \\frac{1}{\\gamma} x^\\gamma$\n",
    "with $x ≥ 0$ and $\\gamma < 1$. In this formulation, our objective is to maximize expected utility at\n",
    "the final time $T$. Thus, the authors seek to solve\n",
    "\n",
    "\n",
    "$$\n",
    "    \\begin{aligned}\n",
    "    \\sup _{h(t)} \\quad & E\\left[\\frac{1}{\\gamma}(V(T))^{\\gamma}\\right] \\\\[0.8em]\n",
    "    \\text { subject to: } \\quad & V(0)=v_{0}, \\quad X(0)=x_{0} \\\\[0.5em]\n",
    "    d X(t)=& k(\\theta-X(t)) d t+\\eta d W(t) \\\\\n",
    "    d V(t)=& V(t)((h(t)(k(\\theta-X(t))+\\frac{1}{2} \\eta^{2}\\\\\n",
    "    &+\\rho \\sigma \\eta)+r) d t+\\eta d W(t))\n",
    "    \\end{aligned}\n",
    "$$\n",
    "\n",
    "Finally, the optimal weights are given by,\n",
    "\n",
    "$$\n",
    "    h^{*}(t, x)=\\frac{1}{1-\\gamma}\\left[\\beta(t)+2 x \\alpha(t)-\\frac{k(x-\\theta)}{\\eta^{2}}+\n",
    "    \\frac{\\rho \\sigma}{\\eta}+\\frac{1}{2}\\right]\n",
    "$$\n"
   ]
  },
  {
   "cell_type": "markdown",
   "id": "waiting-organ",
   "metadata": {},
   "source": [
    "---"
   ]
  },
  {
   "cell_type": "markdown",
   "id": "favorite-assignment",
   "metadata": {},
   "source": [
    "## How to use this submodule\n",
    "\n",
    "This submodule contains two public methods. One for estimating the parameters of the model using training data,\n",
    "and the second method is for calculating the final optimal portfolio weights using evaluation data.\n"
   ]
  },
  {
   "cell_type": "markdown",
   "id": "former-youth",
   "metadata": {},
   "source": [
    "### Imports and Loading the dataset"
   ]
  },
  {
   "cell_type": "markdown",
   "id": "noted-crest",
   "metadata": {},
   "source": [
    "We use the $GLD$ and $GDX$ tickers daily close prices as our dataset. The training data comprises of data from years $2010$ to $2017$. The optimal weights are calculated on data from $2018$ to $2020$."
   ]
  },
  {
   "cell_type": "code",
   "execution_count": 3,
   "id": "serious-cycle",
   "metadata": {},
   "outputs": [
    {
     "name": "stdout",
     "output_type": "stream",
     "text": [
      "[*********************100%***********************]  2 of 2 completed\n",
      "[*********************100%***********************]  2 of 2 completed\n"
     ]
    }
   ],
   "source": [
    "# Importing required modules\n",
    "import matplotlib.pyplot as plt\n",
    "import pandas as pd\n",
    "import yfinance as yf\n",
    "\n",
    "from arbitragelab.stochastic_control_approach.ou_model_mudchanatongsuk import OUModelMudchanatongsuk\n",
    "\n",
    "# Importing GLD and GDX daily prices from yfinance\n",
    "data1 =  yf.download(\"GLD GDX\", start=\"2010-01-01\", end=\"2017-12-31\")\n",
    "data2 =  yf.download(\"GLD GDX\", start=\"2018-01-01\", end=\"2020-08-15\")\n",
    "\n",
    "# Using the Adj Close prices for our dataset\n",
    "data_train_dataframe = data1[\"Adj Close\"][[\"GLD\", \"GDX\"]]\n",
    "data_test_dataframe = data2[\"Adj Close\"][[\"GLD\", \"GDX\"]]"
   ]
  },
  {
   "cell_type": "markdown",
   "id": "authentic-motel",
   "metadata": {},
   "source": [
    "### Fitting the model\n",
    "\n",
    "\n",
    "We input the training data to the fit method which calculates the spread\n",
    "and the estimators of the parameters of the model.\n",
    "\n",
    "\n",
    "***\n",
    "Although the paper provides closed form solutions for parameter estimation,\n",
    "    this module uses log-likelihood maximization to estimate the parameters as we found the closed form solutions provided to be unstable.\n",
    "\n",
    "***"
   ]
  },
  {
   "cell_type": "code",
   "execution_count": 4,
   "id": "advance-things",
   "metadata": {},
   "outputs": [],
   "source": [
    "# Creating an object of the Mudchanatongsuk class\n",
    "sc = OUModelMudchanatongsuk()\n",
    "\n",
    "# Calling the fit method on the train dataset\n",
    "sc.fit(data_train_dataframe)"
   ]
  },
  {
   "cell_type": "markdown",
   "id": "conventional-steam",
   "metadata": {},
   "source": [
    " To view the estimated model parameters from training data, we can use the `describe` function in the class object."
   ]
  },
  {
   "cell_type": "code",
   "execution_count": 5,
   "id": "occupational-rescue",
   "metadata": {},
   "outputs": [
    {
     "data": {
      "text/html": [
       "<div>\n",
       "<style scoped>\n",
       "    .dataframe tbody tr th:only-of-type {\n",
       "        vertical-align: middle;\n",
       "    }\n",
       "\n",
       "    .dataframe tbody tr th {\n",
       "        vertical-align: top;\n",
       "    }\n",
       "\n",
       "    .dataframe thead th {\n",
       "        text-align: right;\n",
       "    }\n",
       "</style>\n",
       "<table border=\"1\" class=\"dataframe\">\n",
       "  <thead>\n",
       "    <tr style=\"text-align: right;\">\n",
       "      <th></th>\n",
       "      <th>Values</th>\n",
       "    </tr>\n",
       "  </thead>\n",
       "  <tbody>\n",
       "    <tr>\n",
       "      <th>Ticker of first stock</th>\n",
       "      <td>GLD</td>\n",
       "    </tr>\n",
       "    <tr>\n",
       "      <th>Ticker of second stock</th>\n",
       "      <td>GDX</td>\n",
       "    </tr>\n",
       "    <tr>\n",
       "      <th>long-term mean of spread</th>\n",
       "      <td>1.8269</td>\n",
       "    </tr>\n",
       "    <tr>\n",
       "      <th>rate of mean reversion of spread</th>\n",
       "      <td>0.276151</td>\n",
       "    </tr>\n",
       "    <tr>\n",
       "      <th>standard deviation of spread</th>\n",
       "      <td>0.281201</td>\n",
       "    </tr>\n",
       "    <tr>\n",
       "      <th>half-life of spread</th>\n",
       "      <td>2.51003</td>\n",
       "    </tr>\n",
       "    <tr>\n",
       "      <th>Drift of stock B</th>\n",
       "      <td>-0.00466583</td>\n",
       "    </tr>\n",
       "    <tr>\n",
       "      <th>standard deviation of stock B</th>\n",
       "      <td>0.384117</td>\n",
       "    </tr>\n",
       "  </tbody>\n",
       "</table>\n",
       "</div>"
      ],
      "text/plain": [
       "                                      Values\n",
       "Ticker of first stock                    GLD\n",
       "Ticker of second stock                   GDX\n",
       "long-term mean of spread              1.8269\n",
       "rate of mean reversion of spread    0.276151\n",
       "standard deviation of spread        0.281201\n",
       "half-life of spread                  2.51003\n",
       "Drift of stock B                 -0.00466583\n",
       "standard deviation of stock B       0.384117"
      ]
     },
     "metadata": {},
     "output_type": "display_data"
    }
   ],
   "source": [
    "display(pd.DataFrame(sc.describe(), columns=['Values']))"
   ]
  },
  {
   "cell_type": "markdown",
   "id": "textile-melissa",
   "metadata": {},
   "source": [
    "### Generating the Optimal Portfolio Weights\n",
    "\n",
    "\n",
    "In this step we input the out-of-sample test data to calculate the optimal portfolio weights using the fitted model and specify the utility function parameter $\\gamma$.\n",
    "\n",
    "***\n",
    "    As noted in the paper, please make sure the value of gamma is less than 1.\n",
    "***"
   ]
  },
  {
   "cell_type": "code",
   "execution_count": 6,
   "id": "excited-emerald",
   "metadata": {
    "scrolled": false
   },
   "outputs": [
    {
     "data": {
      "image/png": "[encoded data removed]",
      "text/plain": [
       "<Figure size 720x432 with 1 Axes>"
      ]
     },
     "metadata": {
      "needs_background": "light"
     },
     "output_type": "display_data"
    }
   ],
   "source": [
    "# In this example, we consider gamma = -100\n",
    "\n",
    "# Plotting the portfolio weights of the spread asset\n",
    "plt.figure(figsize=(10, 6))\n",
    "plt.plot(data_test_dataframe.index, sc.optimal_portfolio_weights(data_test_dataframe, gamma = -100), 'c-')\n",
    "plt.title(\"Optimal allocaton to the spread asset\")\n",
    "plt.ylabel(\"Weights\")\n",
    "plt.xlabel(\"Date\")\n",
    "plt.show()"
   ]
  },
  {
   "cell_type": "markdown",
   "id": "asian-alloy",
   "metadata": {},
   "source": [
    "Shown below is a plot of the pricing data of the two assets used to calculate the optimal portfolio weights."
   ]
  },
  {
   "cell_type": "code",
   "execution_count": 7,
   "id": "designing-employee",
   "metadata": {
    "scrolled": false
   },
   "outputs": [
    {
     "data": {
      "image/png": "[encoded data removed]",
      "text/plain": [
       "<Figure size 720x432 with 1 Axes>"
      ]
     },
     "metadata": {
      "needs_background": "light"
     },
     "output_type": "display_data"
    }
   ],
   "source": [
    "data_test_dataframe.plot(figsize=(10, 6));"
   ]
  },
  {
   "cell_type": "markdown",
   "id": "floral-cabin",
   "metadata": {},
   "source": [
    "---"
   ]
  },
  {
   "cell_type": "markdown",
   "id": "spanish-handbook",
   "metadata": {},
   "source": [
    "## Conclusion\n",
    "\n"
   ]
  },
  {
   "cell_type": "markdown",
   "id": "opposite-miami",
   "metadata": {},
   "source": [
    "## References\n",
    "\n",
    "* [Optimal pairs trading: A stochastic control approach. (2008)](http://folk.ntnu.no/skoge/prost/proceedings/acc08/data/papers/0479.pdf) by Mudchanatongsuk, S., Primbs, J.A. and Wong, W."
   ]
  }
 ],
 "metadata": {
  "kernelspec": {
   "display_name": "Python 3",
   "language": "python",
   "name": "python3"
  },
  "language_info": {
   "codemirror_mode": {
    "name": "ipython",
    "version": 3
   },
   "file_extension": ".py",
   "mimetype": "text/x-python",
   "name": "python",
   "nbconvert_exporter": "python",
   "pygments_lexer": "ipython3",
   "version": "3.8.8"
  }
 },
 "nbformat": 4,
 "nbformat_minor": 5
}

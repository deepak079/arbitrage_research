{
 "cells": [
  {
   "cell_type": "markdown",
   "metadata": {},
   "source": [
    "* Reference: __A Machine Learning based Pairs Trading Investment Strategy__ by _Armento_ and _Nuno_ _Horta_"
   ]
  },
  {
   "cell_type": "markdown",
   "metadata": {},
   "source": [
    "# Time Series appoach"
   ]
  },
  {
   "cell_type": "markdown",
   "metadata": {},
   "source": [
    "## Introduction"
   ]
  },
  {
   "cell_type": "markdown",
   "metadata": {},
   "source": [
    "Usually, when mean-reverting spread is constructed, a researcher will use Z-score Bollinger Band strategy to trade a portfolio. However, timeseries appoach may be applied to model the spread dynamics and enter long/short spread positions."
   ]
  },
  {
   "cell_type": "markdown",
   "metadata": {},
   "source": [
    "## Modelling the spread difference\n",
    "\n",
    "- Firstly, let's define a spread in 2-dimensional space as $$S_t = Y_t - \\beta X_t$$ Parameter $\\beta$ can be define by either using Engle-Granger or Johansen cointegration appoach.\n",
    "- Secondly, we need to come-up with a spread prediction model - it can be ARIMA, ANN, RNN or other time series prediction model. Let's define spread prediction at time $t$ as $\\hat S_t$.\n",
    "- On the third step, we split spread differences $S_t - S_{t-1}$ into positive ($f_{+}$) and negative ($f_{-}$). We define bottom negative differences quantile as $Q_{f_{-}}$ and top positive differences quantile as $Q_{f_{+}}$.\n",
    "\n",
    "## Quantile-based trading\n",
    "In time series approach our trading rule can be described as $$(\\hat S_{t+1} - S_{t}) \\geq Q_{f_{+}} \\Rightarrow OPEN LONG $$ $$ (\\hat S_{t+1} - S_{t}) \\leq Q_{f_{-}} \\Rightarrow OPEN SHORT $$ $$0 \\leq \\hat S_{t+1} - S_{t} \\leq Q_{f_{+}} \\Rightarrow HOLDLONG$$ $$Q_{f_{-}} \\leq \\hat S_{t+1} - S_{t} \\leq 0 \\Rightarrow HOLDSHORT$$. \n",
    "\n",
    "- OPENLONG/OPENSHORT means opening a new long/short position if none was opened before.\n",
    "- HOLDLONG/HOLDSHORT means holding long/short positions if one was opened before.\n",
    "- We should exit long position if HOLDLONG condition was not satisfied, we should exit short position if HOLDSHORT condition was not satisfied.\n",
    "\n",
    "**Note**: we use __90%__ and __5%__ quantiles for top positive and bottom negative quantiles thresholds respectively and 0 value as exit threshold, however the researcher may decide what are the most optimal paramaters based on specific strategy."
   ]
  },
  {
   "cell_type": "markdown",
   "metadata": {},
   "source": [
    "## Spread prediction model\n",
    "\n",
    "In the notebook, we use __Auto ARIMA(p, d, q)__ approach to generate spread predictions. \n",
    "Non-seasonal ARIMA models are generally denoted ARIMA(p,d,q) where parameters p, d, and q are non-negative integers, __p__ is the order (number of time lags) of the autoregressive model, __d__ is the degree of differencing (the number of times the data have had past values subtracted), and __q__ is the order of the moving-average model.\n",
    "In order to choose, best fit ARIMA model parameters we minimize **Akaike information criterion (AIC)** value: $$AIC = 2k - 2ln(L)$$ where $k$ - number of model parameters and $L$ - likelihood function.\n",
    "\n",
    "As a part of arbitragelab, we have auto arima fit and prediction module which utilizes **pmdarima** package to find the best model fit."
   ]
  },
  {
   "cell_type": "markdown",
   "metadata": {},
   "source": [
    "## Usage of the Algorithms"
   ]
  },
  {
   "cell_type": "markdown",
   "metadata": {},
   "source": [
    "Let's use the algorithm described above and its performance to Bollinger Bands Z-score strategy. \n",
    "\n",
    "- Firstly, we will use Engle-Granger to construct mean-reverting portfolio. \n",
    "- Secondly, we will fit Auto ARIMA model and generate predictions.\n",
    "- On the third step, we will model spread differences and find trading thresholds.\n",
    "- Finally, we will generate trading signals using Auto ARIMA and fit thresholds."
   ]
  },
  {
   "cell_type": "code",
   "execution_count": null,
   "metadata": {},
   "outputs": [],
   "source": [
    "import arbitragelab as al\n",
    "import numpy as np\n",
    "import pandas as pd\n",
    "import yfinance as yf\n",
    "import matplotlib.pyplot as plt\n",
    "import warnings\n",
    "warnings.filterwarnings('ignore')"
   ]
  },
  {
   "cell_type": "markdown",
   "metadata": {},
   "source": [
    "### Loading data"
   ]
  },
  {
   "cell_type": "markdown",
   "metadata": {},
   "source": [
    "Following the example in the Optimal Mean Reversion module, we will use Gold Shares ETF (GLD), Gold Miners ETF (GDX), and Junior Gold Miners ETF (GDXJ) to construct a portfolio of three elements."
   ]
  },
  {
   "cell_type": "code",
   "execution_count": null,
   "metadata": {},
   "outputs": [],
   "source": [
    "# Loading data\n",
    "train_data =  yf.download(\"GLD GDX GDXJ\", start=\"2016-01-01\", end=\"2018-01-01\")\n",
    "test_data =  yf.download(\"GLD GDX GDXJ\", start=\"2018-01-02\", end=\"2020-01-01\")\n",
    "\n",
    "# Taking close prices for chosen instruments\n",
    "train_three_elements = train_data[\"Adj Close\"][[\"GLD\", \"GDX\", \"GDXJ\"]]\n",
    "\n",
    "test_three_elements = test_data[\"Adj Close\"][[\"GLD\", \"GDX\", \"GDXJ\"]]\n",
    "\n",
    "# Looking at the downloaded data\n",
    "train_three_elements.head()"
   ]
  },
  {
   "cell_type": "markdown",
   "metadata": {},
   "source": [
    "### Engle-Granger test"
   ]
  },
  {
   "cell_type": "code",
   "execution_count": null,
   "metadata": {},
   "outputs": [],
   "source": [
    "# Initialising an object containing needed methods\n",
    "eg_portfolio = al.cointegration_approach.EngleGrangerPortfolio()\n",
    "\n",
    "# Fitting the data on a dataset of three elements with constant term\n",
    "eg_portfolio.fit(train_three_elements, add_constant=True)\n",
    "\n",
    "# Getting results of the Engle-Granger test\n",
    "eg_adf_statistics = eg_portfolio.adf_statistics\n",
    "eg_cointegration_vectors = eg_portfolio.cointegration_vectors"
   ]
  },
  {
   "cell_type": "code",
   "execution_count": null,
   "metadata": {},
   "outputs": [],
   "source": [
    "# Looking at the statistic from the last step of the Engle-Granger test\n",
    "eg_adf_statistics"
   ]
  },
  {
   "cell_type": "markdown",
   "metadata": {},
   "source": [
    "Using the ADF statistic test output, we can see that our statistic is above the 95% significance level value.\n",
    "\n",
    "So at a 95% significance level, our elements are cointegrated, we can construct a mean-reverting portfolio using the coefficients from the *eg_cointegration_vectors* variable."
   ]
  },
  {
   "cell_type": "code",
   "execution_count": null,
   "metadata": {},
   "outputs": [],
   "source": [
    "eg_cointegration_vectors"
   ]
  },
  {
   "cell_type": "markdown",
   "metadata": {},
   "source": [
    "As described in the theoretical part, the coefficient for the first element is $1$, while other two are equal to negative regression coefficients."
   ]
  },
  {
   "cell_type": "markdown",
   "metadata": {},
   "source": [
    "### Constructing portfolios"
   ]
  },
  {
   "cell_type": "code",
   "execution_count": null,
   "metadata": {},
   "outputs": [],
   "source": [
    "# Calculating returns of our elements (ETFs)\n",
    "train_three_elements_returns = (train_three_elements / train_three_elements.shift(1) - 1)[1:]\n",
    "test_three_elements_returns = (test_three_elements / test_three_elements.shift(1) - 1)[1:]\n",
    "\n",
    "train_three_elements_returns.head()"
   ]
  },
  {
   "cell_type": "code",
   "execution_count": null,
   "metadata": {},
   "outputs": [],
   "source": [
    "# Also adding weights to take initial prices of our ETFs into account\n",
    "weights  = train_three_elements.iloc[0] / abs(train_three_elements.iloc[0]).sum()"
   ]
  },
  {
   "cell_type": "code",
   "execution_count": null,
   "metadata": {},
   "outputs": [],
   "source": [
    "# Weights of elements for the Engle-Granger portfolio\n",
    "eg_cointegration_vectors.loc[0]"
   ]
  },
  {
   "cell_type": "code",
   "execution_count": null,
   "metadata": {},
   "outputs": [],
   "source": [
    "# Scaling weights so they sum up to 1\n",
    "eg_scaled_vectors = eg_cointegration_vectors.loc[0] / abs(eg_cointegration_vectors.loc[0]).sum()\n",
    "\n",
    "eg_scaled_vectors"
   ]
  },
  {
   "cell_type": "code",
   "execution_count": null,
   "metadata": {},
   "outputs": [],
   "source": [
    "# Calculating portfolio values during the training period\n",
    "eg_portfolio_returns = (train_three_elements_returns * eg_scaled_vectors * weights).sum(axis=1)\n",
    "eg_portfolio_price = (eg_portfolio_returns + 1).cumprod()"
   ]
  },
  {
   "cell_type": "code",
   "execution_count": null,
   "metadata": {},
   "outputs": [],
   "source": [
    "# Plotting Engle-Granger portfolio price\n",
    "eg_portfolio_price.plot(title='Engle-Granger portfolio price', figsize=(10,5));"
   ]
  },
  {
   "cell_type": "markdown",
   "metadata": {},
   "source": [
    "### Fit and generate in-sample Auto ARIMA predictions"
   ]
  },
  {
   "cell_type": "code",
   "execution_count": null,
   "metadata": {},
   "outputs": [],
   "source": [
    "arima_model = AutoARIMAForecast(start_p=1, start_q=1)\n",
    "#arima = ml.auto_arima.AutoARIMAForecast()"
   ]
  },
  {
   "cell_type": "code",
   "execution_count": null,
   "metadata": {},
   "outputs": [],
   "source": [
    "arima_model.get_best_arima_model(y_train=eg_portfolio_price, verbose=True)"
   ]
  },
  {
   "cell_type": "code",
   "execution_count": null,
   "metadata": {},
   "outputs": [],
   "source": [
    "# Generate in-sample predictions\n",
    "is_prediction = arima_model.predict(y=eg_portfolio_price)"
   ]
  },
  {
   "cell_type": "code",
   "execution_count": null,
   "metadata": {},
   "outputs": [],
   "source": [
    "eg_portfolio_price.plot(title='Engle-Granger portfolio price', figsize=(10,5))\n",
    "is_prediction.plot(title='In-sample Auto ARIMA predictions vs Real values', figsize=(10,5));"
   ]
  },
  {
   "cell_type": "markdown",
   "metadata": {},
   "source": [
    "### Get trading thresholds (quantiles)"
   ]
  },
  {
   "cell_type": "code",
   "execution_count": null,
   "metadata": {},
   "outputs": [],
   "source": [
    "eg_portfolio_price.diff().plot(title='Portfolio differences', figsize=(10,5));"
   ]
  },
  {
   "cell_type": "code",
   "execution_count": null,
   "metadata": {},
   "outputs": [],
   "source": [
    "time_series_trading = al.other_approaches.QuantileTimeSeriesTradingStrategy() # Init strategy class\n",
    "time_series_trading.fit_thresholds(eg_portfolio_price) # Fit portfilio to find Q_{-} and Q_{+}"
   ]
  },
  {
   "cell_type": "code",
   "execution_count": null,
   "metadata": {},
   "outputs": [],
   "source": [
    "# Plot thresholds used for trading.\n",
    "time_series_trading.plot_thresholds()"
   ]
  },
  {
   "cell_type": "markdown",
   "metadata": {},
   "source": [
    "### Generate out-of-sample ARIMA predictions"
   ]
  },
  {
   "cell_type": "code",
   "execution_count": null,
   "metadata": {},
   "outputs": [],
   "source": [
    "# Creating a test portfolio based on the EG test results\n",
    "test_three_elements_returns = (test_three_elements / test_three_elements.shift(1) - 1)[1:]\n",
    "\n",
    "# Also adding weights to take initial prices of ETFs into account\n",
    "weights  = test_three_elements.iloc[0] / abs(test_three_elements.iloc[0]).sum()\n",
    "\n",
    "test_portfolio_returns = (test_three_elements_returns * eg_scaled_vectors * weights).sum(axis=1)\n",
    "\n",
    "test_portfolio_price = (test_portfolio_returns + 1).cumprod()"
   ]
  },
  {
   "cell_type": "code",
   "execution_count": null,
   "metadata": {},
   "outputs": [],
   "source": [
    "# Generate ouf-of-sample ARIMA prediction\n",
    "oos_prediction = arima_model.predict(y=test_portfolio_price, train_window=200)"
   ]
  },
  {
   "cell_type": "code",
   "execution_count": null,
   "metadata": {},
   "outputs": [],
   "source": [
    "# Compare results\n",
    "test_portfolio_price.plot(title='Engle-Granger OOS portfolio price', figsize=(10,5))\n",
    "oos_prediction.plot(title='Out-of-sample Auto ARIMA predictions vs Real values', figsize=(10,5));"
   ]
  },
  {
   "cell_type": "markdown",
   "metadata": {},
   "source": [
    "### Applying Bollinger Bands trading strategy"
   ]
  },
  {
   "cell_type": "markdown",
   "metadata": {},
   "source": [
    "This trading strategy requires defining entry and exit Z-scores. Let's choose the entry Z-score - upon which the strategy will enter a short position, going short one unit of a portfolio. This position will be closed once the exit Z-score will be reached and the position of the opposite side will be opened.\n",
    "\n",
    "In our example, we will be using an entry Z-score of 2 and an exit Z-score of -2."
   ]
  },
  {
   "cell_type": "code",
   "execution_count": null,
   "metadata": {},
   "outputs": [],
   "source": [
    "# Importing the needed function\n",
    "from arbitragelab.cointegration_approach import bollinger_bands_trading_strategy"
   ]
  },
  {
   "cell_type": "code",
   "execution_count": null,
   "metadata": {},
   "outputs": [],
   "source": [
    "# Applying Bollinger Bands trading strategy\n",
    "bollinger_trading_results = bollinger_bands_trading_strategy(test_portfolio_price,\n",
    "                                                 sma_window = int(j_half_life),\n",
    "                                                 std_window = int(j_half_life),\n",
    "                                                 entry_z_score=2,\n",
    "                                                 exit_z_score=-2)\n",
    "\n",
    "bollinger_trading_results.tail()"
   ]
  },
  {
   "cell_type": "code",
   "execution_count": null,
   "metadata": {},
   "outputs": [],
   "source": [
    "# Plotting the results\n",
    "fig, axs = plt.subplots(2, 1, gridspec_kw={'height_ratios': [3, 1]}, figsize=(10,7))\n",
    "fig.suptitle('Bollinger Bands trading strategy results')\n",
    "\n",
    "axs[0].plot(bollinger_trading_results.iloc[:,0])\n",
    "axs[0].title.set_text('Portfolio price')\n",
    "\n",
    "axs[1].plot(bollinger_trading_results.iloc[:,2], '#b11a21')\n",
    "axs[1].title.set_text('Number of portfolio units to hold')"
   ]
  },
  {
   "cell_type": "markdown",
   "metadata": {},
   "source": [
    "Again, the upper graph shows the price of a mean-reverting portfolio - the same price series that were used as an input to the bollinger_bands_trading_strategy function. The lower graph shows the target amount of portfolio units to hold at any given time. Note that the amount invested is limited to 1 portfolio unit - long or short.\n",
    "\n",
    "From the above example, the Bollinger Bands strategy is generating multiple signals to open long and short positions on our mean-revering portfolio.\n",
    "\n",
    "Let's calculate the equity curve of our portfolio, if we would use this trading strategy on this data. We should shift the trading signals one observation ahead to avoid the lookahead bias in this example."
   ]
  },
  {
   "cell_type": "code",
   "execution_count": null,
   "metadata": {},
   "outputs": [],
   "source": [
    "# Calculating the price of our investment portfolio\n",
    "investment_portfolio_retunrs = test_portfolio_returns * bollinger_trading_results.iloc[:,2].shift(1)\n",
    "\n",
    "investment_portfolio_price = (investment_portfolio_retunrs + 1).cumprod()"
   ]
  },
  {
   "cell_type": "code",
   "execution_count": null,
   "metadata": {},
   "outputs": [],
   "source": [
    "# Calculating the equity curve of our investment portfolio\n",
    "investment_portfolio_equity_curve = investment_portfolio_price - 1\n",
    "\n",
    "# Plotting the equity curve\n",
    "investment_portfolio_equity_curve.plot(title='Bollinger Bands investemnt portfolio equity curve', figsize=(10,5));"
   ]
  },
  {
   "cell_type": "markdown",
   "metadata": {},
   "source": [
    "Using trading signals from the Bollinger Bands strategy for this particular example resulted in the value of our investment portfolio increasing from 1 in mid-September 2018 to around 1.01 at the beginning of the year 2020.\n",
    "\n",
    "We can further test this strategy by choosing different entry and exit Z-scores, or adding transaction costs to see if the strategy is robust."
   ]
  },
  {
   "cell_type": "markdown",
   "metadata": {},
   "source": [
    "## Conclusion"
   ]
  },
  {
   "cell_type": "markdown",
   "metadata": {},
   "source": [
    "This notebook describes the Mean Reversion module tools - cointegration tests and trading strategies. Also, it shows how these tools can be used on real data and that they can output profitable trading signals.\n",
    "\n",
    "The algorithms and the descriptions used in this notebook were described by _Ernest P. Chan_ in the book __Algorithmic Trading: Winning Strategies and Their Rationale__  [available here](https://www.wiley.com/en-us/Algorithmic+Trading%3A+Winning+Strategies+and+Their+Rationale-p-9781118460146).\n",
    "\n",
    "Key takeaways from the notebook:\n",
    "\n",
    "- Mean-reverting processes tend to move to their average value over time. However, most financial price series are not mean-reverting.\n",
    "- Financial instruments can be combined in a portfolio that has mean-reverting properties.\n",
    "- ADF test allows testing if the next price move depends on the current price level.\n",
    "- Half-life of a mean-reverting process indicates how long it takes for a price to mean revert.\n",
    "- Both Johansen and Engle-Granger cointegration tests allow testing if we can construct a mean-reverting portfolio out of multiple price series, and if so, which combination of these elements should we use to construct a portfolio.\n",
    "- Constructed portfolios can be used in the Linear and Bollinger Bands trading strategies.\n",
    "- The Bollinger Bands  strategy  deals with the issues present in the linear strategy: infinitesimal portfolio rebalances and no predefined buying power."
   ]
  }
 ],
 "metadata": {
  "kernelspec": {
   "display_name": "Python 3",
   "language": "python",
   "name": "python3"
  },
  "language_info": {
   "codemirror_mode": {
    "name": "ipython",
    "version": 3
   },
   "file_extension": ".py",
   "mimetype": "text/x-python",
   "name": "python",
   "nbconvert_exporter": "python",
   "pygments_lexer": "ipython3",
   "version": "3.7.6"
  }
 },
 "nbformat": 4,
 "nbformat_minor": 4
}

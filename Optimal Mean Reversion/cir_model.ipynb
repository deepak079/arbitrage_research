{
 "cells": [
  {
   "cell_type": "markdown",
   "metadata": {},
   "source": [
    "* References:  **Tim Leung and Xin Li** - *Optimal Mean reversion Trading: Mathematical Analysis and Practical Applications (2015)*"
   ]
  },
  {
   "cell_type": "markdown",
   "metadata": {},
   "source": [
    "## Abstract\n",
    "\n",
    "The Cox-Ingersoll-Ross model or CIR model is a process mostly used in mathematical finance to describe the evolution of interest rates. It was first introduced in 1985 by John C. Cox, Jonathan E. Ingersoll and Stephen A. Ross as an extension of the Vasicek model. \n",
    "\n",
    "Tim Leung, Xin Li in \"Optimal Mean reversion Trading: Mathematical Analysis and Practical Applications\" (2015) present the solution to the optimal timing problems for one-time entering and liquidating the position and also provide the ability to find optimal levels for an infinite amount of trades based on CIR process.\n",
    "\n",
    "The following implementations and descriptions closely follow the work of Tim Leung: Tim Leung and Xin Li Optimal Mean reversion Trading: Mathematical Analysis and Practical Applications. Data used to showcase the module was chosen based on the example in the publication."
   ]
  },
  {
   "cell_type": "markdown",
   "metadata": {},
   "source": [
    "## Cox-Ingersoll-Ross model"
   ]
  },
  {
   "cell_type": "markdown",
   "metadata": {},
   "source": [
    "A CIR process satisfies the following stochastic differential equation:\n",
    "$$dY_t = \\mu(\\theta - Y_t)dt + \\sigma \\sqrt{Y_t} dB_t,$$\n",
    "\n",
    "$$\\theta, \\mu, \\sigma > 0,$$\n",
    "$$B\\ -\\text{a standard Brownian motion}$$"
   ]
  },
  {
   "cell_type": "markdown",
   "metadata": {},
   "source": [
    "* $\\theta$ − long term mean level, all future trajectories of Y will evolve around a mean level 𝜃 in the long run.\n",
    "\n",
    "* $\\mu$ - speed of reversion, characterizes the velocity at which such trajectories will regroup around $\\theta$ in time.\n",
    "\n",
    "* $\\sigma$ - instantaneous volatility, measures instant by instant the amplitude of randomness entering the system. Higher values imply more randomness.\n"
   ]
  },
  {
   "cell_type": "markdown",
   "metadata": {},
   "source": [
    "The standard deviation factor, $\\sigma \\sqrt {Y_{t}}$, avoids the possibility of negative $Y_{t}$ values for all positive values of a $\\theta$ and $\\mu$."
   ]
  },
  {
   "cell_type": "markdown",
   "metadata": {},
   "source": [
    "To fit the model to given data we define the log-likelihood function as in Borodin and Salminen (2002):\n",
    "\n",
    "$$ \\ell (\\theta,\\mu,\\sigma|y_0,y_1,\\cdots,y_n) := \\frac{1}{n}\\sum_{i=1}^{n} ln\n",
    "    f^{CIR}(y_i|y_{i-1};\\theta,\\mu,\\sigma)$$"
   ]
  },
  {
   "cell_type": "markdown",
   "metadata": {},
   "source": [
    "$$= -ln(\\tilde{\\sigma}) - \\frac{1}{n\\tilde{\\sigma}}\\sum_{i=1}^{n} [y_i +y_{i-1}e^{-\\mu \\Delta t}] - \\frac{1}{n} \\sum_{i=1}^{n} [\\frac{q}{2}ln(\\frac{y_i}{y_{i-1}e^{-\\mu\\Delta t}}) - ln I_q(\\frac{2}{\\tilde{\\sigma}^2}\\sqrt{y_i y_{i-1}e^{-\\mu\\Delta t}})$$"
   ]
  },
  {
   "cell_type": "markdown",
   "metadata": {},
   "source": [
    "By applying the maximum likelihood estimation(MLE) method we are able to determine\n",
    "the parameters of the model and fit the observed portfolio prices to a CIR process."
   ]
  },
  {
   "cell_type": "markdown",
   "metadata": {},
   "source": [
    "## Optimal stopping problem\n",
    "\n",
    "> This approach presumes that the investor wants to commit only two trades: entering the position, and\n",
    "    liquidating it.\n",
    "\n",
    "Suppose the investor already has the position the value process of which $(Y_t)_{t>0}$ follows the CIR process. After liquidating the position at the time $\\tau$ e receives the value $(Y_{\\tau})$ and pays a\n",
    "constant transaction cost $c_s \\in \\mathbb{R}$ To maximize the expected discounted value we need to solve\n",
    "the optimal stopping problem:"
   ]
  },
  {
   "cell_type": "markdown",
   "metadata": {},
   "source": [
    "$$ V^{\\chi}(y) = \\underset{\\tau \\in T}{\\sup} \\mathbb{E}({e^{-r \\tau} (Y_{\\tau} - c_s)| Y_0 = y})$$\n",
    "\n",
    "where $T$ denotes the set of all possible stopping times and $r > 0$ is our subjective constant\n",
    "discount rate. $V^{\\chi}(y)$ represents the expected liquidation value accounted with y.\n",
    "\n",
    "Current price plus transaction cost  constitute the cost of entering the trade and in combination with $V^{\\chi}(y)$\n",
    "we can formalize the optimal entry problem:\n",
    "\n",
    "\n",
    "$$J^{\\chi}(y) = \\underset{\\nu \\in T}{\\sup} \\mathbb{E}({e^{-\\hat{r} \\tau} (V^{\\chi}(Y_{\\nu}) - Y_{\\nu} - c_b)| Y_0 = y})$$\n",
    "\n",
    "with\n",
    "\n",
    "$$\\hat{r}>0,\\ c_b \\in \\mathbb{R}$$\n",
    "\n",
    "As an investor our goal is to maximize the expected difference between the current price\n",
    "of the position - $Y_{\\nu}$ and its' expected liquidation value $V^{\\chi}(Y_{\\nu})$ minus transaction cost\n",
    "$c_b$"
   ]
  },
  {
   "cell_type": "markdown",
   "metadata": {},
   "source": [
    "### The solutions:"
   ]
  },
  {
   "cell_type": "markdown",
   "metadata": {},
   "source": [
    "\n",
    "Theorem 4.2 (p.85):\n",
    "\n",
    "**The optimal liquidation problem admits the solution:**\n",
    "\n",
    "$$\n",
    "    V^{\\chi}(x) = \\begin{cases} (b^{\\chi*} - c_s) \\frac{F^{\\chi}(x)}{F^{\\chi}(b^{\\chi*})} , & \\mbox{if } x \\in [0,b^{\\chi*})\\\\\n",
    "    \\\\x - c_s, &  \\mbox{ otherwise}  \\end{cases}\\\\\n",
    "$$\n",
    "\n",
    "The optimal liquidation level $b^{\\chi*}$ is found from the equation:\n",
    "\n",
    "$$F^{\\chi} (b^{\\chi}) - (b^{\\chi} - c_s)F'^{\\chi}(b^{\\chi}) = 0$$\n",
    "\n",
    "Corresponding optimal liquidation time is given by\n",
    "\n",
    "$$\\tau^{\\chi*} = inf [t\\geq0:Y_t \\geq b^{\\chi*}]$$\n",
    "\n",
    "Theorem 4.4 (p.86):\n",
    "\n",
    "**The optimal entry timing problem admits the solution:**\n",
    "\n",
    "$$\n",
    "    J(x) = \\begin{cases} V^{\\chi}(x) - x - c_b, & \\mbox{if } x \\in [0,d^{\\chi*}) \\\\\n",
    "    \\\\\\frac{V^{\\chi}(d^{\\chi*}) - d^{\\chi*} - c_b}{\\hat{G^{\\chi}}(d^{\\chi*})}, & \\mbox{if } x \\in (d^{\\chi*}, \\infty)  \\end{cases}\n",
    "$$\n",
    "\n",
    "The optimal entry level $d^{\\chi*}$ is found from the equation:\n",
    "\n",
    "$$ \\hat{G}^{\\chi}(d^{\\chi})(V'^{\\chi}(d^{\\chi}) - 1) - \\hat{G}'^{\\chi}(d^{\\chi})(V^{\\chi}(d^{\\chi}) - d^{\\chi} - c_b) = 0$$\n",
    "\n",
    "Where \"$\\hat{\\ }$\" represents the use of transaction cost and discount rate of entering."
   ]
  },
  {
   "cell_type": "markdown",
   "metadata": {},
   "source": [
    "## Optimal switching problem\n",
    "\n",
    "> This approach presumes that the investor can commit an infinite number of trades.\n",
    "\n",
    "\n",
    "If there is no limit on the number of times the investor will open or close the position, the sequential trading times\n",
    "are modelled by the stopping times $\\nu_1,\\tau_1,\\nu_2,\\tau_2,... \\in T$ such that\n",
    "\n",
    "$$0\\leq\\nu_1\\leq\\tau_1\\leq\\nu_2\\leq\\tau_2\\leq...$$\n",
    "\n",
    "Where $\\nu_i$ are times when the share of a risky asset was bought and $\\tau_i$ - when it was sold. In the case\n",
    "of pairs trading, we consider our spread as such an asset.\n"
   ]
  },
  {
   "cell_type": "markdown",
   "metadata": {},
   "source": [
    "To find the optimal levels, first, two critical constants have to be denoted:\n",
    "\n",
    "$$y_s:=\\frac{\\mu\\theta+rc_s}{\\mu+r} \\\\\n",
    "    y_b:=\\frac{\\mu\\theta-rc_b}{\\mu+r}$$"
   ]
  },
  {
   "cell_type": "markdown",
   "metadata": {},
   "source": [
    "Theorem 4.7 (p.56):\n",
    "\n",
    "**Under optimal switching approach it is optimal to re-enter the market if and only if all of the following conditions\n",
    "hold true:**\n",
    "\n",
    "a) If $y_b>0$\n",
    "\n",
    "b) The following inequality must hold true:\n",
    "\n",
    "$$ c_b < \\frac{b^{\\chi*}-c_s}{F^{\\chi}(b^{\\chi*})}$$\n",
    "\n",
    "In case any of the conditions are not met - re-entering the market is deemed not optimal. It would be advised to exit\n",
    "at the optimal liquidation price without re-entering, or not enter the position at all. The difference between the\n",
    "options depends on whether the investor had already entered the market beforehand,\n",
    "or did he or she start with a zero position.\n"
   ]
  },
  {
   "cell_type": "markdown",
   "metadata": {},
   "source": [
    "## How to use the CIR module\n",
    "\n",
    "For this module the most suitable input would be a mean-reverting portfolio or an array of two correlated or co-moving asset prices.\n",
    "\n",
    "Both optimal stopping and optimal switching levels are used alike in determining the rules of our trading strategy:\n",
    "\n",
    "\n",
    "* If not already entered, enter when the price reaches optimal entry level.\n",
    "\n",
    "* If not already liquidated, liquidate when the price reaches optimal liquidation level.\n",
    "\n",
    "However, the differenece lies in the applications of the two approaches. The optimal stopping usually \n",
    "has a much longer delay between the buy and sell levels are reached and offers a bigger gain than a one-time entry and liquidation using the optimal switching levels. The optimal switching levels, on the other hand, may provide a bigger cumulative gain by performing the trades multiple times during the same time period.\n"
   ]
  },
  {
   "cell_type": "markdown",
   "metadata": {},
   "source": [
    "Imports:"
   ]
  },
  {
   "cell_type": "code",
   "execution_count": 1,
   "metadata": {},
   "outputs": [],
   "source": [
    "import numpy as np\n",
    "import matplotlib.pyplot as plt\n",
    "from mlfinlab.optimal_mean_reversion import CoxIngersollRoss"
   ]
  },
  {
   "cell_type": "markdown",
   "metadata": {},
   "source": [
    "Lets establish the testing sample. Alongside with the numerical example from the book we use generated CIR data with following parameters:\n",
    "\n",
    "$\\theta$=0.2; $\\mu$=0.2; $\\sigma$=0.3 "
   ]
  },
  {
   "cell_type": "markdown",
   "metadata": {},
   "source": [
    "During this step we also demonstrate the ability of our model to generate artificial CIR data based on given parameters"
   ]
  },
  {
   "cell_type": "code",
   "execution_count": 2,
   "metadata": {},
   "outputs": [],
   "source": [
    "example = CoxIngersollRoss()\n",
    "\n",
    "# We establish our training sample\n",
    "delta_t = 1/252\n",
    "np.random.seed(30)\n",
    "cir_example =  example.cir_model_simulation(n=1000, theta_given=0.2, mu_given=0.2,\n",
    "                                            sigma_given=0.3, delta_t_given=delta_t)"
   ]
  },
  {
   "cell_type": "code",
   "execution_count": 3,
   "metadata": {},
   "outputs": [
    {
     "data": {
      "text/plain": [
       "[<matplotlib.lines.Line2D at 0x2623ea4e0c8>]"
      ]
     },
     "execution_count": 3,
     "metadata": {},
     "output_type": "execute_result"
    },
    {
     "data": {
      "image/png": "[encoded data removed]",
      "text/plain": [
       "<Figure size 432x288 with 1 Axes>"
      ]
     },
     "metadata": {
      "needs_background": "light"
     },
     "output_type": "display_data"
    }
   ],
   "source": [
    "plt.plot(cir_example)"
   ]
  },
  {
   "cell_type": "markdown",
   "metadata": {},
   "source": [
    "Model fitting uses the same function structure as the OU and XOU modules:"
   ]
  },
  {
   "cell_type": "code",
   "execution_count": 4,
   "metadata": {},
   "outputs": [],
   "source": [
    "# Model fitting\n",
    "example.fit(cir_example, data_frequency=\"D\", discount_rate=0.05,\n",
    "            transaction_cost=[0.001, 0.001])"
   ]
  },
  {
   "cell_type": "markdown",
   "metadata": {},
   "source": [
    "Optimal stopping levels can be found separately via respective functions."
   ]
  },
  {
   "cell_type": "code",
   "execution_count": 5,
   "metadata": {},
   "outputs": [],
   "source": [
    "# You can separately solve optimal stopping\n",
    "# and optimal switching problems\n",
    "\n",
    "# Solving the optimal stopping problem\n",
    "b = example.optimal_liquidation_level()\n",
    "\n",
    "d = example.optimal_entry_level()"
   ]
  },
  {
   "cell_type": "code",
   "execution_count": 6,
   "metadata": {},
   "outputs": [
    {
     "name": "stdout",
     "output_type": "stream",
     "text": [
      "Optimal liquidation level: 0.47419 \n",
      "Optimal entry level: 0.07586\n"
     ]
    }
   ],
   "source": [
    "print(\"Optimal liquidation level:\", round(b,5),\n",
    "      \"\\nOptimal entry level:\", round(d, 5))\n"
   ]
  },
  {
   "cell_type": "markdown",
   "metadata": {},
   "source": [
    "For the optimal switching level exists a separate function. "
   ]
  },
  {
   "cell_type": "code",
   "execution_count": 7,
   "metadata": {},
   "outputs": [],
   "source": [
    "# Solving the optimal switching problem\n",
    "\n",
    "d_switch, b_switch = example.optimal_switching_levels()"
   ]
  },
  {
   "cell_type": "code",
   "execution_count": 8,
   "metadata": {},
   "outputs": [
    {
     "name": "stdout",
     "output_type": "stream",
     "text": [
      "Optimal liquidation level: 0.26476 \n",
      "Optimal entry level: 0.17996\n"
     ]
    }
   ],
   "source": [
    "print(\"Optimal liquidation level:\", round(b_switch,5),\n",
    "      \"\\nOptimal entry level:\", round(d_switch, 5))\n"
   ]
  },
  {
   "cell_type": "markdown",
   "metadata": {},
   "source": [
    "To test the obtained results let's simulate the CIR process based on fitted model using the respective function."
   ]
  },
  {
   "cell_type": "code",
   "execution_count": 9,
   "metadata": {},
   "outputs": [],
   "source": [
    "cir_test = example.cir_model_simulation(n=1000)"
   ]
  },
  {
   "cell_type": "markdown",
   "metadata": {},
   "source": [
    "To visualize all the obtained results we use the `cir_plot_levels` function. "
   ]
  },
  {
   "cell_type": "code",
   "execution_count": 10,
   "metadata": {},
   "outputs": [
    {
     "data": {
      "image/png": "[encoded data removed]",
      "text/plain": [
       "<Figure size 720x576 with 1 Axes>"
      ]
     },
     "metadata": {
      "needs_background": "light"
     },
     "output_type": "display_data"
    }
   ],
   "source": [
    "# You can display the results using the plot\n",
    "fig = example.cir_plot_levels(cir_test, switching=True)\n",
    "\n",
    "# Adjusting the size of the plot\n",
    "fig.set_figheight(8)\n",
    "fig.set_figwidth(10)"
   ]
  },
  {
   "cell_type": "markdown",
   "metadata": {},
   "source": [
    "Or you can view the model statistics"
   ]
  },
  {
   "cell_type": "code",
   "execution_count": 11,
   "metadata": {},
   "outputs": [
    {
     "data": {
      "text/plain": [
       "training period                          [None, None]\n",
       "long-term mean                               0.253478\n",
       "speed of reversion                           0.333065\n",
       "volatility                                   0.294846\n",
       "discount rates                           [0.05, 0.05]\n",
       "transaction costs                      [0.001, 0.001]\n",
       "beta                                             None\n",
       "optimal entry level                         0.0758571\n",
       "optimal liquidation level                    0.474192\n",
       "optimal switching entry level               [0.26476]\n",
       "optimal switching liquidation level           0.17996\n",
       "dtype: object"
      ]
     },
     "execution_count": 11,
     "metadata": {},
     "output_type": "execute_result"
    }
   ],
   "source": [
    "# Or you can view the model statistics\n",
    "example.cir_description(switching=True)"
   ]
  },
  {
   "cell_type": "markdown",
   "metadata": {},
   "source": [
    "## Conclusion"
   ]
  },
  {
   "cell_type": "markdown",
   "metadata": {},
   "source": [
    "This notebook describes the Cox-Ingersoll-Ross (CIR) model and how it is applied to mean reverting portfolios. The main goal of the notebook is to show the usage of module to obtain solutions to the optimal stopping and optimal switching problems.\n",
    "\n",
    "Both techniques were introduced by *Tim Leung and Xin Li* in [**Optimal Mean reversion Trading: Mathematical Analysis and Practical Applications**](https://www.amazon.com/Optimal-Mean-Reversion-Trading-Mathematical/dp/9814725919)\n",
    "\n",
    "Key takeaways from the notebook:\n",
    "\n",
    "* ECox-Ingersoll-Ross model is a tool used to model the behavior of mean-reverting assets.\n",
    "\n",
    "* Main idea behind the use of the  optimal levels is:\n",
    "    \n",
    "    * If position is not already entered, enter when the price reaches optimal entry level.\n",
    "\n",
    "    * If position is not already liquidated, liquidate when the price reaches optimal liquidation level.\n",
    "    \n",
    "* An optimal stopping problem formulated for the CIR process allows us to maximize the expected discounted value of one-time entering or liquidating the position by finding the optimal price levels at which trades should be committed.\n",
    "\n",
    "* An optimal switching problem, on the other hand, allows us to maximize the expected discounted value of infinite amount of trades(entering or liquidating the position). By finding the optimal price levels at which the repeated trades should be committed for the maximum overall gain. \n",
    "\n",
    "* The model should be considered as a building block for the problem with any finite number of sequential trades."
   ]
  }
 ],
 "metadata": {
  "kernelspec": {
   "display_name": "mlfinlab",
   "language": "python",
   "name": "mlfinlab"
  },
  "language_info": {
   "codemirror_mode": {
    "name": "ipython",
    "version": 3
   },
   "file_extension": ".py",
   "mimetype": "text/x-python",
   "name": "python",
   "nbconvert_exporter": "python",
   "pygments_lexer": "ipython3",
   "version": "3.7.9"
  }
 },
 "nbformat": 4,
 "nbformat_minor": 4
}

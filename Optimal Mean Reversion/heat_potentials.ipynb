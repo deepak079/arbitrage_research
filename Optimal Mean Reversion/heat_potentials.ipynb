{
 "cells": [
  {
   "cell_type": "markdown",
   "metadata": {},
   "source": [
    "References:\n",
    "\n",
    "**Alexandr Lipton and Marcos Lopez de Prado:** [ _\"A closed-form solution for optimal mean-reverting trading strategies\"_](https://ssrn.com/abstract=3534445)\n",
    "\n",
    "**Marcos Lopez de Prado:**  [_\"Advances in Financial Machine Learning\"_](https://www.amazon.com/Advances-Financial-Machine-Learning-Marcos/dp/1119482089)"
   ]
  },
  {
   "cell_type": "markdown",
   "metadata": {},
   "source": [
    "## Abstract"
   ]
  },
  {
   "cell_type": "markdown",
   "metadata": {},
   "source": [
    "An Ornstein-Uhlenbeck process is a great tool for modeling the behavior of mean-reverting portfolio prices. Alexandr Lipton and Marcos Lopez de Prado present a methodology that allows to obtain a closed-form solution for the optimal mean-reverting trading strategies based on the OU model charachteristics and the heat potential approach. The optimal trading rule, namely optimal stop-loss and optimal profit-taking level are found by maximizing the approximated value of the Sharpe ratio."
   ]
  },
  {
   "cell_type": "markdown",
   "metadata": {},
   "source": [
    "## Data scaling"
   ]
  },
  {
   "cell_type": "markdown",
   "metadata": {},
   "source": [
    "In this approach we use the volume clock metric instead of the time-based metric. More in that in paper\n",
    "[**\"The Volume Clock: Insights into the High Frequency Paradigm\"**](https://papers.ssrn.com/sol3/papers.cfm?abstract_id=2034858) by David Easley, Marcos Lopez de Prado and Maureen O'Hara"
   ]
  },
  {
   "cell_type": "markdown",
   "metadata": {},
   "source": [
    "Lets presume an investment strategy S is a long investment strategy with p/l driven by the OU process:\n",
    "\n",
    "$$dx' = \\mu'(\\theta'-x')dt'+\\sigma'dW_{t'}, x'(0) = 0$$"
   ]
  },
  {
   "cell_type": "markdown",
   "metadata": {},
   "source": [
    "and a trading rule $R = {\\bar{\\pi}',\\underline{\\pi}',T'}$. To make the application of the method of heat potentials possible we transform it to use its steady-state by performing scaling to remove superfluous parameters.\n",
    "\n",
    "$$t = \\mu't',\\ T = \\mu'T',\\ x = \\frac{\\sqrt{\\mu'}}{\\sigma'} x',\\ \\theta = \\frac{\\sqrt{\\mu'}}{\\sigma'} \\theta',\\ \\bar{\\pi} = \\frac{\\sqrt{\\mu'}}{\\sigma'} \\bar{\\pi}',\n",
    "\\ \\underline{\\pi} = \\frac{\\sqrt{\\mu'}}{\\sigma'} \\underline{\\pi}'$$"
   ]
  },
  {
   "cell_type": "markdown",
   "metadata": {},
   "source": [
    "And get:\n",
    "$$dx = (\\theta-x)dt + dW_t, \\ \\bar{\\pi}' \\leq x \\leq \\underline{\\pi},\\ 0 \\leq t \\leq T$$"
   ]
  },
  {
   "cell_type": "markdown",
   "metadata": {},
   "source": [
    "**NOTE:**\n",
    "\n",
    "Short strategy reverses the roles of ${\\bar{\\pi}',\\underline{\\pi}'}$:\n",
    "\n",
    "$-\\underline{\\pi}$ equals the profit taken when the price hits $\\underline{\\pi}$ and\n",
    "\n",
    "$-\\bar{\\pi}$ losses are incurred while price hits $-\\bar{\\pi}$\n",
    "\n",
    "\n"
   ]
  },
  {
   "cell_type": "markdown",
   "metadata": {},
   "source": [
    "Hence, we can restrict ourself to case with $\\theta \\geq 0$"
   ]
  },
  {
   "cell_type": "markdown",
   "metadata": {},
   "source": [
    "## Sharpe ratio calculation\n",
    "\n",
    "The calcuation of the Sharpe ratio follows the four-step algorithm:\n",
    "***\n",
    "**Step 1: Defining a calculation grid**\n",
    "\n",
    "First of all we define the grid $\\upsilon$ based on which we will perform our numerical calculation:\n",
    "\n",
    "$$ 0=\\upsilon_0<\\upsilon_1<...<\\upsilon_n=\\Upsilon,\\  \\upsilon(t) = \\frac{1 - e^{-2(T-t)}}{2}$$\n",
    "\n",
    "**Step 2: Numerically calculate helper functions** $\\bar{\\epsilon}, \\underline{\\epsilon}, \\bar{\\phi}, \\underline{\\phi}$\n",
    "\n",
    "We are going to use the classical method of heat potentials to calculate the SR.\n",
    "As a preparation , in this step we solve the two sets of Volterra equations by using the trapezoidal rule of integral calculation.\n",
    "\n",
    "**Step 3: Calculate the values of** $\\hat{E}(\\Upsilon,\\bar{\\omega})$ **and** $\\hat{F}(\\Upsilon,\\bar{\\omega})$\n",
    "\n",
    "We need compute these functions at one point, which can be done by approximation of the integrals using the\n",
    "trapezoidal rule:\n",
    "\n",
    "$$\\hat{E}(\\Upsilon,\\bar{\\omega}) = \\frac{1}{2} \\sum_{i=1}^k(\\underline{w}_{n,i}\\underline{\\epsilon}_i + \\underline{w}_{n,i-1}\\underline{\\epsilon}_{i-1} + \\bar{w}_{n,i}\\bar{\\epsilon}_i + \\bar{w}_{n,i-1}\\bar{\\epsilon}_{i-1})(\\upsilon_i - \\upsilon_{i-1})$$\n",
    "\n",
    "$$ \\hat{F}(\\Upsilon,\\bar{\\omega}) = \\frac{1}{2} \\sum_{i=1}^k(\\underline{w}_{n,i}\\underline{\\phi}_i + \\underline{w}_{n,i-1}\\underline{\\phi}_{i-1} + \\bar{w}_{n,i}\\bar{\\phi}_i + \\bar{w}_{n,i-1}\\bar{\\phi}_{i-1})(\\upsilon_i - \\upsilon_{i-1})$$\n",
    "\n",
    "Where *w* are the weights.\n",
    "\n",
    "**Step 4: calculate the SR using the obtained values**\n",
    "\n",
    "The previously computed functions $\\hat{E}(\\Upsilon,\\bar{\\omega})$ and $\\hat{F}(\\Upsilon,\\bar{\\omega})$\n",
    "are substituted into the following formula to calculate the Sharpe ratio.\n",
    "\n",
    "$$SR = \\frac{\\hat{E}(\\Upsilon,\\bar{\\omega}) - \\frac{\\bar{\\omega}-\\theta}{ln(1-2\\Upsilon)}}{\\sqrt{\\hat{F}(\\Upsilon,\\bar{\\omega})} - (\\hat{E}(\\Upsilon,\\bar{\\omega}))^2 + \\frac{4(\\Upsilon + ln(1-2\\Upsilon)(\\bar{\\omega})\\hat{E}(\\Upsilon,\\bar{\\omega})}{(ln(1-2\\Upsilon))^2}}$$\n",
    "\n",
    "\n",
    "***"
   ]
  },
  {
   "cell_type": "markdown",
   "metadata": {},
   "source": [
    "**To find the optimal thresholds for the data provided by user we maximize the calculated SR with respect to\n",
    "$\\bar{\\pi}\\geq0,\\underline{\\pi}\\leq0$**"
   ]
  },
  {
   "cell_type": "markdown",
   "metadata": {},
   "source": [
    "## How to use the heat potential module\n",
    "\n",
    "This module gives the ability to calculate optimal values for stop-loss and profit-taking level to construct the trading rule."
   ]
  },
  {
   "cell_type": "markdown",
   "metadata": {},
   "source": [
    "Imports"
   ]
  },
  {
   "cell_type": "code",
   "execution_count": 1,
   "metadata": {},
   "outputs": [],
   "source": [
    "from arbitragelab.optimal_mean_reversion.ou_model import OrnsteinUhlenbeck\n",
    "from arbitragelab.optimal_mean_reversion import HeatPotentials\n",
    "import matplotlib.pyplot as plt\n",
    "import numpy as np"
   ]
  },
  {
   "cell_type": "markdown",
   "metadata": {},
   "source": [
    "Data preparation:\n",
    "\n",
    "Lets generate the OU data sample to example the whole model usage cycle."
   ]
  },
  {
   "cell_type": "code",
   "execution_count": 2,
   "metadata": {},
   "outputs": [],
   "source": [
    "# Generating the sample OU data\n",
    "ou_data = OrnsteinUhlenbeck()\n",
    "\n",
    "data = ou_data.ou_model_simulation(n=1000, theta_given=0.03711, mu_given=65.3333,\n",
    "                            sigma_given=0.3, delta_t_given=1/255)\n"
   ]
  },
  {
   "cell_type": "code",
   "execution_count": 3,
   "metadata": {},
   "outputs": [
    {
     "data": {
      "text/plain": [
       "[<matplotlib.lines.Line2D at 0x291d932d2c8>]"
      ]
     },
     "execution_count": 3,
     "metadata": {},
     "output_type": "execute_result"
    },
    {
     "data": {
      "image/png": "[encoded data removed]",
      "text/plain": [
       "<Figure size 432x288 with 1 Axes>"
      ]
     },
     "metadata": {
      "needs_background": "light"
     },
     "output_type": "display_data"
    }
   ],
   "source": [
    "# Lets plot our data example\n",
    "plt.plot(data)"
   ]
  },
  {
   "cell_type": "markdown",
   "metadata": {},
   "source": [
    "The next step would be to fit the OU model and obtain it's parameters:"
   ]
  },
  {
   "cell_type": "code",
   "execution_count": 4,
   "metadata": {},
   "outputs": [],
   "source": [
    "# To get the model parameters we need to fit the OU model to the data.\n",
    "\n",
    "# Assign the delta value\n",
    "ou_data.delta_t = 1/252\n",
    "\n",
    "# Model fitting\n",
    "ou_data.fit_to_portfolio(data)\n",
    "\n",
    "# Now we obtained the parameters to use for our optimization procedure\n",
    "theta,mu,sigma = ou_data.theta,ou_data.mu,np.sqrt(ou_data.sigma_square)"
   ]
  },
  {
   "cell_type": "code",
   "execution_count": 5,
   "metadata": {},
   "outputs": [
    {
     "name": "stdout",
     "output_type": "stream",
     "text": [
      "theta: 0.03692 \n",
      "mu: 78.62186 \n",
      "sigma: 0.33727\n"
     ]
    }
   ],
   "source": [
    "print('theta:', round(theta,5), '\\nmu:', round(mu,5), '\\nsigma:', round(sigma,5))"
   ]
  },
  {
   "cell_type": "markdown",
   "metadata": {},
   "source": [
    "Now we can perform the optimization process:"
   ]
  },
  {
   "cell_type": "markdown",
   "metadata": {},
   "source": [
    "To fit the model and calculate optimal thresholds we need to provide:\n",
    "\n",
    "* OU-model parameters that represent the data\n",
    "* The grid density\n",
    "* Maximum duration of the trade"
   ]
  },
  {
   "cell_type": "code",
   "execution_count": 6,
   "metadata": {},
   "outputs": [],
   "source": [
    "# Establish the instance of the class\n",
    "example = HeatPotentials()\n",
    "\n",
    "# Fit the model and establish the maximum duration of the trade\n",
    "example.fit(ou_params=(theta, mu, sigma), delta_grid=0.1, max_trade_duration=0.03)"
   ]
  },
  {
   "cell_type": "markdown",
   "metadata": {},
   "source": [
    "Lets calculate the optimal levels and SR separately. \n",
    "\n",
    "To do so we can use the respective functions: "
   ]
  },
  {
   "cell_type": "code",
   "execution_count": 7,
   "metadata": {},
   "outputs": [],
   "source": [
    "# Calculate the initial optimal levels\n",
    "levels = example.optimal_levels()"
   ]
  },
  {
   "cell_type": "code",
   "execution_count": 8,
   "metadata": {},
   "outputs": [
    {
     "name": "stdout",
     "output_type": "stream",
     "text": [
      "profit-taking threshold: 5.213282513363079 \n",
      "stop-loss threshold: -3.2720247068676622 \n",
      "Sharpe ratio: 1.2485069204707313\n"
     ]
    }
   ],
   "source": [
    "print('profit-taking threshold:', levels[0],\n",
    "      '\\nstop-loss threshold:', levels[1],\n",
    "      '\\nSharpe ratio:', levels[2])"
   ]
  },
  {
   "cell_type": "markdown",
   "metadata": {},
   "source": [
    "While calculating the Sharpe ratio separately we will use the rounded values of the optimal threshold to showcase the sensitivity of the approach to small differences in values."
   ]
  },
  {
   "cell_type": "code",
   "execution_count": 9,
   "metadata": {},
   "outputs": [
    {
     "name": "stdout",
     "output_type": "stream",
     "text": [
      "1.191204983425685 \n",
      "delta: 0.05730193704504627\n"
     ]
    }
   ],
   "source": [
    "# We can also calculate the Sharpe ratio for given scaled parameters\n",
    "sr = example.sharpe_calculation(max_trade_duration=1.9599, optimal_profit=5.07525, optimal_stop_loss=-3.41002)\n",
    "\n",
    "print(sr,'\\ndelta:', levels[2]-sr)"
   ]
  },
  {
   "cell_type": "markdown",
   "metadata": {},
   "source": [
    "To get scaled back results that correspond to our model parameters we use the description function."
   ]
  },
  {
   "cell_type": "code",
   "execution_count": 10,
   "metadata": {},
   "outputs": [
    {
     "data": {
      "text/plain": [
       "profit-taking threshold      0.198297\n",
       "stop-loss level             -0.124458\n",
       "max duration of the trade    0.030000\n",
       "dtype: float64"
      ]
     },
     "execution_count": 10,
     "metadata": {},
     "output_type": "execute_result"
    }
   ],
   "source": [
    "# To get the results scaled back to our initial model we call the description function\n",
    "example.description()"
   ]
  },
  {
   "cell_type": "markdown",
   "metadata": {},
   "source": [
    "## Conclusion\n",
    "\n",
    "This notebook describes the heat-potential approach for finding optimal trading rules for mean-reverting strategies.\n",
    "\n",
    "Key takeaways:\n",
    "* Ornstein-Uhlenbeck model is used to model the behavior of mean-reverting assets.\n",
    "\n",
    "* It is possible to use heat potential approach on the financial data represented by an OU model.\n",
    "\n",
    "* We formulate the problem for the long strategy, short strategy results can be obtained by reflection.\n",
    "\n",
    "* The closed-form solution allows to formulate the optimization problem for calculating the optimal stop-loss and profit-taking thresholds.\n",
    "\n",
    "* The model is sensitive to small changes in given data."
   ]
  },
  {
   "cell_type": "markdown",
   "metadata": {},
   "source": [
    "## Reference\n",
    "1.  Lipton, Alex and López de Prado, Marcos, A Closed-Form Solution for Optimal Mean-Reverting Trading Strategies (February 8, 2020). Available at SSRN: https://ssrn.com/abstract=3534445 or http://dx.doi.org/10.2139/ssrn.3534445 \n",
    "2. Prado, Marcos Lopez de. Advances in Financial Machine Learning. Wiley, 2018."
   ]
  }
 ],
 "metadata": {
  "kernelspec": {
   "display_name": "mlfinlab",
   "language": "python",
   "name": "mlfinlab"
  },
  "language_info": {
   "codemirror_mode": {
    "name": "ipython",
    "version": 3
   },
   "file_extension": ".py",
   "mimetype": "text/x-python",
   "name": "python",
   "nbconvert_exporter": "python",
   "pygments_lexer": "ipython3",
   "version": "3.7.9"
  }
 },
 "nbformat": 4,
 "nbformat_minor": 4
}

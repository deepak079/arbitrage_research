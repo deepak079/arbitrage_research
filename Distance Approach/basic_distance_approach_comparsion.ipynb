{
 "cells": [
  {
   "cell_type": "markdown",
   "id": "entire-afternoon",
   "metadata": {},
   "source": [
    "* Reference: \n",
    "__Pairs Trading: Performance of a Relative Value Arbitrage Rule__ _by_ Gatev et al.<br>\n",
    "$\\;\\;\\;\\;\\;\\;\\;\\;\\;\\;\\;\\;\\;$ __Are Pairs Trading Profits Robust to Trading Costs?__ _by_ Do et al.<br>\n",
    "$\\;\\;\\;\\;\\;\\;\\;\\;\\;\\;\\;\\;\\;\\;$__Does Simple Pairs Trading Still Work?__ _by_ Do et al."
   ]
  },
  {
   "cell_type": "markdown",
   "id": "sunset-variance",
   "metadata": {},
   "source": [
    "# Basic Distance Approach Comparison"
   ]
  },
  {
   "cell_type": "code",
   "execution_count": null,
   "id": "postal-manhattan",
   "metadata": {},
   "outputs": [],
   "source": []
  }
 ],
 "metadata": {
  "kernelspec": {
   "display_name": "Python 3",
   "language": "python",
   "name": "python3"
  },
  "language_info": {
   "codemirror_mode": {
    "name": "ipython",
    "version": 3
   },
   "file_extension": ".py",
   "mimetype": "text/x-python",
   "name": "python",
   "nbconvert_exporter": "python",
   "pygments_lexer": "ipython3",
   "version": "3.8.8"
  }
 },
 "nbformat": 4,
 "nbformat_minor": 5
}

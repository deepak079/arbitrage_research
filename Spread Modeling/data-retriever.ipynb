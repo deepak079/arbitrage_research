{
 "cells": [
  {
   "cell_type": "code",
   "execution_count": 1,
   "metadata": {},
   "outputs": [],
   "source": [
    "import quandl as ql\n",
    "import numpy as np\n",
    "import pandas as pd "
   ]
  },
  {
   "cell_type": "code",
   "execution_count": 12,
   "metadata": {},
   "outputs": [],
   "source": [
    "def get_wti_gasoline_frame() -> pd.DataFrame:\n",
    "    # wti - gas\n",
    "    # $barrel - $gallon\n",
    "#     petro_prices = ql.get([\"CHRIS/ICE_T1\"])\n",
    "#     petro_futures_df = petro_prices.loc[:, [\"CHRIS/ICE_T1 - Settle\"]]\n",
    "#     petro_futures_df.columns = ['wti']\n",
    "#     petro_futures_df.index = pd.to_datetime(petro_futures_df.index) \n",
    "    \n",
    "    gas_contr = pd.read_csv('./data/nymex_gasoline_future_contract.csv')\n",
    "    gas_contr['date'] = pd.to_datetime(gas_contr['date'])\n",
    "    gas_contr.set_index('date', inplace=True)\n",
    "    gas_contr.columns = ['gasoline']\n",
    "    \n",
    "    wti_contr = pd.read_csv('./data/nymex_wti_future_contract.csv')\n",
    "    wti_contr['date'] = pd.to_datetime(wti_contr['date'])\n",
    "    wti_contr.set_index('date', inplace=True)\n",
    "    wti_contr.columns = ['wti']\n",
    "    \n",
    "    futures_df = pd.concat([wti_contr, gas_contr], axis=1)\n",
    "\n",
    "    # Convert $/gallon to $/barrel; 1 barrel = 42 gallons\n",
    "    futures_df['gasoline'] = futures_df['gasoline']*42\n",
    "\n",
    "    return combine_legs_and_calc_spread(futures_df)"
   ]
  },
  {
   "cell_type": "code",
   "execution_count": 8,
   "metadata": {},
   "outputs": [],
   "source": [
    "def get_wti_brent_frame() -> pd.DataFrame:\n",
    "    oil_prices = ql.get([\"CHRIS/ICE_T1\", \"CHRIS/ICE_B1\"])\n",
    "    oil_futures_df = oil_prices.loc[:, [\"CHRIS/ICE_T1 - Settle\", \"CHRIS/ICE_B1 - Settle\"]]\n",
    "    oil_futures_df.columns = ['wti', 'brent']\n",
    "    \n",
    "    return combine_legs_and_calc_spread(oil_futures_df)"
   ]
  },
  {
   "cell_type": "code",
   "execution_count": null,
   "metadata": {},
   "outputs": [],
   "source": [
    "def get_soybean_soyoil_frame() -> pd.DataFrame:\n",
    "\n",
    "    soy_futures_prices = ql.get([\"CHRIS/CME_S1\", \"CHRIS/CME_BO1\"]).last('20Y')\n",
    "\n",
    "    futures_df = soy_futures_prices.loc[:, [\"CHRIS/CME_S1 - Last\", \"CHRIS/CME_BO1 - Last\"]]\n",
    "    futures_df.columns = ['soybean', 'soyoil']\n",
    "    futures_df.loc[:, 'soyoil'] = futures_df.loc[:, 'soyoil']  * 11\n",
    "    \n",
    "    return combine_legs_and_calc_spread(futures_df)"
   ]
  },
  {
   "cell_type": "code",
   "execution_count": null,
   "metadata": {},
   "outputs": [],
   "source": [
    "def get_ethanol_corn_frame() -> pd.DataFrame:\n",
    "    eth_futures_prices = ql.get([\"CHRIS/CME_EH1\", \"CHRIS/CME_C1\"])\n",
    "\n",
    "    futures_df = eth_futures_prices.loc[:, [\"CHRIS/CME_EH1 - Last\", \"CHRIS/CME_C1 - Last\"]]\n",
    "    futures_df.columns = ['ethanol', 'corn']\n",
    "    futures_df.loc[:, 'ethanol'] =  ( 2.8 * futures_df['ethanol'] ) * 100\n",
    "    \n",
    "    return combine_legs_and_calc_spread(futures_df)"
   ]
  },
  {
   "cell_type": "code",
   "execution_count": 10,
   "metadata": {},
   "outputs": [],
   "source": [
    "def combine_legs_and_calc_spread(df: pd.DataFrame):\n",
    "    \"\"\"\n",
    "    This is calculating the spread the Dunis way, which simply means\n",
    "    neglecting the cointegration factor to enforce a money neutral poisiton\n",
    "    and investing the same amount in each leg.\n",
    "    \"\"\"\n",
    "\n",
    "    new_df = df.copy().ffill()\n",
    "    # Spread in $/metric (gallon, barrel, bushel)\n",
    "    new_df['dollar_spread'] = (df.iloc[:, 0]) - (df.iloc[:, 1])\n",
    "    \n",
    "    # Returns the Dunis Way\n",
    "    leg1_rets = (df.iloc[:, 0] - df.iloc[:, 0].shift(1)) / df.iloc[:, 0].shift(1)\n",
    "    leg2_rets = (df.iloc[:, 1] - df.iloc[:, 1].shift(1)) / df.iloc[:, 1].shift(1)\n",
    "\n",
    "    new_df[df.columns[0] + '_rets'] = leg1_rets\n",
    "    new_df[df.columns[1] + '_rets'] = leg2_rets\n",
    "    new_df['spread_rets'] = leg1_rets - leg2_rets\n",
    "#     new_df['log_spread'] = np.log(df.iloc[:, 0]) - np.log(df.iloc[:, 1])\n",
    "#     new_df['log_spread_ret'] = new_df['log_spread'].diff() \n",
    "    return new_df.dropna()"
   ]
  },
  {
   "cell_type": "code",
   "execution_count": 13,
   "metadata": {},
   "outputs": [],
   "source": [
    "get_wti_gasoline_frame().to_csv('./data/wti_gas.csv')"
   ]
  },
  {
   "cell_type": "code",
   "execution_count": 15,
   "metadata": {},
   "outputs": [],
   "source": [
    "get_wti_brent_frame().to_csv('./data/wti_brent.csv')"
   ]
  },
  {
   "cell_type": "code",
   "execution_count": 5,
   "metadata": {},
   "outputs": [],
   "source": []
  }
 ],
 "metadata": {
  "kernelspec": {
   "display_name": "Python 3",
   "language": "python",
   "name": "python3"
  },
  "language_info": {
   "codemirror_mode": {
    "name": "ipython",
    "version": 3
   },
   "file_extension": ".py",
   "mimetype": "text/x-python",
   "name": "python",
   "nbconvert_exporter": "python",
   "pygments_lexer": "ipython3",
   "version": "3.6.9"
  }
 },
 "nbformat": 4,
 "nbformat_minor": 4
}

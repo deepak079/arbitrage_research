{
 "cells": [
  {
   "cell_type": "markdown",
   "metadata": {},
   "source": [
    "Reference:\n",
    "1. [Lin, Y.-X., McCrae, M., and Gulati, C., 2006. **Loss protection in pairs trading through minimum profit bounds: a cointegration approach**](http://downloads.hindawi.com/archive/2006/073803.pdf)\n",
    "\n",
    "2. [Puspaningrum, H., Lin, Y.-X., and Gulati, C. M. 2010. **Finding the optimal pre-set boundaries for pairs trading strategy based on cointegration technique**](https://ro.uow.edu.au/cgi/viewcontent.cgi?article=1040&context=cssmwp)\n"
   ]
  },
  {
   "cell_type": "markdown",
   "metadata": {},
   "source": [
    "# Minimum Profit Optimization"
   ]
  },
  {
   "cell_type": "markdown",
   "metadata": {},
   "source": [
    "## Introduction"
   ]
  },
  {
   "cell_type": "markdown",
   "metadata": {},
   "source": [
    "A common pairs trading strategy is to \"fade the spread\", i.e. to open a trade when the spread is sufficiently far away\n",
    "from its equilibrium in anticipation of the spread reverting to the mean. Within the context of cointegration, the\n",
    "spread refers to cointegration error, and in the remainder of this documentation \"spread\" and \"cointegration error\" will\n",
    "be used interchangeably.\n",
    "\n",
    "The concept of \"sufficiently far away from the equilibrium of the spread\", i.e. a pre-set boundary chosen to open a trade, need to be quantified. This boundary can affect the minimum total profit (MTP) over a specific trading horizon. The higher the pre-set boundary for opening trades, the higher the profit per trade but the lower the trade numbers. The opposite applies to lowering the boundary values. The number of trades over a specified trading horizon is determined jointly by the average trade duration and the average inter-trade interval.\n",
    "\n",
    "In this notebook, we will demonstrate how to optimize the pre-set boundary that would maximize the MTP for cointegration error\n",
    "following an AR(1) process by numerically estimating the average trade duration, average inter-trade interval, and the\n",
    "average number of trades based on the mean first-passage time."
   ]
  },
  {
   "cell_type": "markdown",
   "metadata": {},
   "source": [
    "## Model Assumptions"
   ]
  },
  {
   "cell_type": "markdown",
   "metadata": {},
   "source": [
    "Before getting into the nuts and bolts of the optimization process, the assumptions of the cointegration pairs trading strategy need to be articulated.\n",
    "\n",
    "- The price of two assets ($S_1$ and $S_2$) are cointegrated over the relevant time period, which includes both in-sample and out-of-sample (trading) period.\n",
    "- The cointegration error follows a stationary AR(1) process.\n",
    "- The cointegration error is symmetrically distributed so that we can apply the optimal boundary on both sides of the mean.\n",
    "- Short sales are permitted or possible through a broker and there is no interest charged for the short sales and no cost for trading.\n",
    "- The cointegration coefficient $\\beta > 0$, where a cointegration relationship is defined as:\n",
    "\n",
    "\\begin{equation}\n",
    "    P_{S_1,t} - \\beta P_{S_2,t} = \\varepsilon_t\n",
    "\\end{equation}"
   ]
  },
  {
   "cell_type": "markdown",
   "metadata": {},
   "source": [
    "## Minimum Profit per Trade"
   ]
  },
  {
   "cell_type": "markdown",
   "metadata": {},
   "source": [
    "Denote a trade opened when the cointegration error $\\varepsilon_t$ overshoots the pre-set upper boundary $U$\n",
    "as a **U-trade**, and similarly, a trade opened when $\\varepsilon_t$ falls through the pre-set lower\n",
    "boundary $L$ as an **L-trade**. Without loss of generality, it can be assumed that the mean of $\\varepsilon_t$ is 0. "
   ]
  },
  {
   "cell_type": "markdown",
   "metadata": {},
   "source": [
    "### Minimum Profit per U-trade"
   ]
  },
  {
   "cell_type": "markdown",
   "metadata": {},
   "source": [
    "The setup of a U-trade is as follows:\n",
    "\n",
    "- When $\\varepsilon_t \\geq U$ at $t_o$, we open a trade by selling $N$ of asset $S_1$ and buying $\\beta N$ of asset $S_2$.\n",
    "- When $\\varepsilon_t \\leq 0$ at $t_c$, we close the trade.\n",
    "\n",
    "The profit per trade would thus be:\n",
    "\n",
    "\\begin{equation}\n",
    "    P = N (P_{S_1, t_o} - P_{S_1, t_c}) + \\beta N (P_{S_2, t_c} - P_{S_2, t_o})\n",
    "\\end{equation}\n",
    "\n",
    "Since the two assets are cointegrated during the trade period, substitute the cointegration relationship into\n",
    "the above equation and derive the following:\n",
    "\n",
    "\\begin{align*}\n",
    "    P & =  N (P_{S_1, t_o} - P_{S_1, t_c}) + \\beta N (P_{S_2, t_c} - P_{S_2, t_o}) \\\\\n",
    "      & =  N (P_{S_1, t_o} - \\beta P_{S_2, t_o}) - N (P_{S_1, t_c} - \\beta P_{S_2, t_c}) \\\\\n",
    "      & =  N \\varepsilon_{t_o} - N \\varepsilon_{t_c} \\\\\n",
    "      & \\geq N U\n",
    "\\end{align*}"
   ]
  },
  {
   "cell_type": "markdown",
   "metadata": {},
   "source": [
    "### Minimum Profit per L-trade"
   ]
  },
  {
   "cell_type": "markdown",
   "metadata": {},
   "source": [
    "The setup of an L-trade is as follows:\n",
    "\n",
    "- When $\\varepsilon_t \\leq -U$ at $t_o$, we open a trade by buying $N$ of asset $S_1$ and selling $\\beta N$ of asset $S_2$.\n",
    "- When $\\varepsilon_t \\geq 0$ at $t_c$, we close the trade.\n",
    "\n",
    "The profit per trade would thus be:\n",
    "\n",
    "\\begin{equation}\n",
    "    P = N (P_{S_1, t_c} - P_{S_1, t_o}) + \\beta N (P_{S_2, t_o} - P_{S_2, t_c})\n",
    "\\end{equation}\n",
    "\n",
    "Since the two assets are cointegrated during the trade period, substitute the cointegration relationship into\n",
    "the above equation and derive the following:\n",
    "\n",
    "\\begin{align*}\n",
    "    P & =  N (P_{S_1, t_c} - P_{S_1, t_o}) + \\beta N (P_{S_2, t_o} - P_{S_2, t_c}) \\\\\n",
    "      & =  N (P_{S_1, t_c} - \\beta P_{S_2, t_c}) - N (P_{S_1, t_o} - \\beta P_{S_2, t_o}) \\\\\n",
    "      & =  N \\varepsilon_{t_c} - N \\varepsilon_{t_o} \\\\\n",
    "      & \\geq N U\n",
    "\\end{align*}"
   ]
  },
  {
   "cell_type": "markdown",
   "metadata": {},
   "source": [
    "**Both U-trades and L-trades would make a minimum profit per trade of $U$ if one unit of the cointegrated pair ($N=1$) was traded.**"
   ]
  },
  {
   "cell_type": "markdown",
   "metadata": {},
   "source": [
    "## Minimum Total Profit (MTP)"
   ]
  },
  {
   "cell_type": "markdown",
   "metadata": {},
   "source": [
    "Based on the assumption that the boundary to open trades would be symmetrically applied on both sides of the spread mean, we will focus only on U-trade in this section. We can simply double the results to take L-trades into account.\n",
    "\n",
    "After deriving the minimum profit per U-trade, the next question of interest is the MTP over a trading horizon $[0,T]$. We would like to find the optimal boundary $U$ that can allow enough trades within the trading horizon as well as maximize the total profit. Define MTP as a function of the boundary $U$ as follows.\n",
    "\n",
    "\\begin{equation}\n",
    "    MTP(U) = \\Big( \\frac{T}{{TD}_U + I_U} - 1 \\Big) U\n",
    "\\end{equation}\n",
    "\n",
    "where ${TD}_U$ is the trade duration and $I_U$ is the inter-trade interval. The derivation from the previous section proved that the minimum profit of one trade is $U$. Therefore, the number of U-trades within the trading horizon is given by:\n",
    "\n",
    "\\begin{equation}\n",
    "    \\frac{T}{{TD}_U + I_U} - 1\n",
    "\\end{equation}"
   ]
  },
  {
   "cell_type": "markdown",
   "metadata": {},
   "source": [
    "According to the model assumptions, the cointegration error $\\varepsilon_t$ follows a stationary AR(1) process. \n",
    "\n",
    "\\begin{equation}\n",
    "\\varepsilon_t = \\phi \\varepsilon_{t-1} + a_t \\qquad a_t \\sim N(0, \\sigma_a^2) \\text{ i.i.d}\n",
    "\\end{equation}"
   ]
  },
  {
   "cell_type": "markdown",
   "metadata": {},
   "source": [
    "Without loss of generality, we assume $E(\\varepsilon_t) = 0$. Then ${TD}_U$ can be estimated by calculating the average time of $\\varepsilon_t$ to pass 0 for the first time given the initial value of $\\varepsilon_{t} = U$.\n",
    "\n",
    "\\begin{equation}\n",
    "    {TD}_U = E(\\mathcal{T}_{0, \\infty}(U)) = \\lim_{b \\to \\infty} \\frac{1}{\\sqrt{2 \\pi} \\sigma_a} \\int_0^b E(\\mathcal{T}_{0, b}(s)) \\text{ exp} \\Big( - \\frac{(s- \\phi U)^2}{2 \\sigma_a^2} \\Big) ds + 1\n",
    "\\end{equation}"
   ]
  },
  {
   "cell_type": "markdown",
   "metadata": {},
   "source": [
    "Similarly, $I_U$ can be estimated by calculating the average time of $\\varepsilon_t$ to pass $U$ for the first time given the initial value of $\\varepsilon_t = 0$.\n",
    "\n",
    "\\begin{equation}\n",
    "    I_U = E(\\mathcal{T}_{- \\infty, U}(0)) = \\lim_{-b \\to - \\infty} \\frac{1}{\\sqrt{2 \\pi} \\sigma_a} \\int_{-b}^U E(\\mathcal{T}_{-b, U}(s)) \\text{ exp} \\Big( - \\frac{s^2}{2 \\sigma_a^2} \\Big) ds + 1\n",
    "\\end{equation}"
   ]
  },
  {
   "cell_type": "markdown",
   "metadata": {},
   "source": [
    "### Numerically Estimating the Integral in the Mean First-passage Time of an AR(1) Process"
   ]
  },
  {
   "cell_type": "markdown",
   "metadata": {},
   "source": [
    "The crux of the optimization algorithm is thus calculating the above two integrals.\n",
    "\n",
    "Consider a stationary AR(1) process:\n",
    "\n",
    "\\begin{equation}\n",
    "    Y_t = \\phi Y_{t-1} + \\xi_t\n",
    "\\end{equation}\n",
    "\n",
    "where $-1 < \\phi < 1$, and\n",
    "\\begin{equation}\n",
    "    \\xi_t \\sim N(0, \\sigma_{\\xi}^2) \\text{ i.i.d}\n",
    "\\end{equation}\n",
    "\n",
    "The mean first-passage time over the interval $\\lbrack a, b \\rbrack$ of $Y_t$, starting at initial state $y_0 \\in \\lbrack a, b \\rbrack$, which is denoted by $E(\\mathcal{T}_{a,b}(y_0))$, is given by\n",
    "\n",
    "\\begin{equation}\n",
    "    E(\\mathcal{T}_{a,b}(y_0)) = \\frac{1}{\\sqrt{2 \\pi}\\sigma_{\\xi}}\\int_a^b E(\\mathcal{T}_{a,b}(u)) \\text{ exp} \\Big( - \\frac{(u-\\phi y_0)^2}{2 \\sigma_{\\xi}^2} \\Big) du + 1\n",
    "\\end{equation}"
   ]
  },
  {
   "cell_type": "markdown",
   "metadata": {},
   "source": [
    "This integral equation can be solved numerically using the Nystrom method, i.e. by solving the following linear equations:\n",
    "\n",
    "$$\n",
    "\\begin{pmatrix}\n",
    "    1 - K(u_0, u_0) & -K(u_0, u_1) & \\ldots & -K(u_0, u_n) \\\\\n",
    "    -K(u_1, u_0) & 1 - K(u_1, u_1) & \\ldots & -K(u_1, u_n) \\\\\n",
    "    \\vdots & \\vdots & \\vdots & \\vdots \\\\\n",
    "    -K(u_n, u_0) & -K(u_n, u_1) & \\ldots & 1-K(u_n, u_n)\n",
    "\\end{pmatrix}\n",
    "\\begin{pmatrix}\n",
    "    E_n(\\mathcal{T}_{a,b}(u_0)) \\\\\n",
    "    E_n(\\mathcal{T}_{a,b}(u_1)) \\\\\n",
    "    \\vdots \\\\\n",
    "    E_n(\\mathcal{T}_{a,b}(u_n))\n",
    "\\end{pmatrix}\n",
    "=   \n",
    "\\begin{pmatrix}\n",
    "    1 \\\\\n",
    "    1 \\\\\n",
    "    \\vdots \\\\\n",
    "    1 \\\\\n",
    "\\end{pmatrix} \n",
    "$$\n",
    "\n",
    "where $E_n(\\mathcal{T}_{a,b}(u_0))$ is a discretized estimate of the integral, and the Gaussian kernel function $K(u_i, u_j)$ is defined as:\n",
    "\n",
    "\\begin{equation}\n",
    "    K(u_i, u_j) = \\frac{h}{2 \\sqrt{2 \\pi} \\sigma_{\\xi}} w_j  \\text{ exp} \\Big( - \\frac{(u_j - \\phi u_i)^2}{2 \\sigma_{\\xi}^2} \\Big)\n",
    "\\end{equation}\n",
    "\n",
    "and the weight $w_j$ is defined by the trapezoid integration rule:\n",
    "\n",
    "\\begin{equation}\n",
    "    w_j = \\begin{cases}\n",
    "    1 & j = 0 \\text{ and } j = n \\\\\n",
    "    2 & 0 < j < n, j \\in \\mathbb{N}\n",
    "    \\end{cases}\n",
    "\\end{equation}\n",
    "\n",
    "The time complexity for solving the above linear equation system is $O(n^3)$ (see [here](https://www.netlib.org/lapack/lug/node71.html) for an introduction of the time complexity of `numpy.linalg.solve` ), which is the most time-consuming part of this procedure."
   ]
  },
  {
   "cell_type": "markdown",
   "metadata": {},
   "source": [
    "Note that the integrals in the definition of ${TD}_U$ and $I_U$ the integral limit goes to infinity. To approximate the infinity limit, the following stylized fact proves to be useful: for a stationary AR(1) process $\\{ \\varepsilon_t \\}$, the probability that the absolute value of the process $\\vert \\varepsilon_t \\vert$ is greater than 5 times the standard deviation of the process $5 \\sigma_{\\varepsilon}$ is close to 0. Therefore, $5 \\sigma_{\\varepsilon}$ can be used as an approximation of the infinity limit in the integrals."
   ]
  },
  {
   "cell_type": "markdown",
   "metadata": {},
   "source": [
    "## Optimization"
   ]
  },
  {
   "cell_type": "markdown",
   "metadata": {},
   "source": [
    "Based on the above discussion, the numerical algorithm to optimize the pre-set boundary that maximizes MTP can be readily given.\n",
    "\n",
    "1. Perform Engle-Granger or Johansen test to derive the cointegration coefficient $\\beta$.<br>\n",
    "2. Fit the cointegration error $\\varepsilon_t$ to an AR(1) process and retrieve the AR(1) coefficient and the fitted residual.<br>\n",
    "3. Calculate the standard deviation of cointegration error ($\\sigma_{\\varepsilon}$) and the fitted residual ($\\sigma_a$).<br>\n",
    "4. Generate a sequence of pre-set upper bounds $U_i$, where $U_i = i \\times 0.01, \\> i = 0, \\ldots, b/0.01$, and $b = 5 \\sigma_{\\varepsilon}$.<br>\n",
    "5. For each $U_i$,<br>\n",
    "  a. Calculate ${TD}_{U_i}$.<br>\n",
    "  b. Calculate $I_{U_i}$. *Note: this is the main bottleneck of the optimization speed.*<br>\n",
    "  c. Calculate $MTP(U_i)$.<br>\n",
    "6. Find $U^{*}$ such that $MTP(U^{*})$ is the maximum.<br>\n",
    "7. Set a desired minimum profit $K \\geq U^{*}$ and calculate the number of assets to trade according to the following equations:<br>\n",
    "\\begin{eqnarray}\n",
    "N_{S_2} = \\Big \\lceil \\frac{K \\beta}{U^{*}} \\Big \\rceil \\\\\n",
    "N_{S_1} = \\Big \\lceil \\frac{N_{S_2}}{\\beta} \\Big \\rceil\n",
    "\\end{eqnarray}"
   ]
  },
  {
   "cell_type": "markdown",
   "metadata": {},
   "source": [
    "## Want to Test with Simulated Data First?"
   ]
  },
  {
   "cell_type": "markdown",
   "metadata": {},
   "source": [
    "We also provided the functionality of simulating cointegrated series in case there is trouble finding cointegrated asset pairs from empirical data. \n",
    "\n",
    "The simulations are based on the following cointegration model:\n",
    "\n",
    "\\begin{gather*}\n",
    "    P_{S_1}(t) + \\beta P_{S_2}(t) = \\varepsilon_t \\\\\n",
    "    P_{S_2}(t) - P_{S_2}(t-1) = e_t\n",
    "\\end{gather*}"
   ]
  },
  {
   "cell_type": "markdown",
   "metadata": {},
   "source": [
    "where $\\varepsilon_t$ and $e_t$ are AR(1) processes.\n",
    "\n",
    "\\begin{eqnarray*}\n",
    "\\varepsilon_t - \\phi_1 \\varepsilon_{t-1} = c_1 + \\delta_{1,t} \\qquad \\delta_{1,t} \\sim N(0, \\sigma_1^2) \\\\\n",
    "e_t - \\phi_2 e_{t-1} = c_2 + \\delta_{2,t} \\qquad \\delta_{2,t} \\sim N(0, \\sigma_2^2)\n",
    "\\end{eqnarray*}"
   ]
  },
  {
   "cell_type": "markdown",
   "metadata": {},
   "source": [
    "The module allows simulation of multiple cointegrated series all at once."
   ]
  },
  {
   "cell_type": "markdown",
   "metadata": {},
   "source": [
    "## Usage of the Algorithms"
   ]
  },
  {
   "cell_type": "markdown",
   "metadata": {},
   "source": [
    "### Cointegration Simulation\n",
    "\n",
    "Firstly, we will showcase the usage of the simulation module.\n",
    "\n",
    "The following codeblocks will simulate a batch of cointegrated series that are defined by the following parameters."
   ]
  },
  {
   "cell_type": "markdown",
   "metadata": {},
   "source": [
    "\\begin{eqnarray*}\n",
    "            \\phi_1 & = & 0.95 \\\\\n",
    "            c_1 & = & 1.5 \\\\\n",
    "            \\sigma_1 & = & 0.5 \\\\\n",
    "            \\phi2 & = & 0.9 \\\\\n",
    "            c_2 & = & 0.05 \\\\\n",
    "            \\sigma_2 & = & 1.0 \\\\\n",
    "            \\beta & = & -0.6 \\\\\n",
    "\\end{eqnarray*}"
   ]
  },
  {
   "cell_type": "code",
   "execution_count": 1,
   "metadata": {},
   "outputs": [],
   "source": [
    "# Import libraries\n",
    "import os\n",
    "\n",
    "import numpy as np\n",
    "import pandas as pd\n",
    "import matplotlib.pyplot as plt\n",
    "\n",
    "from arbitragelab.cointegration_approach.coint_sim import CointegrationSimulation\n",
    "from arbitragelab.cointegration_approach.minimum_profit import MinimumProfit\n",
    "\n",
    "# Import helper module for trading simulation\n",
    "from trading_simulation import TradingSim"
   ]
  },
  {
   "cell_type": "code",
   "execution_count": 2,
   "metadata": {},
   "outputs": [],
   "source": [
    "# Initialize the data simulator\n",
    "# Generate 20 cointegrated series, each of the series have 250 data points\n",
    "coint_simulator = CointegrationSimulation(20, 250)"
   ]
  },
  {
   "cell_type": "code",
   "execution_count": 3,
   "metadata": {},
   "outputs": [],
   "source": [
    "# Set the parameters for e_t\n",
    "price_params = {\n",
    "    \"ar_coeff\": 0.95,\n",
    "    \"white_noise_var\": 0.5,\n",
    "    \"constant_trend\": 1.5}\n",
    "\n",
    "# Set the parameters for epsilon_t\n",
    "coint_params = {\n",
    "    \"ar_coeff\": 0.9,\n",
    "    \"white_noise_var\": 1.,\n",
    "    \"constant_trend\": 0.05,\n",
    "    \"beta\": -0.6}\n",
    "\n",
    "# Load the parameters\n",
    "coint_simulator.load_params(price_params, target='price')\n",
    "coint_simulator.load_params(coint_params, target='coint')"
   ]
  },
  {
   "cell_type": "markdown",
   "metadata": {},
   "source": [
    "The simulation can be done either by purely following the recurrence relation given by the AR(1) process, or using the `statsmodels` package. Here we use the `statsmodels` package to simulate the cointegrated series according to the above-mentioned parameters."
   ]
  },
  {
   "cell_type": "code",
   "execution_count": 4,
   "metadata": {},
   "outputs": [],
   "source": [
    "# Using statsmodels package to simulate the cointegrated series\n",
    "s1_series, s2_series, coint_errors = coint_simulator.simulate_coint(initial_price=100., use_statsmodels=True)"
   ]
  },
  {
   "cell_type": "markdown",
   "metadata": {},
   "source": [
    "Plot the simulated cointegrated series and the cointegration error."
   ]
  },
  {
   "cell_type": "code",
   "execution_count": 5,
   "metadata": {},
   "outputs": [
    {
     "data": {
      "image/png": "[encoded data removed]",
      "text/plain": [
       "<Figure size 1080x720 with 2 Axes>"
      ]
     },
     "metadata": {
      "needs_background": "light"
     },
     "output_type": "display_data"
    }
   ],
   "source": [
    "# Plot an example of the simulated cointegrated series and cointegration error\n",
    "coint_sim_fig = coint_simulator.plot_coint_series(s1_series[:, 0], s2_series[:, 0], coint_errors[:, 0])"
   ]
  },
  {
   "cell_type": "markdown",
   "metadata": {},
   "source": [
    "### Minimum Profit Optimization"
   ]
  },
  {
   "cell_type": "markdown",
   "metadata": {},
   "source": [
    "In this section, the usage of the minimum profit optimization and the resulting trading strategy will be presented with empirical data. The assets involved in this example are two S&P 500 stocks, Ametek Inc. (Ticker: AME) and Dover Corp. (Ticker: DOV). "
   ]
  },
  {
   "cell_type": "code",
   "execution_count": 6,
   "metadata": {
    "scrolled": true
   },
   "outputs": [
    {
     "data": {
      "text/html": [
       "<div>\n",
       "<style scoped>\n",
       "    .dataframe tbody tr th:only-of-type {\n",
       "        vertical-align: middle;\n",
       "    }\n",
       "\n",
       "    .dataframe tbody tr th {\n",
       "        vertical-align: top;\n",
       "    }\n",
       "\n",
       "    .dataframe thead th {\n",
       "        text-align: right;\n",
       "    }\n",
       "</style>\n",
       "<table border=\"1\" class=\"dataframe\">\n",
       "  <thead>\n",
       "    <tr style=\"text-align: right;\">\n",
       "      <th></th>\n",
       "      <th>AME</th>\n",
       "      <th>DOV</th>\n",
       "    </tr>\n",
       "    <tr>\n",
       "      <th>Date</th>\n",
       "      <th></th>\n",
       "      <th></th>\n",
       "    </tr>\n",
       "  </thead>\n",
       "  <tbody>\n",
       "    <tr>\n",
       "      <th>2016-01-04</th>\n",
       "      <td>52.65</td>\n",
       "      <td>49.7545</td>\n",
       "    </tr>\n",
       "    <tr>\n",
       "      <th>2016-01-05</th>\n",
       "      <td>52.38</td>\n",
       "      <td>48.8101</td>\n",
       "    </tr>\n",
       "    <tr>\n",
       "      <th>2016-01-06</th>\n",
       "      <td>51.19</td>\n",
       "      <td>47.7769</td>\n",
       "    </tr>\n",
       "    <tr>\n",
       "      <th>2016-01-07</th>\n",
       "      <td>49.98</td>\n",
       "      <td>47.0908</td>\n",
       "    </tr>\n",
       "    <tr>\n",
       "      <th>2016-01-08</th>\n",
       "      <td>49.07</td>\n",
       "      <td>46.6873</td>\n",
       "    </tr>\n",
       "  </tbody>\n",
       "</table>\n",
       "</div>"
      ],
      "text/plain": [
       "              AME      DOV\n",
       "Date                      \n",
       "2016-01-04  52.65  49.7545\n",
       "2016-01-05  52.38  48.8101\n",
       "2016-01-06  51.19  47.7769\n",
       "2016-01-07  49.98  47.0908\n",
       "2016-01-08  49.07  46.6873"
      ]
     },
     "execution_count": 6,
     "metadata": {},
     "output_type": "execute_result"
    }
   ],
   "source": [
    "# Read price series data, set date as index\n",
    "data = pd.read_csv('AME-DOV.csv', parse_dates=['Date'])\n",
    "data.set_index('Date', inplace=True)\n",
    "\n",
    "# Show how the price data is structured\n",
    "data.head(5)"
   ]
  },
  {
   "cell_type": "markdown",
   "metadata": {},
   "source": [
    "Although the paper suggested the usage of a 12-month training period and a 6-month trading period with daily data, our results found that the choice of 12-month and 6-month is arbitrary and the performance was not affected if a longer training period was used. In the following demonstration, daily data of both stocks from Jan 4th, 2016 to Dec 31st, 2018 were used for training, and the trading period starts from Jan 2nd, 2019 to Nov 23th, 2020."
   ]
  },
  {
   "cell_type": "code",
   "execution_count": 7,
   "metadata": {},
   "outputs": [],
   "source": [
    "# Split the entire price history into training and trading period\n",
    "# 2019 Jan 1st was a market holiday so it is a perfect split point\n",
    "train_df = data[data.index < pd.Timestamp(2019, 1, 1)]\n",
    "trade_df = data[data.index >= pd.Timestamp(2019, 1, 1)]"
   ]
  },
  {
   "cell_type": "code",
   "execution_count": 8,
   "metadata": {},
   "outputs": [],
   "source": [
    "# Initialize the minimum profit optimizer\n",
    "optimizer = MinimumProfit()\n",
    "\n",
    "# Set the trainging deatset\n",
    "optimizer.set_train_dataset(train_df)"
   ]
  },
  {
   "cell_type": "markdown",
   "metadata": {},
   "source": [
    "The next step is to test if the two stocks stayed cointegrated during the training period. Here we used the Engle-Granger test to test for cointegration and retrieve the cointegration coefficient."
   ]
  },
  {
   "cell_type": "code",
   "execution_count": 9,
   "metadata": {},
   "outputs": [],
   "source": [
    "beta_eg, epsilon_t_eg, ar_coeff_eg, ar_resid_eg = optimizer.fit(use_johansen=False, sig_level=\"95%\")"
   ]
  },
  {
   "cell_type": "markdown",
   "metadata": {},
   "source": [
    "If the asset pair is not cointegrated at the designated significance level (here we set it to 95\\%), then the `fit()` function will output a warning message that the pair was not cointegrated at the 95\\% level. Here the warning did not appear, which means the stock pair (AME-DOV) was cointegrated during the entire training period. \n",
    "\n",
    "We can now check the properties of the cointegration error and see how well it follows an AR(1) process."
   ]
  },
  {
   "cell_type": "code",
   "execution_count": 10,
   "metadata": {},
   "outputs": [
    {
     "name": "stdout",
     "output_type": "stream",
     "text": [
      "The cointegration coefficient is: -0.9492880699578972\n",
      "The AR(1) coefficient of the cointegration error is: 0.9831130430708512\n",
      "The standard deviation of the cointegration error is: 3.715799224276025\n",
      "The standard deviation of the fitted AR(1) process residual is: 0.7850483332050584\n",
      "The ratio of the AR(1) residual std-dev to cointegration error std-dev is: 0.211273076348202\n",
      "Value of sqrt(1 - phi^2) is: 0.18299930203137568\n"
     ]
    }
   ],
   "source": [
    "print(\"The cointegration coefficient is: {}\".format(beta_eg))\n",
    "print(\"The AR(1) coefficient of the cointegration error is: {}\".format(ar_coeff_eg))\n",
    "\n",
    "sigma_e = epsilon_t_eg.std()\n",
    "sigma_a = ar_resid_eg.std()\n",
    "\n",
    "print(\"The standard deviation of the cointegration error is: {}\".format(sigma_e))\n",
    "print(\"The standard deviation of the fitted AR(1) process residual is: {}\".format(sigma_a))\n",
    "print(\"The ratio of the AR(1) residual std-dev to \"\n",
    "      \"cointegration error std-dev is: {}\".format(sigma_a / sigma_e))\n",
    "print(\"Value of sqrt(1 - phi^2) is: {}\".format(np.sqrt(1 - ar_coeff_eg ** 2)))"
   ]
  },
  {
   "cell_type": "markdown",
   "metadata": {},
   "source": [
    "According to the above results, we can see that the cointegration error indeed follows a stationary AR(1) process with two pieces of proof.\n",
    "\n",
    "1. The standard deviation of the cointegration error and the standard deviation of the AR(1) process residual have the following relationship:\n",
    "\n",
    "\\begin{equation}\n",
    "\\sigma_a = \\sqrt{1 - \\phi^2} \\sigma_{\\varepsilon}\n",
    "\\end{equation}\n",
    "\n",
    "And the fitting result has shown that $\\frac{\\sigma_a}{\\sigma_{\\varepsilon}} = 0.21$ and $\\sqrt{1 - \\phi^2} = 0.18$, which is relatively close.\n",
    "\n",
    "2. The absolute value of the AR(1) coefficient is less than 1 ($\\phi = 0.9831 < 1$).\n",
    "\n",
    "Now we proceed to optimize the upper bound.\n",
    "\n",
    "**Note:** This process will take a while, so a progress bar has been provided."
   ]
  },
  {
   "cell_type": "code",
   "execution_count": 11,
   "metadata": {},
   "outputs": [
    {
     "name": "stdout",
     "output_type": "stream",
     "text": [
      "Progress: |██████████████████████████████████████████████████| 100.0% Complete\n"
     ]
    }
   ],
   "source": [
    "# Optimize the pre-set boundaries based on the fitted parameters\n",
    "optimal_ub, _, _, optimal_mtp, optimal_num_of_trades = optimizer.optimize(ar_coeff_eg, epsilon_t_eg, \n",
    "                                                                          ar_resid_eg, len(train_df))"
   ]
  },
  {
   "cell_type": "markdown",
   "metadata": {},
   "source": [
    "Let's check the optimal upper bound, the optimal minimal total profit, and the optimal total number of U-trades. We can simply double the minimal total profit and the number of U-trades to take into account L-trades."
   ]
  },
  {
   "cell_type": "code",
   "execution_count": 12,
   "metadata": {},
   "outputs": [
    {
     "name": "stdout",
     "output_type": "stream",
     "text": [
      "The optimal upper-bound is: 2.05\n",
      "The optimal minimal total profit over the in-sample period with only U-trades: $14.92\n",
      "The optimal total number of U-trades is: 7.0\n",
      "The optimal minimal total profit over the in-sample period with both U-trades and L-trades: $29.84\n",
      "The optimal total number of U-trades and L-trades is: 14.0\n"
     ]
    }
   ],
   "source": [
    "print(\"The optimal upper-bound is: {}\".format(optimal_ub))\n",
    "print(\"The optimal minimal total profit over the in-sample period with only U-trades: ${:.2f}\".format(optimal_mtp))\n",
    "print(\"The optimal total number of U-trades is: {}\".format(np.floor(optimal_num_of_trades)))\n",
    "print(\"The optimal minimal total profit over the in-sample period with both \"\n",
    "      \"U-trades and L-trades: ${:.2f}\".format(2. * optimal_mtp))\n",
    "print(\"The optimal total number of U-trades and L-trades is: {}\".format(2. * np.floor(optimal_num_of_trades)))"
   ]
  },
  {
   "cell_type": "markdown",
   "metadata": {},
   "source": [
    "The above results correspond to trading one unit of the AME-DOV pair. The optimal upper-bound is $\\$2.05$, which is also the minimum profit per trade according to the derivation in the **Minimum Profit Per Trade** section."
   ]
  },
  {
   "cell_type": "markdown",
   "metadata": {},
   "source": [
    "### Trading the Strategy"
   ]
  },
  {
   "cell_type": "markdown",
   "metadata": {},
   "source": [
    "We need to get the optimal levels to enter and exit a trade."
   ]
  },
  {
   "cell_type": "code",
   "execution_count": 13,
   "metadata": {},
   "outputs": [
    {
     "name": "stdout",
     "output_type": "stream",
     "text": [
      "The number of AME and DOV shares to trade is [8. 7.]\n",
      "The trading levels for the AME and DOV shares spread are [-5.49093964 -3.44093964 -1.39093964]\n"
     ]
    }
   ],
   "source": [
    "# Obtain levels to open and close trades and number of shares to trade on in-sample data\n",
    "num_of_shares_is, trading_levels_is = optimizer.get_optimal_levels(optimal_ub, optimal_mtp, \n",
    "                                                                   beta_eg, epsilon_t_eg)\n",
    "\n",
    "# Show the number of shares to trade\n",
    "print(\"The number of AME and DOV shares to trade is\", num_of_shares_is)\n",
    "# Show the entry and exit levels\n",
    "print(\"The trading levels for the AME and DOV shares spread are\", trading_levels_is)"
   ]
  },
  {
   "cell_type": "markdown",
   "metadata": {},
   "source": [
    "The number of shares has been decided by the optimizer. One unit of trade corresponds to trading 8 shares of AME and 7 shares of DOV. \n",
    "\n",
    "The output trading levels are:\n",
    "* To enter a long trade: $-5.49$\n",
    "* To close a trade: $-3.44$\n",
    "* To enter a short trade: $-1.39$\n",
    "\n",
    "Now we can now use the MinimumProfitTrading rule from the Spread Trading module to feed in new spread values and check times when a trade shouldbne opened. With the mechanism of providing spread values one by one to the strategy, it's easier to integrate this strategy in an existing trading pipeline."
   ]
  },
  {
   "cell_type": "code",
   "execution_count": 14,
   "metadata": {},
   "outputs": [],
   "source": [
    "# Importing the needed function\n",
    "from arbitragelab.spread_trading import MinimumProfitTradingRule"
   ]
  },
  {
   "cell_type": "code",
   "execution_count": 15,
   "metadata": {},
   "outputs": [],
   "source": [
    "# Construct spread values\n",
    "spread = optimizer.construct_spread(trade_df, beta_eg)"
   ]
  },
  {
   "cell_type": "code",
   "execution_count": 16,
   "metadata": {},
   "outputs": [],
   "source": [
    "# Creating a strategy\n",
    "strategy = MinimumProfitTradingRule(shares=num_of_shares_is, optimal_levels=trading_levels_is)"
   ]
  },
  {
   "cell_type": "markdown",
   "metadata": {},
   "source": [
    "Now we use a loop to simulate a live data feed."
   ]
  },
  {
   "cell_type": "code",
   "execution_count": 18,
   "metadata": {},
   "outputs": [],
   "source": [
    "# Adding initial spread value\n",
    "strategy.update_spread_value(spread[0])\n",
    "\n",
    "# Feeding spread values to the strategy one by one\n",
    "for time, value in spread.iteritems():\n",
    "    strategy.update_spread_value(value)\n",
    "\n",
    "    # Checking if logic for opening a trade is triggered\n",
    "    trade, side = strategy.check_entry_signal()\n",
    "\n",
    "    # Adding a trade if we decide to trade signal\n",
    "    if trade:\n",
    "        strategy.add_trade(start_timestamp=time, side_prediction=side)\n",
    "\n",
    "    # Update trades, close if logic is triggered\n",
    "    close = strategy.update_trades(update_timestamp=time)"
   ]
  },
  {
   "cell_type": "code",
   "execution_count": 19,
   "metadata": {},
   "outputs": [
    {
     "data": {
      "text/plain": [
       "{Timestamp('2020-11-06 00:00:00'): {'exit_level': -3.440939638219133,\n",
       "  'start_value': -0.19611710449839848,\n",
       "  'spread_series': [-2.947968122607861,\n",
       "   -3.3030842038034223,\n",
       "   -5.557693165698595,\n",
       "   -5.597123621664906,\n",
       "   -6.895682225038783,\n",
       "   -6.774720596063659,\n",
       "   -5.928590276267215,\n",
       "   -2.895290140097316,\n",
       "   -2.3679407709583984,\n",
       "   -0.19611710449839848],\n",
       "  'uuid': None,\n",
       "  'side': -1,\n",
       "  'shares': None,\n",
       "  'latest_update_timestamp': Timestamp('2020-11-23 00:00:00')}}"
      ]
     },
     "execution_count": 19,
     "metadata": {},
     "output_type": "execute_result"
    }
   ],
   "source": [
    "# Currently open trades in a strategy\n",
    "open_trades = strategy.open_trades\n",
    "\n",
    "open_trades"
   ]
  },
  {
   "cell_type": "markdown",
   "metadata": {},
   "source": [
    "So all trades but one were closed."
   ]
  },
  {
   "cell_type": "code",
   "execution_count": 20,
   "metadata": {},
   "outputs": [
    {
     "data": {
      "text/plain": [
       "{Timestamp('2019-01-01 00:00:00'): {'t1': Timestamp('2019-01-14 00:00:00'),\n",
       "  'pt': -3.8914267409134595,\n",
       "  'uuid': None,\n",
       "  'start_value': 0.348011436487198,\n",
       "  'end_value': -3.8914267409134595,\n",
       "  'side': -1},\n",
       " Timestamp('2019-01-29 00:00:00'): {'t1': Timestamp('2019-05-22 00:00:00'),\n",
       "  'pt': -2.7117620288827595,\n",
       "  'uuid': None,\n",
       "  'start_value': -10.020660107572425,\n",
       "  'end_value': -2.7117620288827595,\n",
       "  'side': 1},\n",
       " Timestamp('2019-06-04 00:00:00'): {'t1': Timestamp('2019-07-11 00:00:00'),\n",
       "  'pt': -3.0889942699894988,\n",
       "  'uuid': None,\n",
       "  'start_value': -5.67699314443729,\n",
       "  'end_value': -3.0889942699894988,\n",
       "  'side': 1},\n",
       " Timestamp('2019-07-17 00:00:00'): {'t1': Timestamp('2019-07-19 00:00:00'),\n",
       "  'pt': -4.434145424268877,\n",
       "  'uuid': None,\n",
       "  'start_value': -1.339039158180853,\n",
       "  'end_value': -4.434145424268877,\n",
       "  'side': -1},\n",
       " Timestamp('2019-08-01 00:00:00'): {'t1': Timestamp('2019-09-03 00:00:00'),\n",
       "  'pt': -4.4386393518050795,\n",
       "  'uuid': None,\n",
       "  'start_value': -1.2833009233259247,\n",
       "  'end_value': -4.4386393518050795,\n",
       "  'side': -1},\n",
       " Timestamp('2019-09-06 00:00:00'): {'t1': Timestamp('2019-09-10 00:00:00'),\n",
       "  'pt': -3.7284071894139146,\n",
       "  'uuid': None,\n",
       "  'start_value': -1.045266975794334,\n",
       "  'end_value': -3.7284071894139146,\n",
       "  'side': -1},\n",
       " Timestamp('2019-09-11 00:00:00'): {'t1': Timestamp('2019-09-16 00:00:00'),\n",
       "  'pt': -3.356840943321288,\n",
       "  'uuid': None,\n",
       "  'start_value': -6.078869420522977,\n",
       "  'end_value': -3.356840943321288,\n",
       "  'side': 1},\n",
       " Timestamp('2019-10-04 00:00:00'): {'t1': Timestamp('2019-10-11 00:00:00'),\n",
       "  'pt': -3.9126864911008568,\n",
       "  'uuid': None,\n",
       "  'start_value': -1.3523666460002346,\n",
       "  'end_value': -3.9126864911008568,\n",
       "  'side': -1},\n",
       " Timestamp('2019-10-17 00:00:00'): {'t1': Timestamp('2020-03-18 00:00:00'),\n",
       "  'pt': -0.6672645672586839,\n",
       "  'uuid': None,\n",
       "  'start_value': -7.7288245323316005,\n",
       "  'end_value': -0.6672645672586839,\n",
       "  'side': 1},\n",
       " Timestamp('2020-03-19 00:00:00'): {'t1': Timestamp('2020-03-23 00:00:00'),\n",
       "  'pt': -3.8449611331477414,\n",
       "  'uuid': None,\n",
       "  'start_value': 1.800404646980894,\n",
       "  'end_value': -3.8449611331477414,\n",
       "  'side': -1},\n",
       " Timestamp('2020-03-25 00:00:00'): {'t1': Timestamp('2020-04-03 00:00:00'),\n",
       "  'pt': -2.1469250919429186,\n",
       "  'uuid': None,\n",
       "  'start_value': -5.503125557906941,\n",
       "  'end_value': -2.1469250919429186,\n",
       "  'side': 1},\n",
       " Timestamp('2020-04-08 00:00:00'): {'t1': Timestamp('2020-05-07 00:00:00'),\n",
       "  'pt': -3.141664531065686,\n",
       "  'uuid': None,\n",
       "  'start_value': -7.826211068227579,\n",
       "  'end_value': -3.141664531065686,\n",
       "  'side': 1},\n",
       " Timestamp('2020-05-13 00:00:00'): {'t1': Timestamp('2020-06-04 00:00:00'),\n",
       "  'pt': -4.060301002041513,\n",
       "  'uuid': None,\n",
       "  'start_value': -1.2101179151882064,\n",
       "  'end_value': -4.060301002041513,\n",
       "  'side': -1},\n",
       " Timestamp('2020-06-08 00:00:00'): {'t1': Timestamp('2020-06-11 00:00:00'),\n",
       "  'pt': -3.231512329949709,\n",
       "  'uuid': None,\n",
       "  'start_value': -7.4939209833120515,\n",
       "  'end_value': -3.231512329949709,\n",
       "  'side': 1},\n",
       " Timestamp('2020-06-22 00:00:00'): {'t1': Timestamp('2020-07-02 00:00:00'),\n",
       "  'pt': -3.5196437752983485,\n",
       "  'uuid': None,\n",
       "  'start_value': -1.0422242599918121,\n",
       "  'end_value': -3.5196437752983485,\n",
       "  'side': -1},\n",
       " Timestamp('2020-07-20 00:00:00'): {'t1': Timestamp('2020-08-03 00:00:00'),\n",
       "  'pt': -2.9595715354575134,\n",
       "  'uuid': None,\n",
       "  'start_value': -5.909998693482777,\n",
       "  'end_value': -2.9595715354575134,\n",
       "  'side': 1},\n",
       " Timestamp('2020-08-10 00:00:00'): {'t1': Timestamp('2020-09-29 00:00:00'),\n",
       "  'pt': -2.860940692242778,\n",
       "  'uuid': None,\n",
       "  'start_value': -5.856331730347634,\n",
       "  'end_value': -2.860940692242778,\n",
       "  'side': 1},\n",
       " Timestamp('2020-10-06 00:00:00'): {'t1': Timestamp('2020-10-28 00:00:00'),\n",
       "  'pt': -5.557693165698595,\n",
       "  'uuid': None,\n",
       "  'start_value': -0.17712362166490436,\n",
       "  'end_value': -5.557693165698595,\n",
       "  'side': -1},\n",
       " Timestamp('2020-10-29 00:00:00'): {'t1': Timestamp('2020-11-04 00:00:00'),\n",
       "  'pt': -2.895290140097316,\n",
       "  'uuid': None,\n",
       "  'start_value': -5.597123621664906,\n",
       "  'end_value': -2.895290140097316,\n",
       "  'side': 1}}"
      ]
     },
     "execution_count": 20,
     "metadata": {},
     "output_type": "execute_result"
    }
   ],
   "source": [
    "# Checking all closed trades\n",
    "closed_trades = strategy.closed_trades\n",
    "\n",
    "closed_trades"
   ]
  },
  {
   "cell_type": "markdown",
   "metadata": {},
   "source": [
    "A total of 20 trades were open during this period, out of which 19 were closed.\n",
    "\n",
    "### Strategy outputs\n",
    "\n",
    "We can see the following data:\n",
    "* Dictionary key:\n",
    "    * Timestamp at which the trade was opened\n",
    "* Dctionary value:\n",
    "    * t1: Timestamp at which the trade was closed\n",
    "    * uuid: Trade ID that can be provided for each trade\n",
    "    * start_value: Spread value at which spread was opened\n",
    "    * end_value: Spread value at which spread was closed\n",
    "    * side: Side of the trade '-1' for short and '1' for long"
   ]
  },
  {
   "cell_type": "markdown",
   "metadata": {},
   "source": [
    "From the above results, we can see that each of the closed trades during this period was profitable - the spread value change was in the right direction, according to the trade side."
   ]
  },
  {
   "cell_type": "markdown",
   "metadata": {},
   "source": [
    "## Conclusion"
   ]
  },
  {
   "cell_type": "markdown",
   "metadata": {},
   "source": [
    "This notebook described how to design a cointegrated pair trading strategy by optimizing the pre-set boundaries to \"fade the spread\" to maximize the minimum total profit over a trading period. The assumptions of the cointegration model, the optimization algorithm, and the application of the algorithm to an empirical pair have been demonstrated in detail.\n",
    "\n",
    "### Key takeaways\n",
    "\n",
    "* When trading a cointegrated asset pair, two elements are required to guarantee a minimum profit per trade.\n",
    "  - Build the spread by weighting the assets by the cointegration coefficient.\n",
    "  - Fade the spread at a pre-set boundary and square the trade when the spread returns to its mean.\n",
    "* The spread must maintain cointegrated during the training and the trading period.\n",
    "* If the spread follows a stationary AR(1) process, the optimal pre-set boundary can be estimated with mean first-passage time.\n",
    "* A numerical algorithm has been given to calculate the mean first-passage time.\n",
    "* The optimal boundary maximizes the total minimum profit over a trading period.\n",
    "* By assuming a symmetric distribution of the spread, the optimal boundary is applied over both sides of the spread mean, so the spread can be faded both when overvalued and undervalued.\n",
    "* The strategy can be scaled up by setting a higher minimum profit per trade."
   ]
  },
  {
   "cell_type": "markdown",
   "metadata": {},
   "source": [
    "## Reference"
   ]
  },
  {
   "cell_type": "markdown",
   "metadata": {},
   "source": [
    "1. [Lin, Y.-X., McCrae, M., and Gulati, C. (2006). Loss protection in pairs trading through minimum profit bounds: A cointegration approach.Journal of Applied Mathematics and Decision Sciences, 2006(1):1–14.](http://downloads.hindawi.com/archive/2006/073803.pdf)\n",
    "2. [Puspaningrum, H., Lin, Y.-X., and Gulati, C. M. (2010).  Finding the optimal pre-set boundaries for pairs trading strategy based on cointegration technique. Journal of  Statistical  Theory and Practice, 4(3):391–419.](https://ro.uow.edu.au/cgi/viewcontent.cgi?article=1040&context=cssmwp)"
   ]
  }
 ],
 "metadata": {
  "kernelspec": {
   "display_name": "arblab3.8",
   "language": "python",
   "name": "arblab3.8"
  },
  "language_info": {
   "codemirror_mode": {
    "name": "ipython",
    "version": 3
   },
   "file_extension": ".py",
   "mimetype": "text/x-python",
   "name": "python",
   "nbconvert_exporter": "python",
   "pygments_lexer": "ipython3",
   "version": "3.8.13"
  }
 },
 "nbformat": 4,
 "nbformat_minor": 4
}

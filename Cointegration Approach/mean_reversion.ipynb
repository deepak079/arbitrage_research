{
 "cells": [
  {
   "cell_type": "markdown",
   "metadata": {},
   "source": [
    "* Reference: __Algorithmic Trading: Winning Strategies and Their Rationale__ _by_ Ernest P. Chan"
   ]
  },
  {
   "cell_type": "markdown",
   "metadata": {},
   "source": [
    "# Mean Reversion"
   ]
  },
  {
   "cell_type": "markdown",
   "metadata": {},
   "source": [
    "This description of the mean-reverting processes closely follows the work of _Ernest P. Chan_ __Algorithmic Trading: Winning Strategies and Their Rationale__  [available here](https://www.wiley.com/en-us/Algorithmic+Trading%3A+Winning+Strategies+and+Their+Rationale-p-9781118460146). \n",
    "\n",
    "Additional information on the Engle-Granger cointegration test can be found in a paper by _Faik Bilgili_ __Stationarity and cointegration tests: Comparison of Engle-Granger and Johansen methodologies__ [available here](https://mpra.ub.uni-muenchen.de/75967/1/MPRA_paper_75967.pdf)."
   ]
  },
  {
   "cell_type": "markdown",
   "metadata": {},
   "source": [
    "## Introduction"
   ]
  },
  {
   "cell_type": "markdown",
   "metadata": {},
   "source": [
    "Mean-reverting processes and events often occur in nature. Observations of the processes that have a mean-reverting nature tend to move to their average value over time. However, as mentioned in the work of E.P. Chan, most financial price series are not mean-reverting.\n",
    "\n",
    "The upside is that we can construct advanced financial instruments from multiple simple ones thus obtaining the desired property. Observation series (stock, commodity prices, etc.) that can be combined to achieve a mean-reverting process are called *cointegrating*. The approach described above allows us to use the properties of mean-reverting processes to generate profit."
   ]
  },
  {
   "cell_type": "markdown",
   "metadata": {},
   "source": [
    "## Augmented Dickey–Fuller (ADF) test\n",
    "\n",
    "According to Ernest P. Chan:\n",
    "\"The mathematical description of a mean-reverting price series is that the change of the price series in the next period is proportional to the difference between the mean price and the current price. This gives rise to the ADF test, which tests whether we can reject the null hypothesis that the proportionality\n",
    "constant is zero.\"\n",
    "\n",
    "The ADF test is based on the idea that the current price level gives us information about the future price level: if it's lower than the mean, the next move will be upwards, and vice versa.\n",
    "\n",
    "The ADF test uses the linear model that describes the price changes as follows:\n",
    "\n",
    "$$\\Delta y(t) = \\lambda y(t-1) + \\mu + \\beta t + \\alpha_1 \\Delta y(t-1) + ... \\alpha_k \\Delta y(t-k) + \\epsilon_t$$\n",
    "\n",
    "where $\\Delta y(t) \\equiv y(t) - y(t-1)$, $\\Delta y(t) \\equiv y(t-1) - y(t-2)$, ...\n",
    "\n",
    "The hypothesis that is being tested is: $\\lambda = 0$. For simplicity we assume the drift term to be zero ($\\beta = 0$). If we reject the hypothesis, this means that the next price move depends on the current price level.\n"
   ]
  },
  {
   "cell_type": "markdown",
   "metadata": {},
   "source": [
    "## The Half-life period\n",
    "\n",
    "Mean reversion tests, such as ADF usually require at least 90 percent certainty. But in practice, we can create strategies that are profitable even at lower certainty levels. The measure $\\lambda$ can be used to calculate the *half-life*, which indicates how long it takes for a price to mean revert:\n",
    "\n",
    "$$Half-life = -log(2) / \\lambda$$\n",
    "\n",
    "Furthermore, we can see that if the $\\lambda$ value is positive, the price series are not mean-reverting. If it's close to zero, the half-life is very long and the strategy won't be profitable due to slow mean reversion.\n",
    "\n",
    "Half-life period can be helpful to determine some of the parameters to use in the trading strategy. Say, if the half-life period is 20 days, then using 5 days backward-looking window for moving average or volatility calculation may not give the best results.\n",
    "\n",
    "The most common approach is to use two cointegrated price series to construct a portfolio. This is done by simultaneously going long on one asset and short on the other, with an appropriate capital allocation for each asset. This approach is also called a \"pairs trading strategy\". However, the approach can be extended to three and more assets."
   ]
  },
  {
   "cell_type": "markdown",
   "metadata": {},
   "source": [
    "## Johansen cointegration test\n",
    "\n",
    "This is one of the most widely used cointegration tests, it's upside is that, first it allows multiple price series for stationarity testing, and second it provides hedge ratios for price series used to combine elements into a stationary portfolio.\n",
    "\n",
    "To understand how to test the cointegration of more than two variables, we can transform the equation used in the ADF test to a vector form. So $y(t)$ would be vectors representing multiple price series, and the $\\lambda$ and $\\alpha$ are matrices. We also assume that the drift term is zero ($\\beta t = 0$). So the equation can be rewritten as follows:\n",
    "\n",
    "$$\\Delta Y(t) = \\Lambda Y(t-1) + M + A_1 \\Delta Y(t-1) + ... + A_k \\Delta Y(t-k) + \\epsilon_t$$"
   ]
  },
  {
   "cell_type": "markdown",
   "metadata": {},
   "source": [
    "This way we can test the hypothesis of $\\Lambda = 0$, in which case, we don't have cointegration present. Denoting the rank of the obtained matrix $\\Lambda$ as $r$ and the number of price series as $n$, the number of independent portfolios that can be formed is equal to $r$.\n",
    "\n",
    "The Johansen test calculates the $r$ and tests the hypotheses of $r = 0$ (cointegrating relationship exists), $r \\le 1$, ..., $r \\le n - 1$. In case all the above hypotheses are rejected, the result is that $r = n$ and the eigenvectors of the $\\Lambda$ can be used as hedge ratios to construct a mean-reverting portfolio.\n",
    "\n",
    "Note that the Johansen test is independent of the order of the price series, in contrast to the CADF test."
   ]
  },
  {
   "cell_type": "markdown",
   "metadata": {},
   "source": [
    "## Engle-Granger cointegration test\n",
    "\n",
    "\n",
    "The cointegration testing approach proposed by Engle-Granger allows us to test whether two or more price series are cointegrated of a given order.\n",
    "\n",
    "The Engle-Granger cointegration test is performed as follows:\n",
    "\n",
    "- First, we need to determine the order of integration of variables $x$ and $y$\n",
    "  (or $y_{1}, y_{2}, ...$ in case of more than two variables). If they are integrated of the same order, we can apply the cointegration test.\n",
    "- Next, if the variables are integrated of order one at the previous step, the following regressions can be performed:\n",
    "\n",
    "$$x_t = a_0 + a_1 y_t + e_{1,t},$$"
   ]
  },
  {
   "cell_type": "markdown",
   "metadata": {},
   "source": [
    "$$y_t = b_0 + b_1 x_t + e_{2,t}$$\n",
    "\n",
    "- Finally we run the following regressions and test for unit root for each equation:\n",
    "\n",
    "$$\\Delta e_{1,t} = a_1 e_{1, t-1} + v_{1, t},$$"
   ]
  },
  {
   "cell_type": "markdown",
   "metadata": {},
   "source": [
    "$$\\Delta e_{2,t} = a_2 e_{2, t-1} + v_{2, t}$$"
   ]
  },
  {
   "cell_type": "markdown",
   "metadata": {},
   "source": [
    "If we cannot reject the null hypotheses that $|a_1| = 0$ and $|a_2| = 0$, we cannot reject the hypothesis that the variables are not cointegrated.\n",
    "\n",
    "The hedge ratios for constructing a mean-reverting portfolio in the case of the Engle-Granger test are set to $1$ for the $x$ variable and the coefficient $-a_1$ for the $y$ variable (or $-a_1, -a_2, ..$ in case of multiple $y_i$ price series).\n",
    "\n",
    "The Engle-Granger cointegration test implemented in the ArbitrageLab package assumes that the first step of the algorithm is passed and that the variables are integrated of order one."
   ]
  },
  {
   "cell_type": "markdown",
   "metadata": {},
   "source": [
    "## Bollinger Bands trading strategy\n",
    "\n",
    "By using the Bollinger bands on the Z-scores from the provided spread, we can construct a trading strategy.\n",
    "The Z-score is calculated as a normalized deviation of the spread value from its moving average.\n",
    "The formula can be written as follows:\n",
    "\n",
    "$$Zscore_{t} = \\frac{S_{t} - MA(S_{t}, T_{MA})}{std(S_{t}, T_{std})}$$\n",
    "\n",
    "Where:\n",
    "\n",
    "- $S_{t}$ is the spread value at time $t$.\n",
    "\n",
    "- $MA(S_{t}, T_{MA})$ is the moving average of the spread calculated\n",
    "  using a backward-looking $T_{MA}$ window.\n",
    "\n",
    "- $std(S_{t}, T_{std})$ is the rolling standard deviation of the spread\n",
    "  calculated using a backward-looking $T_{std}$ window.\n",
    "\n",
    "The idea is to enter a position only when the price deviates by more than *entryZscore* standard deviations\n",
    "from the mean. This parameter can be optimized in a training set.\n",
    "\n",
    "Also, the look-back windows for calculating the mean and the standard deviation are the parameters that\n",
    "can be optimized. We can later exit the strategy when the price reverts to the *exitZscore* standard\n",
    "deviations from the mean (*exitZscore* $<$ *entryZscore*).\n",
    "\n",
    "If *exitZscore* $= -$ *entryZscore*, we will exit when the price moves beyond the opposite band,\n",
    "also triggering a trading signal of the opposite sign. At either time we can have either zero or one\n",
    "unit (long or short) invested, so capital allocation is easy.\n",
    "\n",
    "If the look-back window is short and we set a small *entryZscore* and *exitZscore*, the holding period\n",
    "will be shorter and we get more round trip trades and generally higher profits.\n",
    "\n",
    "The strategy object is initialized with a window for a simple moving average, a window for\n",
    "simple moving st. deviation, and entry and exit label Z-Scores.\n",
    "\n",
    "The `update_spread_value` method allows adding new spread values one by one - when they are available.\n",
    "At each stage, the `check_entry_signal` method checks if the trade should be entered according to the\n",
    "above-described logic. If the trade should be opened, it can be added to the internal dictionary using the\n",
    "`add_trade` method.\n",
    "\n",
    "As well, the `update_trades` method can be used to check if any trades should be closed.\n",
    "If so, the internal dictionaries are updated, and the list of the closed trades at this stage is returned."
   ]
  },
  {
   "cell_type": "markdown",
   "metadata": {},
   "source": [
    "## Usage of the Algorithms"
   ]
  },
  {
   "cell_type": "markdown",
   "metadata": {},
   "source": [
    "Let's use the above tools on real data. \n",
    "\n",
    "First, we will use the cointegration tests on datasets to determine if it's possible to construct a mean-reverting portfolio. Then we will create such a portfolio, find its half-lif, and run trading strategies on it. Finally, we will analyze the obtained results. "
   ]
  },
  {
   "cell_type": "code",
   "execution_count": 1,
   "metadata": {},
   "outputs": [],
   "source": [
    "import arbitragelab as al\n",
    "import numpy as np\n",
    "import pandas as pd\n",
    "import yfinance as yf\n",
    "import matplotlib.pyplot as plt"
   ]
  },
  {
   "cell_type": "markdown",
   "metadata": {},
   "source": [
    "### Loading data"
   ]
  },
  {
   "cell_type": "markdown",
   "metadata": {},
   "source": [
    "Following the example in the Optimal Mean Reversion module, we will use Gold Shares ETF (GLD), Gold Miners ETF (GDX), and Junior Gold Miners ETF (GDXJ) to construct a portfolio of three elements."
   ]
  },
  {
   "cell_type": "code",
   "execution_count": 2,
   "metadata": {},
   "outputs": [
    {
     "name": "stdout",
     "output_type": "stream",
     "text": [
      "[*********************100%***********************]  3 of 3 completed\n",
      "[*********************100%***********************]  3 of 3 completed\n"
     ]
    },
    {
     "data": {
      "text/html": [
       "<div>\n",
       "<style scoped>\n",
       "    .dataframe tbody tr th:only-of-type {\n",
       "        vertical-align: middle;\n",
       "    }\n",
       "\n",
       "    .dataframe tbody tr th {\n",
       "        vertical-align: top;\n",
       "    }\n",
       "\n",
       "    .dataframe thead th {\n",
       "        text-align: right;\n",
       "    }\n",
       "</style>\n",
       "<table border=\"1\" class=\"dataframe\">\n",
       "  <thead>\n",
       "    <tr style=\"text-align: right;\">\n",
       "      <th></th>\n",
       "      <th>GLD</th>\n",
       "      <th>GDX</th>\n",
       "      <th>GDXJ</th>\n",
       "    </tr>\n",
       "    <tr>\n",
       "      <th>Date</th>\n",
       "      <th></th>\n",
       "      <th></th>\n",
       "      <th></th>\n",
       "    </tr>\n",
       "  </thead>\n",
       "  <tbody>\n",
       "    <tr>\n",
       "      <th>2015-12-31</th>\n",
       "      <td>101.459999</td>\n",
       "      <td>13.105696</td>\n",
       "      <td>17.456858</td>\n",
       "    </tr>\n",
       "    <tr>\n",
       "      <th>2016-01-04</th>\n",
       "      <td>102.889999</td>\n",
       "      <td>13.459128</td>\n",
       "      <td>17.993013</td>\n",
       "    </tr>\n",
       "    <tr>\n",
       "      <th>2016-01-05</th>\n",
       "      <td>103.180000</td>\n",
       "      <td>13.392262</td>\n",
       "      <td>18.029364</td>\n",
       "    </tr>\n",
       "    <tr>\n",
       "      <th>2016-01-06</th>\n",
       "      <td>104.669998</td>\n",
       "      <td>13.611964</td>\n",
       "      <td>18.338333</td>\n",
       "    </tr>\n",
       "    <tr>\n",
       "      <th>2016-01-07</th>\n",
       "      <td>106.150002</td>\n",
       "      <td>14.213758</td>\n",
       "      <td>18.765438</td>\n",
       "    </tr>\n",
       "  </tbody>\n",
       "</table>\n",
       "</div>"
      ],
      "text/plain": [
       "                   GLD        GDX       GDXJ\n",
       "Date                                        \n",
       "2015-12-31  101.459999  13.105696  17.456858\n",
       "2016-01-04  102.889999  13.459128  17.993013\n",
       "2016-01-05  103.180000  13.392262  18.029364\n",
       "2016-01-06  104.669998  13.611964  18.338333\n",
       "2016-01-07  106.150002  14.213758  18.765438"
      ]
     },
     "execution_count": 2,
     "metadata": {},
     "output_type": "execute_result"
    }
   ],
   "source": [
    "# Loading data\n",
    "train_data =  yf.download(\"GLD GDX GDXJ\", start=\"2016-01-01\", end=\"2018-01-01\")\n",
    "test_data =  yf.download(\"GLD GDX GDXJ\", start=\"2018-01-02\", end=\"2020-01-01\")\n",
    "\n",
    "# Taking close prices for chosen instruments\n",
    "train_three_elements = train_data[\"Adj Close\"][[\"GLD\", \"GDX\", \"GDXJ\"]]\n",
    "\n",
    "test_three_elements = test_data[\"Adj Close\"][[\"GLD\", \"GDX\", \"GDXJ\"]]\n",
    "\n",
    "# Looking at the downloaded data\n",
    "train_three_elements.head()"
   ]
  },
  {
   "cell_type": "markdown",
   "metadata": {},
   "source": [
    "### Johansen test"
   ]
  },
  {
   "cell_type": "markdown",
   "metadata": {},
   "source": [
    "Now let's run the cointegration tests and analyze the results."
   ]
  },
  {
   "cell_type": "code",
   "execution_count": 3,
   "metadata": {},
   "outputs": [],
   "source": [
    "# Initialising an object containing needed methods\n",
    "j_portfolio = al.cointegration_approach.JohansenPortfolio()\n",
    "\n",
    "# Fitting the data on a dataset of three elements with constant term\n",
    "j_portfolio.fit(train_three_elements, det_order=0)\n",
    "\n",
    "# Getting results of the eigenvalue and trace Johansen tests\n",
    "j_eigenvalue_statistics = j_portfolio.johansen_eigen_statistic\n",
    "j_trace_statistics = j_portfolio.johansen_trace_statistic\n",
    "j_cointegration_vectors = j_portfolio.cointegration_vectors\n",
    "j_hedge_ratios = j_portfolio.hedge_ratios"
   ]
  },
  {
   "cell_type": "code",
   "execution_count": 4,
   "metadata": {},
   "outputs": [
    {
     "data": {
      "text/html": [
       "<div>\n",
       "<style scoped>\n",
       "    .dataframe tbody tr th:only-of-type {\n",
       "        vertical-align: middle;\n",
       "    }\n",
       "\n",
       "    .dataframe tbody tr th {\n",
       "        vertical-align: top;\n",
       "    }\n",
       "\n",
       "    .dataframe thead th {\n",
       "        text-align: right;\n",
       "    }\n",
       "</style>\n",
       "<table border=\"1\" class=\"dataframe\">\n",
       "  <thead>\n",
       "    <tr style=\"text-align: right;\">\n",
       "      <th></th>\n",
       "      <th>GLD</th>\n",
       "      <th>GDX</th>\n",
       "      <th>GDXJ</th>\n",
       "    </tr>\n",
       "  </thead>\n",
       "  <tbody>\n",
       "    <tr>\n",
       "      <th>90%</th>\n",
       "      <td>18.892800</td>\n",
       "      <td>12.29710</td>\n",
       "      <td>2.705500</td>\n",
       "    </tr>\n",
       "    <tr>\n",
       "      <th>95%</th>\n",
       "      <td>21.131400</td>\n",
       "      <td>14.26390</td>\n",
       "      <td>3.841500</td>\n",
       "    </tr>\n",
       "    <tr>\n",
       "      <th>99%</th>\n",
       "      <td>25.865000</td>\n",
       "      <td>18.52000</td>\n",
       "      <td>6.634900</td>\n",
       "    </tr>\n",
       "    <tr>\n",
       "      <th>eigen_value</th>\n",
       "      <td>23.136798</td>\n",
       "      <td>12.89696</td>\n",
       "      <td>4.058005</td>\n",
       "    </tr>\n",
       "  </tbody>\n",
       "</table>\n",
       "</div>"
      ],
      "text/plain": [
       "                   GLD       GDX      GDXJ\n",
       "90%          18.892800  12.29710  2.705500\n",
       "95%          21.131400  14.26390  3.841500\n",
       "99%          25.865000  18.52000  6.634900\n",
       "eigen_value  23.136798  12.89696  4.058005"
      ]
     },
     "execution_count": 4,
     "metadata": {},
     "output_type": "execute_result"
    }
   ],
   "source": [
    "# First, the eigenvalue statistic test\n",
    "j_eigenvalue_statistics"
   ]
  },
  {
   "cell_type": "markdown",
   "metadata": {},
   "source": [
    "Using the eigenvalue statistic test, we can see that our eigenvalue statistics are above the 95% significance level values for two elements - GLD and GDXJ. And they are all above the 90% significance level values.\n",
    "\n",
    "So at a 90% significance level, three elements are cointegrated, we can construct three possible mean-reverting portfolios using the coefficients from the \n",
    "*j_cointegration_vectors* variable."
   ]
  },
  {
   "cell_type": "code",
   "execution_count": 5,
   "metadata": {},
   "outputs": [
    {
     "data": {
      "text/html": [
       "<div>\n",
       "<style scoped>\n",
       "    .dataframe tbody tr th:only-of-type {\n",
       "        vertical-align: middle;\n",
       "    }\n",
       "\n",
       "    .dataframe tbody tr th {\n",
       "        vertical-align: top;\n",
       "    }\n",
       "\n",
       "    .dataframe thead th {\n",
       "        text-align: right;\n",
       "    }\n",
       "</style>\n",
       "<table border=\"1\" class=\"dataframe\">\n",
       "  <thead>\n",
       "    <tr style=\"text-align: right;\">\n",
       "      <th></th>\n",
       "      <th>GLD</th>\n",
       "      <th>GDX</th>\n",
       "      <th>GDXJ</th>\n",
       "    </tr>\n",
       "  </thead>\n",
       "  <tbody>\n",
       "    <tr>\n",
       "      <th>90%</th>\n",
       "      <td>27.066900</td>\n",
       "      <td>13.429400</td>\n",
       "      <td>2.705500</td>\n",
       "    </tr>\n",
       "    <tr>\n",
       "      <th>95%</th>\n",
       "      <td>29.796100</td>\n",
       "      <td>15.494300</td>\n",
       "      <td>3.841500</td>\n",
       "    </tr>\n",
       "    <tr>\n",
       "      <th>99%</th>\n",
       "      <td>35.462800</td>\n",
       "      <td>19.934900</td>\n",
       "      <td>6.634900</td>\n",
       "    </tr>\n",
       "    <tr>\n",
       "      <th>trace_statistic</th>\n",
       "      <td>40.091763</td>\n",
       "      <td>16.954965</td>\n",
       "      <td>4.058005</td>\n",
       "    </tr>\n",
       "  </tbody>\n",
       "</table>\n",
       "</div>"
      ],
      "text/plain": [
       "                       GLD        GDX      GDXJ\n",
       "90%              27.066900  13.429400  2.705500\n",
       "95%              29.796100  15.494300  3.841500\n",
       "99%              35.462800  19.934900  6.634900\n",
       "trace_statistic  40.091763  16.954965  4.058005"
      ]
     },
     "execution_count": 5,
     "metadata": {},
     "output_type": "execute_result"
    }
   ],
   "source": [
    "# Next, the alternative trace statistic test\n",
    "j_trace_statistics"
   ]
  },
  {
   "cell_type": "code",
   "execution_count": 6,
   "metadata": {},
   "outputs": [
    {
     "data": {
      "text/html": [
       "<div>\n",
       "<style scoped>\n",
       "    .dataframe tbody tr th:only-of-type {\n",
       "        vertical-align: middle;\n",
       "    }\n",
       "\n",
       "    .dataframe tbody tr th {\n",
       "        vertical-align: top;\n",
       "    }\n",
       "\n",
       "    .dataframe thead th {\n",
       "        text-align: right;\n",
       "    }\n",
       "</style>\n",
       "<table border=\"1\" class=\"dataframe\">\n",
       "  <thead>\n",
       "    <tr style=\"text-align: right;\">\n",
       "      <th></th>\n",
       "      <th>GLD</th>\n",
       "      <th>GDX</th>\n",
       "      <th>GDXJ</th>\n",
       "    </tr>\n",
       "  </thead>\n",
       "  <tbody>\n",
       "    <tr>\n",
       "      <th>0</th>\n",
       "      <td>0.406693</td>\n",
       "      <td>-1.804367</td>\n",
       "      <td>0.671575</td>\n",
       "    </tr>\n",
       "    <tr>\n",
       "      <th>1</th>\n",
       "      <td>-0.000708</td>\n",
       "      <td>0.541323</td>\n",
       "      <td>-0.124205</td>\n",
       "    </tr>\n",
       "    <tr>\n",
       "      <th>2</th>\n",
       "      <td>-0.209996</td>\n",
       "      <td>-0.203786</td>\n",
       "      <td>0.302985</td>\n",
       "    </tr>\n",
       "  </tbody>\n",
       "</table>\n",
       "</div>"
      ],
      "text/plain": [
       "        GLD       GDX      GDXJ\n",
       "0  0.406693 -1.804367  0.671575\n",
       "1 -0.000708  0.541323 -0.124205\n",
       "2 -0.209996 -0.203786  0.302985"
      ]
     },
     "execution_count": 6,
     "metadata": {},
     "output_type": "execute_result"
    }
   ],
   "source": [
    "# Cointegration vectors\n",
    "j_cointegration_vectors"
   ]
  },
  {
   "cell_type": "markdown",
   "metadata": {},
   "source": [
    "We have slightly different results for the trace statistic test. Here, all three trace statistics are above the 95% significance level values.\n",
    "\n",
    "According to this test, at a 95% significance level, three elements are cointegrated, we can construct three possible mean-reverting portfolios using the hedge ratios  from the same *j_hedge_ratios* variable."
   ]
  },
  {
   "cell_type": "code",
   "execution_count": 7,
   "metadata": {},
   "outputs": [
    {
     "data": {
      "text/html": [
       "<div>\n",
       "<style scoped>\n",
       "    .dataframe tbody tr th:only-of-type {\n",
       "        vertical-align: middle;\n",
       "    }\n",
       "\n",
       "    .dataframe tbody tr th {\n",
       "        vertical-align: top;\n",
       "    }\n",
       "\n",
       "    .dataframe thead th {\n",
       "        text-align: right;\n",
       "    }\n",
       "</style>\n",
       "<table border=\"1\" class=\"dataframe\">\n",
       "  <thead>\n",
       "    <tr style=\"text-align: right;\">\n",
       "      <th></th>\n",
       "      <th>GLD</th>\n",
       "      <th>GDX</th>\n",
       "      <th>GDXJ</th>\n",
       "    </tr>\n",
       "  </thead>\n",
       "  <tbody>\n",
       "    <tr>\n",
       "      <th>0</th>\n",
       "      <td>1.0</td>\n",
       "      <td>4.436676</td>\n",
       "      <td>-1.651306</td>\n",
       "    </tr>\n",
       "    <tr>\n",
       "      <th>1</th>\n",
       "      <td>1.0</td>\n",
       "      <td>764.320532</td>\n",
       "      <td>-175.371526</td>\n",
       "    </tr>\n",
       "    <tr>\n",
       "      <th>2</th>\n",
       "      <td>1.0</td>\n",
       "      <td>-0.970427</td>\n",
       "      <td>1.442812</td>\n",
       "    </tr>\n",
       "  </tbody>\n",
       "</table>\n",
       "</div>"
      ],
      "text/plain": [
       "   GLD         GDX        GDXJ\n",
       "0  1.0    4.436676   -1.651306\n",
       "1  1.0  764.320532 -175.371526\n",
       "2  1.0   -0.970427    1.442812"
      ]
     },
     "execution_count": 7,
     "metadata": {},
     "output_type": "execute_result"
    }
   ],
   "source": [
    "# Hedge ratios to construct a mean-reverting spread \n",
    "j_hedge_ratios"
   ]
  },
  {
   "cell_type": "markdown",
   "metadata": {},
   "source": [
    "### Engle-Granger test"
   ]
  },
  {
   "cell_type": "code",
   "execution_count": 8,
   "metadata": {},
   "outputs": [],
   "source": [
    "# Initialising an object containing needed methods\n",
    "eg_portfolio = al.cointegration_approach.EngleGrangerPortfolio()\n",
    "\n",
    "# Fitting the data on a dataset of three elements with constant term\n",
    "eg_portfolio.fit(train_three_elements, add_constant=True)\n",
    "\n",
    "# Getting results of the Engle-Granger test\n",
    "eg_adf_statistics = eg_portfolio.adf_statistics\n",
    "eg_cointegration_vectors = eg_portfolio.cointegration_vectors\n",
    "eg_hedge_ratios = eg_portfolio.hedge_ratios"
   ]
  },
  {
   "cell_type": "code",
   "execution_count": 9,
   "metadata": {},
   "outputs": [
    {
     "data": {
      "text/html": [
       "<div>\n",
       "<style scoped>\n",
       "    .dataframe tbody tr th:only-of-type {\n",
       "        vertical-align: middle;\n",
       "    }\n",
       "\n",
       "    .dataframe tbody tr th {\n",
       "        vertical-align: top;\n",
       "    }\n",
       "\n",
       "    .dataframe thead th {\n",
       "        text-align: right;\n",
       "    }\n",
       "</style>\n",
       "<table border=\"1\" class=\"dataframe\">\n",
       "  <thead>\n",
       "    <tr style=\"text-align: right;\">\n",
       "      <th></th>\n",
       "      <th>0</th>\n",
       "    </tr>\n",
       "  </thead>\n",
       "  <tbody>\n",
       "    <tr>\n",
       "      <th>99%</th>\n",
       "      <td>-3.443418</td>\n",
       "    </tr>\n",
       "    <tr>\n",
       "      <th>95%</th>\n",
       "      <td>-2.867303</td>\n",
       "    </tr>\n",
       "    <tr>\n",
       "      <th>90%</th>\n",
       "      <td>-2.569840</td>\n",
       "    </tr>\n",
       "    <tr>\n",
       "      <th>statistic_value</th>\n",
       "      <td>-3.260982</td>\n",
       "    </tr>\n",
       "  </tbody>\n",
       "</table>\n",
       "</div>"
      ],
      "text/plain": [
       "                        0\n",
       "99%             -3.443418\n",
       "95%             -2.867303\n",
       "90%             -2.569840\n",
       "statistic_value -3.260982"
      ]
     },
     "execution_count": 9,
     "metadata": {},
     "output_type": "execute_result"
    }
   ],
   "source": [
    "# Looking at the statistic from the last step of the Engle-Granger test\n",
    "eg_adf_statistics"
   ]
  },
  {
   "cell_type": "code",
   "execution_count": 10,
   "metadata": {},
   "outputs": [
    {
     "data": {
      "text/html": [
       "<div>\n",
       "<style scoped>\n",
       "    .dataframe tbody tr th:only-of-type {\n",
       "        vertical-align: middle;\n",
       "    }\n",
       "\n",
       "    .dataframe tbody tr th {\n",
       "        vertical-align: top;\n",
       "    }\n",
       "\n",
       "    .dataframe thead th {\n",
       "        text-align: right;\n",
       "    }\n",
       "</style>\n",
       "<table border=\"1\" class=\"dataframe\">\n",
       "  <thead>\n",
       "    <tr style=\"text-align: right;\">\n",
       "      <th></th>\n",
       "      <th>GLD</th>\n",
       "      <th>GDX</th>\n",
       "      <th>GDXJ</th>\n",
       "    </tr>\n",
       "  </thead>\n",
       "  <tbody>\n",
       "    <tr>\n",
       "      <th>0</th>\n",
       "      <td>1.0</td>\n",
       "      <td>-3.275548</td>\n",
       "      <td>0.984685</td>\n",
       "    </tr>\n",
       "  </tbody>\n",
       "</table>\n",
       "</div>"
      ],
      "text/plain": [
       "   GLD       GDX      GDXJ\n",
       "0  1.0 -3.275548  0.984685"
      ]
     },
     "execution_count": 10,
     "metadata": {},
     "output_type": "execute_result"
    }
   ],
   "source": [
    "# Cointegration vectors\n",
    "eg_cointegration_vectors"
   ]
  },
  {
   "cell_type": "markdown",
   "metadata": {},
   "source": [
    "Using the ADF statistic test output, we can see that our statistic is above the 95% significance level value.\n",
    "\n",
    "So at a 95% significance level, our elements are cointegrated, we can construct a mean-reverting portfolio using the coefficients from the *eg_hedge_ratios* variable."
   ]
  },
  {
   "cell_type": "code",
   "execution_count": 11,
   "metadata": {},
   "outputs": [
    {
     "data": {
      "text/html": [
       "<div>\n",
       "<style scoped>\n",
       "    .dataframe tbody tr th:only-of-type {\n",
       "        vertical-align: middle;\n",
       "    }\n",
       "\n",
       "    .dataframe tbody tr th {\n",
       "        vertical-align: top;\n",
       "    }\n",
       "\n",
       "    .dataframe thead th {\n",
       "        text-align: right;\n",
       "    }\n",
       "</style>\n",
       "<table border=\"1\" class=\"dataframe\">\n",
       "  <thead>\n",
       "    <tr style=\"text-align: right;\">\n",
       "      <th></th>\n",
       "      <th>GLD</th>\n",
       "      <th>GDX</th>\n",
       "      <th>GDXJ</th>\n",
       "    </tr>\n",
       "  </thead>\n",
       "  <tbody>\n",
       "    <tr>\n",
       "      <th>0</th>\n",
       "      <td>1.0</td>\n",
       "      <td>3.275548</td>\n",
       "      <td>-0.984685</td>\n",
       "    </tr>\n",
       "  </tbody>\n",
       "</table>\n",
       "</div>"
      ],
      "text/plain": [
       "   GLD       GDX      GDXJ\n",
       "0  1.0  3.275548 -0.984685"
      ]
     },
     "execution_count": 11,
     "metadata": {},
     "output_type": "execute_result"
    }
   ],
   "source": [
    "eg_hedge_ratios"
   ]
  },
  {
   "cell_type": "markdown",
   "metadata": {},
   "source": [
    "As described in the theoretical part, the coefficient for the first element is $1$, while other two are equal to negative regression coefficients."
   ]
  },
  {
   "cell_type": "markdown",
   "metadata": {},
   "source": [
    "### Constructing spread series"
   ]
  },
  {
   "cell_type": "markdown",
   "metadata": {},
   "source": [
    "For constructing spread series it's advised to use the functionality of the Hedge Ratios module."
   ]
  },
  {
   "cell_type": "code",
   "execution_count": 12,
   "metadata": {},
   "outputs": [],
   "source": [
    "from arbitragelab.hedge_ratios import (get_ols_hedge_ratio, get_tls_hedge_ratio,\n",
    "                                       get_johansen_hedge_ratio, get_box_tiao_hedge_ratio,\n",
    "                                       get_minimum_hl_hedge_ratio, get_adf_optimal_hedge_ratio,\n",
    "                                       construct_spread)"
   ]
  },
  {
   "cell_type": "code",
   "execution_count": 13,
   "metadata": {},
   "outputs": [
    {
     "name": "stdout",
     "output_type": "stream",
     "text": [
      "OLS hedge ratio for SPY/QQQ spread is {'GLD': 1.0, 'GDX': 11.518785796811615, 'GDXJ': -4.131862128768251}\n",
      "TLS hedge ratio for SPY/QQQ spread is {'GLD': 1.0, 'GDX': 16.20262634294468, 'GDXJ': -7.257102810773029}\n",
      "Johansen hedge ratio for SPY/QQQ spread is {'GLD': 1.0, 'GDX': 4.43667627657224, 'GDXJ': -1.6513064429701843}\n",
      "Box-Tiao hedge ratio for SPY/QQQ spread is {'GLD': 1.0, 'GDX': 3.938312783289991, 'GDXJ': -1.3759067838435803}\n"
     ]
    },
    {
     "name": "stderr",
     "output_type": "stream",
     "text": [
      "/Users/illya/Programs/Anaconda/anaconda3/envs/arblab3.8/lib/python3.8/site-packages/statsmodels/tsa/base/tsa_model.py:471: ValueWarning: A date index has been provided, but it has no associated frequency information and so will be ignored when e.g. forecasting.\n",
      "  self._init_dates(dates, freq)\n"
     ]
    },
    {
     "name": "stdout",
     "output_type": "stream",
     "text": [
      "Minimum HL hedge ratio for SPY/QQQ spread is {'GLD': 1.0, 'GDX': 3.946674787647176, 'GDXJ': -1.3834025628239492}\n",
      "Minimum ADF t-statistic hedge ratio for SPY/QQQ spread is {'GLD': 1.0, 'GDX': 19960.596147759185, 'GDXJ': 2177.826238226206}\n"
     ]
    }
   ],
   "source": [
    "# Calculating hedge ratios using the supported algorithms\n",
    "ols_hedge_ratio, _, _, _ = get_ols_hedge_ratio(train_three_elements, dependent_variable='GLD',\n",
    "                                               add_constant=False)\n",
    "print(f'OLS hedge ratio for SPY/QQQ spread is {ols_hedge_ratio}')\n",
    "\n",
    "tls_hedge_ratio, _, _, _ = get_tls_hedge_ratio(train_three_elements, dependent_variable='GLD')\n",
    "print(f'TLS hedge ratio for SPY/QQQ spread is {tls_hedge_ratio}')\n",
    "\n",
    "joh_hedge_ratio, _, _, _ = get_johansen_hedge_ratio(train_three_elements, dependent_variable='GLD')\n",
    "print(f'Johansen hedge ratio for SPY/QQQ spread is {joh_hedge_ratio}')\n",
    "\n",
    "box_tiao_hedge_ratio, _, _, _ = get_box_tiao_hedge_ratio(train_three_elements, dependent_variable='GLD')\n",
    "print(f'Box-Tiao hedge ratio for SPY/QQQ spread is {box_tiao_hedge_ratio}')\n",
    "\n",
    "hl_hedge_ratio, _, _, _, opt_object = get_minimum_hl_hedge_ratio(train_three_elements,\n",
    "                                                                 dependent_variable='GLD')\n",
    "print(f'Minimum HL hedge ratio for SPY/QQQ spread is {hl_hedge_ratio}')\n",
    "\n",
    "adf_hedge_ratio, _, _, _, opt_object = get_adf_optimal_hedge_ratio(train_three_elements,\n",
    "                                                                   dependent_variable='GLD')\n",
    "print(f'Minimum ADF t-statistic hedge ratio for SPY/QQQ spread is {adf_hedge_ratio}')\n"
   ]
  },
  {
   "cell_type": "markdown",
   "metadata": {},
   "source": [
    "Let's use the Johansen hedge ratio to construct a spread."
   ]
  },
  {
   "cell_type": "code",
   "execution_count": 14,
   "metadata": {},
   "outputs": [],
   "source": [
    "# Constructing spread\n",
    "j_spread = construct_spread(test_three_elements, hedge_ratios=joh_hedge_ratio)"
   ]
  },
  {
   "cell_type": "code",
   "execution_count": 15,
   "metadata": {},
   "outputs": [
    {
     "data": {
      "image/png": "[encoded data removed]",
      "text/plain": [
       "<Figure size 720x360 with 1 Axes>"
      ]
     },
     "metadata": {
      "needs_background": "light"
     },
     "output_type": "display_data"
    }
   ],
   "source": [
    "# Plotting Johansen spread series\n",
    "j_spread.plot(title='Johansen spread series', figsize=(10,5));"
   ]
  },
  {
   "cell_type": "markdown",
   "metadata": {},
   "source": [
    "Spreads using other hedge ratios can be constructed in the same way."
   ]
  },
  {
   "cell_type": "markdown",
   "metadata": {},
   "source": [
    "### Calculating the half-life of obtained portfolios "
   ]
  },
  {
   "cell_type": "code",
   "execution_count": 16,
   "metadata": {},
   "outputs": [],
   "source": [
    "# Importing the needed function\n",
    "from arbitragelab.cointegration_approach import get_half_life_of_mean_reversion"
   ]
  },
  {
   "cell_type": "code",
   "execution_count": 17,
   "metadata": {},
   "outputs": [
    {
     "name": "stdout",
     "output_type": "stream",
     "text": [
      "Half-life of the Johansen spread is 31.600717538235756 days.\n"
     ]
    }
   ],
   "source": [
    "j_half_life = get_half_life_of_mean_reversion(j_spread)\n",
    "\n",
    "print('Half-life of the Johansen spread is', j_half_life, 'days.')"
   ]
  },
  {
   "cell_type": "markdown",
   "metadata": {},
   "source": [
    "The half-life of the Johansen spread is relatively short.\n",
    "\n",
    "The half-life calculation can be used to determine which spread poses more interest for trading as it is reverting to its mean value faster, allowing for more potential trades to be opened over the same time period."
   ]
  },
  {
   "cell_type": "markdown",
   "metadata": {},
   "source": [
    "### Applying Bollinger Bands trading strategy"
   ]
  },
  {
   "cell_type": "markdown",
   "metadata": {},
   "source": [
    "This trading strategy requires defining entry and exit Z-scores. Let's choose the entry Z-score - upon which the strategy will enter a short position, going short one unit of a portfolio. This position will be closed once the exit Z-score delta will be traveled in the opposite direction.\n",
    "\n",
    "In our example, we will be using an entry Z-score of 2.5 and an exit Z-score delta of 3."
   ]
  },
  {
   "cell_type": "code",
   "execution_count": 18,
   "metadata": {},
   "outputs": [],
   "source": [
    "# Importing the needed function\n",
    "from arbitragelab.spread_trading import BollingerBandsTradingRule"
   ]
  },
  {
   "cell_type": "code",
   "execution_count": 19,
   "metadata": {},
   "outputs": [],
   "source": [
    "# Creating a strategy\n",
    "strategy = BollingerBandsTradingRule(sma_window=20, std_window=20,\n",
    "                                     entry_z_score=2.5, exit_z_score_delta=3)"
   ]
  },
  {
   "cell_type": "markdown",
   "metadata": {},
   "source": [
    "Now we feed Johansen spread values one by one to the strategy object.\n",
    "\n",
    "With a live data feed the spread value would be provided to the strategy object in the same way."
   ]
  },
  {
   "cell_type": "code",
   "execution_count": 20,
   "metadata": {},
   "outputs": [
    {
     "name": "stderr",
     "output_type": "stream",
     "text": [
      "/Users/illya/Projects/arbitragelab/arbitragelab/spread_trading/z_score.py:68: RuntimeWarning: invalid value encountered in double_scalars\n",
      "  return (spread_slice[-1] - mean_spread) / std_spread\n"
     ]
    }
   ],
   "source": [
    "# Adding initial spread value\n",
    "strategy.update_spread_value(j_spread[0])\n",
    "\n",
    "# Feeding spread values to the strategy one by one\n",
    "for time, value in j_spread.iteritems():\n",
    "    strategy.update_spread_value(value)\n",
    "\n",
    "    # Checking if logic for opening a trade is triggered\n",
    "    trade, side = strategy.check_entry_signal()\n",
    "\n",
    "    # Adding a trade if we decide to trade signal\n",
    "    if trade:\n",
    "        strategy.add_trade(start_timestamp=time, side_prediction=side)\n",
    "\n",
    "    # Update trades, close if logic is triggered\n",
    "    close = strategy.update_trades(update_timestamp=time, update_value=value)"
   ]
  },
  {
   "cell_type": "markdown",
   "metadata": {},
   "source": [
    "Now we can see which positions were opened and closed during this time period."
   ]
  },
  {
   "cell_type": "code",
   "execution_count": 21,
   "metadata": {},
   "outputs": [
    {
     "data": {
      "text/plain": [
       "{}"
      ]
     },
     "execution_count": 21,
     "metadata": {},
     "output_type": "execute_result"
    }
   ],
   "source": [
    "# Currently open trades in a strategy\n",
    "open_trades = strategy.open_trades\n",
    "\n",
    "open_trades"
   ]
  },
  {
   "cell_type": "markdown",
   "metadata": {},
   "source": [
    "So all open trades were closed."
   ]
  },
  {
   "cell_type": "code",
   "execution_count": 22,
   "metadata": {},
   "outputs": [
    {
     "data": {
      "text/plain": [
       "{Timestamp('2018-02-05 00:00:00'): {'t1': Timestamp('2018-03-16 00:00:00'),\n",
       "  'pt': -1.3135211086561323,\n",
       "  'uuid': None,\n",
       "  'start_value': 80.59748978682802,\n",
       "  'end_value': 82.43824880808627,\n",
       "  'side': -1,\n",
       "  'initial_z_score': 2.7150795029889943},\n",
       " Timestamp('2018-02-08 00:00:00'): {'t1': Timestamp('2018-03-16 00:00:00'),\n",
       "  'pt': -1.3135211086561323,\n",
       "  'uuid': None,\n",
       "  'start_value': 81.6206497341476,\n",
       "  'end_value': 82.43824880808627,\n",
       "  'side': -1,\n",
       "  'initial_z_score': 2.658908464310359},\n",
       " Timestamp('2018-03-21 00:00:00'): {'t1': Timestamp('2018-03-28 00:00:00'),\n",
       "  'pt': -0.4922814721191836,\n",
       "  'uuid': None,\n",
       "  'start_value': 84.21488779679026,\n",
       "  'end_value': 83.00964037271294,\n",
       "  'side': -1,\n",
       "  'initial_z_score': 2.93095790377039},\n",
       " Timestamp('2018-03-22 00:00:00'): {'t1': Timestamp('2018-03-28 00:00:00'),\n",
       "  'pt': -0.4922814721191836,\n",
       "  'uuid': None,\n",
       "  'start_value': 84.5617352631004,\n",
       "  'end_value': 83.00964037271294,\n",
       "  'side': -1,\n",
       "  'initial_z_score': 2.745529073991901},\n",
       " Timestamp('2018-06-18 00:00:00'): {'t1': Timestamp('2018-07-27 00:00:00'),\n",
       "  'pt': 0.7681594630076596,\n",
       "  'uuid': None,\n",
       "  'start_value': 77.40440557882744,\n",
       "  'end_value': 74.9458266474669,\n",
       "  'side': 1,\n",
       "  'initial_z_score': -2.502425374790497},\n",
       " Timestamp('2018-08-24 00:00:00'): {'t1': Timestamp('2018-09-21 00:00:00'),\n",
       "  'pt': -1.1162162872034196,\n",
       "  'uuid': None,\n",
       "  'start_value': 77.56504022595543,\n",
       "  'end_value': 77.41789862785093,\n",
       "  'side': -1,\n",
       "  'initial_z_score': 2.6408040060533335},\n",
       " Timestamp('2018-10-25 00:00:00'): {'t1': Timestamp('2018-10-30 00:00:00'),\n",
       "  'pt': 0.5303696833473666,\n",
       "  'uuid': None,\n",
       "  'start_value': 79.8595773967605,\n",
       "  'end_value': 77.96872120455042,\n",
       "  'side': -1,\n",
       "  'initial_z_score': 3.6821821648691526},\n",
       " Timestamp('2018-10-26 00:00:00'): {'t1': Timestamp('2018-11-02 00:00:00'),\n",
       "  'pt': -0.5567805207303952,\n",
       "  'uuid': None,\n",
       "  'start_value': 79.70374297736087,\n",
       "  'end_value': 76.90441367331917,\n",
       "  'side': -1,\n",
       "  'initial_z_score': 2.6074325654249653},\n",
       " Timestamp('2018-12-12 00:00:00'): {'t1': Timestamp('2018-12-19 00:00:00'),\n",
       "  'pt': 1.2793572196121086,\n",
       "  'uuid': None,\n",
       "  'start_value': 75.06398206199054,\n",
       "  'end_value': 76.29753294106852,\n",
       "  'side': 1,\n",
       "  'initial_z_score': -2.506842643253733},\n",
       " Timestamp('2018-12-13 00:00:00'): {'t1': Timestamp('2018-12-19 00:00:00'),\n",
       "  'pt': 1.2793572196121086,\n",
       "  'uuid': None,\n",
       "  'start_value': 74.56936679822587,\n",
       "  'end_value': 76.29753294106852,\n",
       "  'side': 1,\n",
       "  'initial_z_score': -2.8888395462620986},\n",
       " Timestamp('2018-12-28 00:00:00'): {'t1': Timestamp('2019-01-31 00:00:00'),\n",
       "  'pt': -1.6139504996262715,\n",
       "  'uuid': None,\n",
       "  'start_value': 79.09979244801636,\n",
       "  'end_value': 79.37960895532667,\n",
       "  'side': -1,\n",
       "  'initial_z_score': 2.7688976719519394},\n",
       " Timestamp('2019-06-25 00:00:00'): {'t1': Timestamp('2019-07-08 00:00:00'),\n",
       "  'pt': -0.8741220739190912,\n",
       "  'uuid': None,\n",
       "  'start_value': 79.23235693983463,\n",
       "  'end_value': 76.28958841320906,\n",
       "  'side': -1,\n",
       "  'initial_z_score': 2.606765605800782}}"
      ]
     },
     "execution_count": 22,
     "metadata": {},
     "output_type": "execute_result"
    }
   ],
   "source": [
    "# Checking all closed trades\n",
    "closed_trades = strategy.closed_trades\n",
    "\n",
    "closed_trades"
   ]
  },
  {
   "cell_type": "markdown",
   "metadata": {},
   "source": [
    "A total of 12 trades were open during this period.\n",
    "\n",
    "### Strategy outputs\n",
    "\n",
    "We can see the following data:\n",
    "* Dictionary key:\n",
    "    * Timestamp at which the trade was opened\n",
    "* Dctionary value:\n",
    "    * t1: Timestamp at which the trade was closed\n",
    "    * pt: Z-score at which the trade was closed\n",
    "    * uuid: Trade ID that can be provided for each trade\n",
    "    * start_value: Spread value at which spread was opened\n",
    "    * end_value: Spread value at which spread was closed\n",
    "    * side: Side of the trade '-1' for short and '1' for long\n",
    "    * initial_z_score: Z-score at which the trade was opened"
   ]
  },
  {
   "cell_type": "markdown",
   "metadata": {},
   "source": [
    "We can see that each of the closed trades during this period was profitable - the spread value change was in the right direction, according to the trade side.\n",
    "\n",
    "This strategy can be furhter adjusted by choosing different entry and exit Z-score deltas, by optimizing them in a training set first."
   ]
  },
  {
   "cell_type": "markdown",
   "metadata": {},
   "source": [
    "## Conclusion"
   ]
  },
  {
   "cell_type": "markdown",
   "metadata": {},
   "source": [
    "This notebook describes the Mean Reversion module tools - cointegration tests and trading strategies. Also, it shows how these tools can be used on real data and that they can output profitable trading signals.\n",
    "\n",
    "The algorithms and the descriptions used in this notebook were described by _Ernest P. Chan_ in the book __Algorithmic Trading: Winning Strategies and Their Rationale__  [available here](https://www.wiley.com/en-us/Algorithmic+Trading%3A+Winning+Strategies+and+Their+Rationale-p-9781118460146).\n",
    "\n",
    "Key takeaways from the notebook:\n",
    "\n",
    "- Mean-reverting processes tend to move to their average value over time. However, most financial price series are not mean-reverting.\n",
    "- Financial instruments can be combined in a portfolio that has mean-reverting properties.\n",
    "- ADF test allows testing if the next price move depends on the current price level.\n",
    "- Half-life of a mean-reverting process indicates how long it takes for a price to mean revert.\n",
    "- Both Johansen and Engle-Granger cointegration tests allow testing if we can construct a mean-reverting portfolio out of multiple price series, and if so, which combination of these elements should we use to construct a portfolio.\n",
    "- Constructed portfolios can be used in the Linear and Bollinger Bands trading strategies.\n",
    "- The Bollinger Bands  strategy  deals with the issues present in the linear strategy: infinitesimal portfolio rebalances and no predefined buying power."
   ]
  }
 ],
 "metadata": {
  "kernelspec": {
   "display_name": "arblab3.8",
   "language": "python",
   "name": "arblab3.8"
  },
  "language_info": {
   "codemirror_mode": {
    "name": "ipython",
    "version": 3
   },
   "file_extension": ".py",
   "mimetype": "text/x-python",
   "name": "python",
   "nbconvert_exporter": "python",
   "pygments_lexer": "ipython3",
   "version": "3.8.13"
  }
 },
 "nbformat": 4,
 "nbformat_minor": 4
}

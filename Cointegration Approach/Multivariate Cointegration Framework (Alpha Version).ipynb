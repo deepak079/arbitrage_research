{
 "cells": [
  {
   "cell_type": "code",
   "execution_count": 1,
   "metadata": {},
   "outputs": [],
   "source": [
    "%load_ext autoreload\n",
    "%autoreload 2"
   ]
  },
  {
   "cell_type": "markdown",
   "metadata": {},
   "source": [
    "## Load Data"
   ]
  },
  {
   "cell_type": "code",
   "execution_count": 2,
   "metadata": {},
   "outputs": [],
   "source": [
    "from arbitragelab.cointegration_approach.multi_coint import MultivariateCointegration\n",
    "\n",
    "import pandas as pd\n",
    "import numpy as np"
   ]
  },
  {
   "cell_type": "code",
   "execution_count": 3,
   "metadata": {},
   "outputs": [],
   "source": [
    "# Data is in my new multivariate cointegration branch.\n",
    "euro_stocks_df = pd.read_csv(\"tests/test_data/multi_coint.csv\", parse_dates=['Date'])\n",
    "euro_stocks_df.set_index(\"Date\", inplace=True)"
   ]
  },
  {
   "cell_type": "code",
   "execution_count": 4,
   "metadata": {},
   "outputs": [
    {
     "data": {
      "text/html": [
       "<div>\n",
       "<style scoped>\n",
       "    .dataframe tbody tr th:only-of-type {\n",
       "        vertical-align: middle;\n",
       "    }\n",
       "\n",
       "    .dataframe tbody tr th {\n",
       "        vertical-align: top;\n",
       "    }\n",
       "\n",
       "    .dataframe thead th {\n",
       "        text-align: right;\n",
       "    }\n",
       "</style>\n",
       "<table border=\"1\" class=\"dataframe\">\n",
       "  <thead>\n",
       "    <tr style=\"text-align: right;\">\n",
       "      <th></th>\n",
       "      <th>AEX</th>\n",
       "      <th>DAX</th>\n",
       "      <th>FTSE</th>\n",
       "      <th>CAC</th>\n",
       "    </tr>\n",
       "    <tr>\n",
       "      <th>Date</th>\n",
       "      <th></th>\n",
       "      <th></th>\n",
       "      <th></th>\n",
       "      <th></th>\n",
       "    </tr>\n",
       "  </thead>\n",
       "  <tbody>\n",
       "    <tr>\n",
       "      <th>1996-01-02</th>\n",
       "      <td>224.730007</td>\n",
       "      <td>2307.70</td>\n",
       "      <td>3687.90</td>\n",
       "      <td>1908.38</td>\n",
       "    </tr>\n",
       "    <tr>\n",
       "      <th>1996-01-03</th>\n",
       "      <td>226.622270</td>\n",
       "      <td>2326.18</td>\n",
       "      <td>3715.60</td>\n",
       "      <td>1942.96</td>\n",
       "    </tr>\n",
       "    <tr>\n",
       "      <th>1996-01-04</th>\n",
       "      <td>227.389158</td>\n",
       "      <td>2332.81</td>\n",
       "      <td>3714.10</td>\n",
       "      <td>1931.21</td>\n",
       "    </tr>\n",
       "    <tr>\n",
       "      <th>1996-01-05</th>\n",
       "      <td>225.787315</td>\n",
       "      <td>2315.66</td>\n",
       "      <td>3704.50</td>\n",
       "      <td>1917.72</td>\n",
       "    </tr>\n",
       "    <tr>\n",
       "      <th>1996-01-08</th>\n",
       "      <td>228.528146</td>\n",
       "      <td>2336.76</td>\n",
       "      <td>3720.60</td>\n",
       "      <td>1916.56</td>\n",
       "    </tr>\n",
       "    <tr>\n",
       "      <th>...</th>\n",
       "      <td>...</td>\n",
       "      <td>...</td>\n",
       "      <td>...</td>\n",
       "      <td>...</td>\n",
       "    </tr>\n",
       "    <tr>\n",
       "      <th>2006-12-21</th>\n",
       "      <td>494.620000</td>\n",
       "      <td>6573.96</td>\n",
       "      <td>6183.70</td>\n",
       "      <td>5510.39</td>\n",
       "    </tr>\n",
       "    <tr>\n",
       "      <th>2006-12-22</th>\n",
       "      <td>490.770000</td>\n",
       "      <td>6503.13</td>\n",
       "      <td>6189.97</td>\n",
       "      <td>5453.94</td>\n",
       "    </tr>\n",
       "    <tr>\n",
       "      <th>2006-12-27</th>\n",
       "      <td>497.780000</td>\n",
       "      <td>6608.86</td>\n",
       "      <td>6245.24</td>\n",
       "      <td>5540.01</td>\n",
       "    </tr>\n",
       "    <tr>\n",
       "      <th>2006-12-28</th>\n",
       "      <td>497.180000</td>\n",
       "      <td>6611.81</td>\n",
       "      <td>6240.95</td>\n",
       "      <td>5533.36</td>\n",
       "    </tr>\n",
       "    <tr>\n",
       "      <th>2006-12-29</th>\n",
       "      <td>495.340000</td>\n",
       "      <td>6596.92</td>\n",
       "      <td>6220.81</td>\n",
       "      <td>5541.76</td>\n",
       "    </tr>\n",
       "  </tbody>\n",
       "</table>\n",
       "<p>2836 rows × 4 columns</p>\n",
       "</div>"
      ],
      "text/plain": [
       "                   AEX      DAX     FTSE      CAC\n",
       "Date                                             \n",
       "1996-01-02  224.730007  2307.70  3687.90  1908.38\n",
       "1996-01-03  226.622270  2326.18  3715.60  1942.96\n",
       "1996-01-04  227.389158  2332.81  3714.10  1931.21\n",
       "1996-01-05  225.787315  2315.66  3704.50  1917.72\n",
       "1996-01-08  228.528146  2336.76  3720.60  1916.56\n",
       "...                ...      ...      ...      ...\n",
       "2006-12-21  494.620000  6573.96  6183.70  5510.39\n",
       "2006-12-22  490.770000  6503.13  6189.97  5453.94\n",
       "2006-12-27  497.780000  6608.86  6245.24  5540.01\n",
       "2006-12-28  497.180000  6611.81  6240.95  5533.36\n",
       "2006-12-29  495.340000  6596.92  6220.81  5541.76\n",
       "\n",
       "[2836 rows x 4 columns]"
      ]
     },
     "execution_count": 4,
     "metadata": {},
     "output_type": "execute_result"
    }
   ],
   "source": [
    "euro_stocks_df"
   ]
  },
  {
   "cell_type": "markdown",
   "metadata": {},
   "source": [
    "## Train-Test Split"
   ]
  },
  {
   "cell_type": "code",
   "execution_count": 5,
   "metadata": {},
   "outputs": [
    {
     "name": "stdout",
     "output_type": "stream",
     "text": [
      "1509\n"
     ]
    }
   ],
   "source": [
    "# This time point is selected according to the paper.\n",
    "split_point = pd.Timestamp(2001, 11, 6)\n",
    "\n",
    "# There are 1509 data points up to Nov 6th, 2001.\n",
    "train_df = euro_stocks_df.iloc[:1509]\n",
    "trade_df = euro_stocks_df.iloc[1509:]"
   ]
  },
  {
   "cell_type": "code",
   "execution_count": 6,
   "metadata": {},
   "outputs": [
    {
     "data": {
      "text/html": [
       "<div>\n",
       "<style scoped>\n",
       "    .dataframe tbody tr th:only-of-type {\n",
       "        vertical-align: middle;\n",
       "    }\n",
       "\n",
       "    .dataframe tbody tr th {\n",
       "        vertical-align: top;\n",
       "    }\n",
       "\n",
       "    .dataframe thead th {\n",
       "        text-align: right;\n",
       "    }\n",
       "</style>\n",
       "<table border=\"1\" class=\"dataframe\">\n",
       "  <thead>\n",
       "    <tr style=\"text-align: right;\">\n",
       "      <th></th>\n",
       "      <th>AEX</th>\n",
       "      <th>DAX</th>\n",
       "      <th>FTSE</th>\n",
       "      <th>CAC</th>\n",
       "    </tr>\n",
       "    <tr>\n",
       "      <th>Date</th>\n",
       "      <th></th>\n",
       "      <th></th>\n",
       "      <th></th>\n",
       "      <th></th>\n",
       "    </tr>\n",
       "  </thead>\n",
       "  <tbody>\n",
       "    <tr>\n",
       "      <th>1996-01-02</th>\n",
       "      <td>224.730007</td>\n",
       "      <td>2307.70</td>\n",
       "      <td>3687.90</td>\n",
       "      <td>1908.38</td>\n",
       "    </tr>\n",
       "    <tr>\n",
       "      <th>1996-01-03</th>\n",
       "      <td>226.622270</td>\n",
       "      <td>2326.18</td>\n",
       "      <td>3715.60</td>\n",
       "      <td>1942.96</td>\n",
       "    </tr>\n",
       "    <tr>\n",
       "      <th>1996-01-04</th>\n",
       "      <td>227.389158</td>\n",
       "      <td>2332.81</td>\n",
       "      <td>3714.10</td>\n",
       "      <td>1931.21</td>\n",
       "    </tr>\n",
       "    <tr>\n",
       "      <th>1996-01-05</th>\n",
       "      <td>225.787315</td>\n",
       "      <td>2315.66</td>\n",
       "      <td>3704.50</td>\n",
       "      <td>1917.72</td>\n",
       "    </tr>\n",
       "    <tr>\n",
       "      <th>1996-01-08</th>\n",
       "      <td>228.528146</td>\n",
       "      <td>2336.76</td>\n",
       "      <td>3720.60</td>\n",
       "      <td>1916.56</td>\n",
       "    </tr>\n",
       "    <tr>\n",
       "      <th>...</th>\n",
       "      <td>...</td>\n",
       "      <td>...</td>\n",
       "      <td>...</td>\n",
       "      <td>...</td>\n",
       "    </tr>\n",
       "    <tr>\n",
       "      <th>2001-10-30</th>\n",
       "      <td>452.630000</td>\n",
       "      <td>4543.98</td>\n",
       "      <td>5003.60</td>\n",
       "      <td>4251.93</td>\n",
       "    </tr>\n",
       "    <tr>\n",
       "      <th>2001-10-31</th>\n",
       "      <td>460.330000</td>\n",
       "      <td>4559.13</td>\n",
       "      <td>5039.71</td>\n",
       "      <td>4341.29</td>\n",
       "    </tr>\n",
       "    <tr>\n",
       "      <th>2001-11-01</th>\n",
       "      <td>464.990000</td>\n",
       "      <td>4636.13</td>\n",
       "      <td>5071.23</td>\n",
       "      <td>4366.94</td>\n",
       "    </tr>\n",
       "    <tr>\n",
       "      <th>2001-11-02</th>\n",
       "      <td>468.150000</td>\n",
       "      <td>4583.31</td>\n",
       "      <td>5129.54</td>\n",
       "      <td>4369.40</td>\n",
       "    </tr>\n",
       "    <tr>\n",
       "      <th>2001-11-05</th>\n",
       "      <td>482.970000</td>\n",
       "      <td>4755.11</td>\n",
       "      <td>5209.12</td>\n",
       "      <td>4485.34</td>\n",
       "    </tr>\n",
       "  </tbody>\n",
       "</table>\n",
       "<p>1509 rows × 4 columns</p>\n",
       "</div>"
      ],
      "text/plain": [
       "                   AEX      DAX     FTSE      CAC\n",
       "Date                                             \n",
       "1996-01-02  224.730007  2307.70  3687.90  1908.38\n",
       "1996-01-03  226.622270  2326.18  3715.60  1942.96\n",
       "1996-01-04  227.389158  2332.81  3714.10  1931.21\n",
       "1996-01-05  225.787315  2315.66  3704.50  1917.72\n",
       "1996-01-08  228.528146  2336.76  3720.60  1916.56\n",
       "...                ...      ...      ...      ...\n",
       "2001-10-30  452.630000  4543.98  5003.60  4251.93\n",
       "2001-10-31  460.330000  4559.13  5039.71  4341.29\n",
       "2001-11-01  464.990000  4636.13  5071.23  4366.94\n",
       "2001-11-02  468.150000  4583.31  5129.54  4369.40\n",
       "2001-11-05  482.970000  4755.11  5209.12  4485.34\n",
       "\n",
       "[1509 rows x 4 columns]"
      ]
     },
     "execution_count": 6,
     "metadata": {},
     "output_type": "execute_result"
    }
   ],
   "source": [
    "train_df"
   ]
  },
  {
   "cell_type": "code",
   "execution_count": 7,
   "metadata": {},
   "outputs": [
    {
     "data": {
      "text/html": [
       "<div>\n",
       "<style scoped>\n",
       "    .dataframe tbody tr th:only-of-type {\n",
       "        vertical-align: middle;\n",
       "    }\n",
       "\n",
       "    .dataframe tbody tr th {\n",
       "        vertical-align: top;\n",
       "    }\n",
       "\n",
       "    .dataframe thead th {\n",
       "        text-align: right;\n",
       "    }\n",
       "</style>\n",
       "<table border=\"1\" class=\"dataframe\">\n",
       "  <thead>\n",
       "    <tr style=\"text-align: right;\">\n",
       "      <th></th>\n",
       "      <th>AEX</th>\n",
       "      <th>DAX</th>\n",
       "      <th>FTSE</th>\n",
       "      <th>CAC</th>\n",
       "    </tr>\n",
       "    <tr>\n",
       "      <th>Date</th>\n",
       "      <th></th>\n",
       "      <th></th>\n",
       "      <th></th>\n",
       "      <th></th>\n",
       "    </tr>\n",
       "  </thead>\n",
       "  <tbody>\n",
       "    <tr>\n",
       "      <th>2001-11-06</th>\n",
       "      <td>482.17</td>\n",
       "      <td>4707.65</td>\n",
       "      <td>5214.06</td>\n",
       "      <td>4461.69</td>\n",
       "    </tr>\n",
       "    <tr>\n",
       "      <th>2001-11-07</th>\n",
       "      <td>490.19</td>\n",
       "      <td>4860.66</td>\n",
       "      <td>5216.27</td>\n",
       "      <td>4493.27</td>\n",
       "    </tr>\n",
       "    <tr>\n",
       "      <th>2001-11-08</th>\n",
       "      <td>500.14</td>\n",
       "      <td>4993.57</td>\n",
       "      <td>5278.09</td>\n",
       "      <td>4573.04</td>\n",
       "    </tr>\n",
       "    <tr>\n",
       "      <th>2001-11-09</th>\n",
       "      <td>488.86</td>\n",
       "      <td>4910.07</td>\n",
       "      <td>5244.21</td>\n",
       "      <td>4514.28</td>\n",
       "    </tr>\n",
       "    <tr>\n",
       "      <th>2001-11-12</th>\n",
       "      <td>476.29</td>\n",
       "      <td>4820.37</td>\n",
       "      <td>5146.23</td>\n",
       "      <td>4376.58</td>\n",
       "    </tr>\n",
       "    <tr>\n",
       "      <th>...</th>\n",
       "      <td>...</td>\n",
       "      <td>...</td>\n",
       "      <td>...</td>\n",
       "      <td>...</td>\n",
       "    </tr>\n",
       "    <tr>\n",
       "      <th>2006-12-21</th>\n",
       "      <td>494.62</td>\n",
       "      <td>6573.96</td>\n",
       "      <td>6183.70</td>\n",
       "      <td>5510.39</td>\n",
       "    </tr>\n",
       "    <tr>\n",
       "      <th>2006-12-22</th>\n",
       "      <td>490.77</td>\n",
       "      <td>6503.13</td>\n",
       "      <td>6189.97</td>\n",
       "      <td>5453.94</td>\n",
       "    </tr>\n",
       "    <tr>\n",
       "      <th>2006-12-27</th>\n",
       "      <td>497.78</td>\n",
       "      <td>6608.86</td>\n",
       "      <td>6245.24</td>\n",
       "      <td>5540.01</td>\n",
       "    </tr>\n",
       "    <tr>\n",
       "      <th>2006-12-28</th>\n",
       "      <td>497.18</td>\n",
       "      <td>6611.81</td>\n",
       "      <td>6240.95</td>\n",
       "      <td>5533.36</td>\n",
       "    </tr>\n",
       "    <tr>\n",
       "      <th>2006-12-29</th>\n",
       "      <td>495.34</td>\n",
       "      <td>6596.92</td>\n",
       "      <td>6220.81</td>\n",
       "      <td>5541.76</td>\n",
       "    </tr>\n",
       "  </tbody>\n",
       "</table>\n",
       "<p>1327 rows × 4 columns</p>\n",
       "</div>"
      ],
      "text/plain": [
       "               AEX      DAX     FTSE      CAC\n",
       "Date                                         \n",
       "2001-11-06  482.17  4707.65  5214.06  4461.69\n",
       "2001-11-07  490.19  4860.66  5216.27  4493.27\n",
       "2001-11-08  500.14  4993.57  5278.09  4573.04\n",
       "2001-11-09  488.86  4910.07  5244.21  4514.28\n",
       "2001-11-12  476.29  4820.37  5146.23  4376.58\n",
       "...            ...      ...      ...      ...\n",
       "2006-12-21  494.62  6573.96  6183.70  5510.39\n",
       "2006-12-22  490.77  6503.13  6189.97  5453.94\n",
       "2006-12-27  497.78  6608.86  6245.24  5540.01\n",
       "2006-12-28  497.18  6611.81  6240.95  5533.36\n",
       "2006-12-29  495.34  6596.92  6220.81  5541.76\n",
       "\n",
       "[1327 rows x 4 columns]"
      ]
     },
     "execution_count": 7,
     "metadata": {},
     "output_type": "execute_result"
    }
   ],
   "source": [
    "trade_df"
   ]
  },
  {
   "cell_type": "markdown",
   "metadata": {},
   "source": [
    "## Generate Trading Signal and Checking Results"
   ]
  },
  {
   "cell_type": "code",
   "execution_count": 31,
   "metadata": {},
   "outputs": [],
   "source": [
    "# Initialize the trading signal generator\n",
    "multi_coint_signal = MultivariateCointegration(train_df, trade_df)"
   ]
  },
  {
   "cell_type": "code",
   "execution_count": 38,
   "metadata": {},
   "outputs": [],
   "source": [
    "# Generating the signal, recording the cointegration vector time evolution and calculate portfolio returns.\n",
    "signal, coint_vec, port_returns = multi_coint_signal.trading_signal(nlags=30, rolling_window_size=1500)"
   ]
  },
  {
   "cell_type": "markdown",
   "metadata": {},
   "source": [
    "Here, the returns is calculated as follows.\n",
    "\n",
    "The default portfolio notional for both longs and shorts are $\\$$10M.\n",
    "\n",
    "So on each day T, we generate the trading signal based on the price history up to day T-1. Open the positions at day T close and close the positions at day T+1 close. Calculate the PnL and derive the returns for the entire long/short portfolio, which has a notional value of $\\$$20M, i.e.\n",
    "\n",
    "\\begin{equation}\n",
    "\\text{Daily Returns} = \\frac{\\text{PnL}}{\\text{Total Notional}} = \\frac{\\text{PnL}}{\\$20M}\n",
    "\\end{equation}\n",
    "\n",
    "From here we can then compound the returns and derive the final return."
   ]
  },
  {
   "cell_type": "code",
   "execution_count": 42,
   "metadata": {},
   "outputs": [
    {
     "data": {
      "text/plain": [
       "0.24943637923051387"
      ]
     },
     "execution_count": 42,
     "metadata": {},
     "output_type": "execute_result"
    }
   ],
   "source": [
    "# Calculate the final return by compounding (cumprod).\n",
    "final_return = (1 + port_returns).cumprod() - 1\n",
    "final_return_value = final_return.iloc[-1].values[0]\n",
    "final_return_value"
   ]
  },
  {
   "cell_type": "code",
   "execution_count": 43,
   "metadata": {},
   "outputs": [
    {
     "data": {
      "text/plain": [
       "<matplotlib.axes._subplots.AxesSubplot at 0x289e00bf688>"
      ]
     },
     "execution_count": 43,
     "metadata": {},
     "output_type": "execute_result"
    },
    {
     "data": {
      "image/png": "[encoded data removed]",
      "text/plain": [
       "<Figure size 432x288 with 1 Axes>"
      ]
     },
     "metadata": {
      "needs_background": "light"
     },
     "output_type": "display_data"
    }
   ],
   "source": [
    "final_return.plot()"
   ]
  },
  {
   "cell_type": "markdown",
   "metadata": {},
   "source": [
    "Some properties of the returns."
   ]
  },
  {
   "cell_type": "code",
   "execution_count": 40,
   "metadata": {},
   "outputs": [
    {
     "data": {
      "text/html": [
       "<div>\n",
       "<style scoped>\n",
       "    .dataframe tbody tr th:only-of-type {\n",
       "        vertical-align: middle;\n",
       "    }\n",
       "\n",
       "    .dataframe tbody tr th {\n",
       "        vertical-align: top;\n",
       "    }\n",
       "\n",
       "    .dataframe thead th {\n",
       "        text-align: right;\n",
       "    }\n",
       "</style>\n",
       "<table border=\"1\" class=\"dataframe\">\n",
       "  <thead>\n",
       "    <tr style=\"text-align: right;\">\n",
       "      <th></th>\n",
       "      <th>0</th>\n",
       "    </tr>\n",
       "  </thead>\n",
       "  <tbody>\n",
       "    <tr>\n",
       "      <th>count</th>\n",
       "      <td>1327.000000</td>\n",
       "    </tr>\n",
       "    <tr>\n",
       "      <th>mean</th>\n",
       "      <td>0.000174</td>\n",
       "    </tr>\n",
       "    <tr>\n",
       "      <th>std</th>\n",
       "      <td>0.003398</td>\n",
       "    </tr>\n",
       "    <tr>\n",
       "      <th>min</th>\n",
       "      <td>-0.019840</td>\n",
       "    </tr>\n",
       "    <tr>\n",
       "      <th>25%</th>\n",
       "      <td>-0.001473</td>\n",
       "    </tr>\n",
       "    <tr>\n",
       "      <th>50%</th>\n",
       "      <td>0.000095</td>\n",
       "    </tr>\n",
       "    <tr>\n",
       "      <th>75%</th>\n",
       "      <td>0.001798</td>\n",
       "    </tr>\n",
       "    <tr>\n",
       "      <th>max</th>\n",
       "      <td>0.022511</td>\n",
       "    </tr>\n",
       "  </tbody>\n",
       "</table>\n",
       "</div>"
      ],
      "text/plain": [
       "                 0\n",
       "count  1327.000000\n",
       "mean      0.000174\n",
       "std       0.003398\n",
       "min      -0.019840\n",
       "25%      -0.001473\n",
       "50%       0.000095\n",
       "75%       0.001798\n",
       "max       0.022511"
      ]
     },
     "execution_count": 40,
     "metadata": {},
     "output_type": "execute_result"
    }
   ],
   "source": [
    "port_returns.describe()"
   ]
  },
  {
   "cell_type": "code",
   "execution_count": 41,
   "metadata": {},
   "outputs": [
    {
     "name": "stdout",
     "output_type": "stream",
     "text": [
      "Returns skew: 0.12476952802765075\n"
     ]
    }
   ],
   "source": [
    "print(\"Returns skew: {}\".format(port_returns.skew().values[0]))"
   ]
  },
  {
   "cell_type": "code",
   "execution_count": 44,
   "metadata": {},
   "outputs": [
    {
     "name": "stdout",
     "output_type": "stream",
     "text": [
      "Returns kurt: 5.525952291421662\n"
     ]
    }
   ],
   "source": [
    "print(\"Returns kurt: {}\".format(port_returns.kurt().values[0]))"
   ]
  },
  {
   "cell_type": "code",
   "execution_count": 46,
   "metadata": {
    "scrolled": true
   },
   "outputs": [
    {
     "name": "stdout",
     "output_type": "stream",
     "text": [
      "Sharpe ratio: 0.8110189524779347\n"
     ]
    }
   ],
   "source": [
    "print(\"Sharpe ratio: {}\".format((port_returns.mean() / port_returns.std() * np.sqrt(252)).values[0]))"
   ]
  },
  {
   "cell_type": "code",
   "execution_count": 48,
   "metadata": {},
   "outputs": [
    {
     "name": "stdout",
     "output_type": "stream",
     "text": [
      "Sortino ratio: 1.1224877175965775\n"
     ]
    }
   ],
   "source": [
    "down_returns = port_returns[port_returns[0] < 0]\n",
    "print(\"Sortino ratio: {}\".format((port_returns.mean() / down_returns.std() * np.sqrt(252)).values[0]))"
   ]
  },
  {
   "cell_type": "code",
   "execution_count": 17,
   "metadata": {},
   "outputs": [
    {
     "data": {
      "text/plain": [
       "<matplotlib.axes._subplots.AxesSubplot at 0x289dfee4548>"
      ]
     },
     "execution_count": 17,
     "metadata": {},
     "output_type": "execute_result"
    },
    {
     "data": {
      "image/png": "[encoded data removed]",
      "text/plain": [
       "<Figure size 432x288 with 1 Axes>"
      ]
     },
     "metadata": {
      "needs_background": "light"
     },
     "output_type": "display_data"
    }
   ],
   "source": [
    "coint_vec.plot()"
   ]
  },
  {
   "cell_type": "code",
   "execution_count": null,
   "metadata": {},
   "outputs": [],
   "source": []
  }
 ],
 "metadata": {
  "kernelspec": {
   "display_name": "arbitragelab",
   "language": "python",
   "name": "arbitragelab"
  },
  "language_info": {
   "codemirror_mode": {
    "name": "ipython",
    "version": 3
   },
   "file_extension": ".py",
   "mimetype": "text/x-python",
   "name": "python",
   "nbconvert_exporter": "python",
   "pygments_lexer": "ipython3",
   "version": "3.7.7"
  }
 },
 "nbformat": 4,
 "nbformat_minor": 4
}

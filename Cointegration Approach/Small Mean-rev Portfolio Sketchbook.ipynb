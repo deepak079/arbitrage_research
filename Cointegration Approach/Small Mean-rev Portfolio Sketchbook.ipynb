{
 "cells": [
  {
   "cell_type": "code",
   "execution_count": 1,
   "metadata": {},
   "outputs": [],
   "source": [
    "import pandas as pd\n",
    "import numpy as np\n",
    "import scipy\n",
    "import statsmodels.api as sm\n",
    "import cvxpy as cp\n",
    "import networkx as nx\n",
    "from sklearn.linear_model import lasso_path, Lasso\n",
    "from sklearn.covariance import GraphicalLasso, GraphicalLassoCV\n",
    "from random import shuffle"
   ]
  },
  {
   "cell_type": "code",
   "execution_count": 2,
   "metadata": {},
   "outputs": [],
   "source": [
    "us_swap_df = pd.read_csv(\"USSwap.csv\")\n",
    "us_swap_df['Date'] = pd.to_datetime(us_swap_df['Date'])\n",
    "us_swap_df.set_index('Date', inplace=True)\n",
    "us_swap_df.fillna(method=\"ffill\", inplace=True)\n",
    "\n",
    "# demeaned to match the assumption, as LASSO does not need\n",
    "us_swap_df_demeaned = us_swap_df - us_swap_df.mean(axis=0)"
   ]
  },
  {
   "cell_type": "code",
   "execution_count": 3,
   "metadata": {},
   "outputs": [],
   "source": [
    "us_swap_df_shifted = us_swap_df_demeaned.shift(1).dropna()"
   ]
  },
  {
   "cell_type": "markdown",
   "metadata": {},
   "source": [
    "## LASSO estimate of $A$"
   ]
  },
  {
   "cell_type": "code",
   "execution_count": 4,
   "metadata": {},
   "outputs": [
    {
     "name": "stdout",
     "output_type": "stream",
     "text": [
      "0.005566343201245493\n",
      "0.0001333368280870626\n"
     ]
    }
   ],
   "source": [
    "alpha_candidate = []\n",
    "for instr in us_swap_df_shifted.columns:\n",
    "    dep_var = us_swap_df_demeaned[instr].loc[us_swap_df_shifted.index]\n",
    "    endog_var = us_swap_df_shifted\n",
    "    alphas_lasso, coefs_lasso, _ = lasso_path(endog_var, dep_var, eps=1e-4)\n",
    "    non_zeros = np.count_nonzero(coefs_lasso, axis=0)\n",
    "    best_alpha = alphas_lasso[((non_zeros <= 6) & (non_zeros >= 4)).argmax().min()]\n",
    "    alpha_candidate.append(best_alpha)\n",
    "    \n",
    "print(np.array(alpha_candidate).max())\n",
    "print(np.array(alpha_candidate).min())"
   ]
  },
  {
   "cell_type": "code",
   "execution_count": 5,
   "metadata": {},
   "outputs": [],
   "source": [
    "alpha1 = np.array(alpha_candidate).max()\n",
    "alpha2 = np.array(alpha_candidate).min()"
   ]
  },
  {
   "cell_type": "code",
   "execution_count": 6,
   "metadata": {},
   "outputs": [
    {
     "name": "stdout",
     "output_type": "stream",
     "text": [
      "0.00016758780942343246\n"
     ]
    },
    {
     "data": {
      "text/plain": [
       "array([[ 9.49322503e-01,  8.74181802e-02, -0.00000000e+00,\n",
       "        -2.52104544e-02, -1.20459592e-02, -3.87917279e-03,\n",
       "        -0.00000000e+00, -0.00000000e+00],\n",
       "       [ 4.44063065e-02,  8.83379898e-01,  7.86708937e-02,\n",
       "         0.00000000e+00, -0.00000000e+00, -0.00000000e+00,\n",
       "        -0.00000000e+00, -1.01664690e-02],\n",
       "       [-5.33757473e-02,  3.49064602e-01,  4.36122970e-01,\n",
       "         1.99617259e-01,  7.19642544e-02,  0.00000000e+00,\n",
       "        -0.00000000e+00, -2.81803023e-03],\n",
       "       [-2.18709585e-02,  0.00000000e+00,  4.10986410e-01,\n",
       "         3.26984937e-01,  1.87319916e-01,  9.54720910e-02,\n",
       "         0.00000000e+00, -0.00000000e+00],\n",
       "       [-4.61488752e-03, -0.00000000e+00,  5.97363862e-03,\n",
       "         3.44543296e-01,  4.23081498e-01,  2.29765053e-01,\n",
       "         0.00000000e+00,  0.00000000e+00],\n",
       "       [-1.14881531e-02, -0.00000000e+00,  0.00000000e+00,\n",
       "         3.42718709e-03,  3.41652582e-01,  4.00938902e-01,\n",
       "         2.23306819e-01,  4.47676413e-02],\n",
       "       [-7.94200001e-03, -0.00000000e+00, -0.00000000e+00,\n",
       "        -0.00000000e+00,  0.00000000e+00,  2.71430655e-01,\n",
       "         5.90645100e-01,  1.50754604e-01],\n",
       "       [-7.73744934e-05, -3.37857178e-05, -0.00000000e+00,\n",
       "        -2.50924981e-03, -0.00000000e+00,  0.00000000e+00,\n",
       "         2.03234667e-02,  9.75914631e-01]])"
      ]
     },
     "execution_count": 6,
     "metadata": {},
     "output_type": "execute_result"
    }
   ],
   "source": [
    "for alpha_ in np.logspace(-3, -4.2, 100):\n",
    "    coef_list = []\n",
    "    for instr in us_swap_df_shifted.columns:\n",
    "        dep_var = us_swap_df_demeaned[instr].loc[us_swap_df_shifted.index]\n",
    "        endog_var = us_swap_df_shifted\n",
    "        lasso_model = Lasso(alpha=alpha_, fit_intercept=False, max_iter=10000)\n",
    "        coefs_lasso = lasso_model.fit(endog_var, dep_var).coef_\n",
    "        coef_list.append(coefs_lasso)\n",
    "        \n",
    "    Ahat = np.vstack(tuple(coef_list))\n",
    "    non_zeros = np.count_nonzero(Ahat)\n",
    "    \n",
    "    if non_zeros == 40:\n",
    "        print(alpha_)\n",
    "        break\n",
    "        \n",
    "Ahat"
   ]
  },
  {
   "cell_type": "markdown",
   "metadata": {},
   "source": [
    "## Graphical LASSO estimate of $\\Gamma$"
   ]
  },
  {
   "cell_type": "code",
   "execution_count": 7,
   "metadata": {},
   "outputs": [
    {
     "data": {
      "text/plain": [
       "(2087, 8)"
      ]
     },
     "execution_count": 7,
     "metadata": {},
     "output_type": "execute_result"
    }
   ],
   "source": [
    "us_swap_df_demeaned.shape"
   ]
  },
  {
   "cell_type": "code",
   "execution_count": 8,
   "metadata": {},
   "outputs": [
    {
     "data": {
      "text/plain": [
       "array([[ 0.46774596, -0.16454162, -0.14043265, -0.12035352, -0.10729117,\n",
       "        -0.08248577, -0.03400646, -0.        ],\n",
       "       [-0.16454162,  0.52831119, -0.11221888, -0.08888046, -0.07119991,\n",
       "        -0.03561526, -0.        , -0.        ],\n",
       "       [-0.14043265, -0.11221888,  0.58691754, -0.05090987, -0.02722771,\n",
       "        -0.        , -0.        , -0.        ],\n",
       "       [-0.12035352, -0.08888046, -0.05090987,  0.64966714, -0.        ,\n",
       "        -0.        , -0.        , -0.        ],\n",
       "       [-0.10729117, -0.07119991, -0.02722771, -0.        ,  0.71192096,\n",
       "        -0.        , -0.        , -0.        ],\n",
       "       [-0.08248577, -0.03561526, -0.        , -0.        , -0.        ,\n",
       "         0.84517639, -0.        , -0.        ],\n",
       "       [-0.03400646, -0.        , -0.        , -0.        , -0.        ,\n",
       "        -0.        ,  1.04477744, -0.        ],\n",
       "       [-0.        , -0.        , -0.        , -0.        , -0.        ,\n",
       "        -0.        , -0.        ,  1.74443359]])"
      ]
     },
     "execution_count": 8,
     "metadata": {},
     "output_type": "execute_result"
    }
   ],
   "source": [
    "edge_model = GraphicalLasso(alpha=1.5, max_iter=1000)\n",
    "\n",
    "edge_model.fit(us_swap_df_demeaned)\n",
    "edge_model.precision_"
   ]
  },
  {
   "cell_type": "code",
   "execution_count": 9,
   "metadata": {},
   "outputs": [],
   "source": [
    "gamma = np.linalg.inv(edge_model.precision_)"
   ]
  },
  {
   "cell_type": "code",
   "execution_count": 10,
   "metadata": {},
   "outputs": [
    {
     "data": {
      "text/plain": [
       "array([[3.67604229, 1.73486723, 1.3361408 , 1.02305187, 0.77861079,\n",
       "        0.43187305, 0.11965149, 0.        ],\n",
       "       [1.73486723, 2.89348263, 1.06523877, 0.80072175, 0.59157642,\n",
       "        0.29124569, 0.05646819, 0.        ],\n",
       "       [1.3361408 , 1.06523877, 2.295261  , 0.57312365, 0.39568399,\n",
       "        0.17529045, 0.04349004, 0.        ],\n",
       "       [1.02305187, 0.80072175, 0.57312365, 1.88323218, 0.25618096,\n",
       "        0.13358765, 0.03329931, 0.        ],\n",
       "       [0.77861079, 0.59157642, 0.39568399, 0.25618096, 1.59628932,\n",
       "        0.10091793, 0.025343  , 0.        ],\n",
       "       [0.43187305, 0.29124569, 0.17529045, 0.13358765, 0.10091793,\n",
       "        1.23760695, 0.01405703, 0.        ],\n",
       "       [0.11965149, 0.05646819, 0.04349004, 0.03329931, 0.025343  ,\n",
       "        0.01405703, 0.96103619, 0.        ],\n",
       "       [0.        , 0.        , 0.        , 0.        , 0.        ,\n",
       "        0.        , 0.        , 0.57325197]])"
      ]
     },
     "execution_count": 10,
     "metadata": {},
     "output_type": "execute_result"
    }
   ],
   "source": [
    "gamma"
   ]
  },
  {
   "cell_type": "code",
   "execution_count": 11,
   "metadata": {},
   "outputs": [
    {
     "data": {
      "text/plain": [
       "array([[3.67616443, 1.73489974, 1.33618145, 1.02308213, 0.778634  ,\n",
       "        0.43188635, 0.11965546, 0.        ],\n",
       "       [1.73489974, 2.89348782, 1.06524666, 0.8007291 , 0.59158214,\n",
       "        0.29124909, 0.05646925, 0.        ],\n",
       "       [1.33618145, 1.06524666, 2.29526614, 0.57313266, 0.3956911 ,\n",
       "        0.17529475, 0.04349137, 0.        ],\n",
       "       [1.02308213, 0.8007291 , 0.57313266, 1.88324165, 0.2561866 ,\n",
       "        0.13359091, 0.0333003 , 0.        ],\n",
       "       [0.778634  , 0.59158214, 0.3956911 , 0.2561866 , 1.59629455,\n",
       "        0.10092044, 0.02534376, 0.        ],\n",
       "       [0.43188635, 0.29124909, 0.17529475, 0.13359091, 0.10092044,\n",
       "        1.23760779, 0.01405747, 0.        ],\n",
       "       [0.11965546, 0.05646925, 0.04349137, 0.0333003 , 0.02534376,\n",
       "        0.01405747, 0.96103632, 0.        ],\n",
       "       [0.        , 0.        , 0.        , 0.        , 0.        ,\n",
       "        0.        , 0.        , 0.57325197]])"
      ]
     },
     "execution_count": 11,
     "metadata": {},
     "output_type": "execute_result"
    }
   ],
   "source": [
    "edge_model.covariance_"
   ]
  },
  {
   "cell_type": "code",
   "execution_count": 12,
   "metadata": {},
   "outputs": [
    {
     "data": {
      "text/html": [
       "<div>\n",
       "<style scoped>\n",
       "    .dataframe tbody tr th:only-of-type {\n",
       "        vertical-align: middle;\n",
       "    }\n",
       "\n",
       "    .dataframe tbody tr th {\n",
       "        vertical-align: top;\n",
       "    }\n",
       "\n",
       "    .dataframe thead th {\n",
       "        text-align: right;\n",
       "    }\n",
       "</style>\n",
       "<table border=\"1\" class=\"dataframe\">\n",
       "  <thead>\n",
       "    <tr style=\"text-align: right;\">\n",
       "      <th></th>\n",
       "      <th>0</th>\n",
       "      <th>1</th>\n",
       "      <th>2</th>\n",
       "      <th>3</th>\n",
       "      <th>4</th>\n",
       "      <th>5</th>\n",
       "      <th>6</th>\n",
       "      <th>7</th>\n",
       "    </tr>\n",
       "  </thead>\n",
       "  <tbody>\n",
       "    <tr>\n",
       "      <th>0</th>\n",
       "      <td>0.467746</td>\n",
       "      <td>-0.164542</td>\n",
       "      <td>-0.140433</td>\n",
       "      <td>-0.120354</td>\n",
       "      <td>-0.107291</td>\n",
       "      <td>-0.082486</td>\n",
       "      <td>-0.034006</td>\n",
       "      <td>-0.000000</td>\n",
       "    </tr>\n",
       "    <tr>\n",
       "      <th>1</th>\n",
       "      <td>-0.164542</td>\n",
       "      <td>0.528311</td>\n",
       "      <td>-0.112219</td>\n",
       "      <td>-0.088880</td>\n",
       "      <td>-0.071200</td>\n",
       "      <td>-0.035615</td>\n",
       "      <td>-0.000000</td>\n",
       "      <td>-0.000000</td>\n",
       "    </tr>\n",
       "    <tr>\n",
       "      <th>2</th>\n",
       "      <td>-0.140433</td>\n",
       "      <td>-0.112219</td>\n",
       "      <td>0.586918</td>\n",
       "      <td>-0.050910</td>\n",
       "      <td>-0.027228</td>\n",
       "      <td>-0.000000</td>\n",
       "      <td>-0.000000</td>\n",
       "      <td>-0.000000</td>\n",
       "    </tr>\n",
       "    <tr>\n",
       "      <th>3</th>\n",
       "      <td>-0.120354</td>\n",
       "      <td>-0.088880</td>\n",
       "      <td>-0.050910</td>\n",
       "      <td>0.649667</td>\n",
       "      <td>-0.000000</td>\n",
       "      <td>-0.000000</td>\n",
       "      <td>-0.000000</td>\n",
       "      <td>-0.000000</td>\n",
       "    </tr>\n",
       "    <tr>\n",
       "      <th>4</th>\n",
       "      <td>-0.107291</td>\n",
       "      <td>-0.071200</td>\n",
       "      <td>-0.027228</td>\n",
       "      <td>-0.000000</td>\n",
       "      <td>0.711921</td>\n",
       "      <td>-0.000000</td>\n",
       "      <td>-0.000000</td>\n",
       "      <td>-0.000000</td>\n",
       "    </tr>\n",
       "    <tr>\n",
       "      <th>5</th>\n",
       "      <td>-0.082486</td>\n",
       "      <td>-0.035615</td>\n",
       "      <td>-0.000000</td>\n",
       "      <td>-0.000000</td>\n",
       "      <td>-0.000000</td>\n",
       "      <td>0.845176</td>\n",
       "      <td>-0.000000</td>\n",
       "      <td>-0.000000</td>\n",
       "    </tr>\n",
       "    <tr>\n",
       "      <th>6</th>\n",
       "      <td>-0.034006</td>\n",
       "      <td>-0.000000</td>\n",
       "      <td>-0.000000</td>\n",
       "      <td>-0.000000</td>\n",
       "      <td>-0.000000</td>\n",
       "      <td>-0.000000</td>\n",
       "      <td>1.044777</td>\n",
       "      <td>-0.000000</td>\n",
       "    </tr>\n",
       "    <tr>\n",
       "      <th>7</th>\n",
       "      <td>-0.000000</td>\n",
       "      <td>-0.000000</td>\n",
       "      <td>-0.000000</td>\n",
       "      <td>-0.000000</td>\n",
       "      <td>-0.000000</td>\n",
       "      <td>-0.000000</td>\n",
       "      <td>-0.000000</td>\n",
       "      <td>1.744434</td>\n",
       "    </tr>\n",
       "  </tbody>\n",
       "</table>\n",
       "</div>"
      ],
      "text/plain": [
       "          0         1         2         3         4         5         6  \\\n",
       "0  0.467746 -0.164542 -0.140433 -0.120354 -0.107291 -0.082486 -0.034006   \n",
       "1 -0.164542  0.528311 -0.112219 -0.088880 -0.071200 -0.035615 -0.000000   \n",
       "2 -0.140433 -0.112219  0.586918 -0.050910 -0.027228 -0.000000 -0.000000   \n",
       "3 -0.120354 -0.088880 -0.050910  0.649667 -0.000000 -0.000000 -0.000000   \n",
       "4 -0.107291 -0.071200 -0.027228 -0.000000  0.711921 -0.000000 -0.000000   \n",
       "5 -0.082486 -0.035615 -0.000000 -0.000000 -0.000000  0.845176 -0.000000   \n",
       "6 -0.034006 -0.000000 -0.000000 -0.000000 -0.000000 -0.000000  1.044777   \n",
       "7 -0.000000 -0.000000 -0.000000 -0.000000 -0.000000 -0.000000 -0.000000   \n",
       "\n",
       "          7  \n",
       "0 -0.000000  \n",
       "1 -0.000000  \n",
       "2 -0.000000  \n",
       "3 -0.000000  \n",
       "4 -0.000000  \n",
       "5 -0.000000  \n",
       "6 -0.000000  \n",
       "7  1.744434  "
      ]
     },
     "execution_count": 12,
     "metadata": {},
     "output_type": "execute_result"
    }
   ],
   "source": [
    "pd.DataFrame(edge_model.precision_)"
   ]
  },
  {
   "cell_type": "code",
   "execution_count": 13,
   "metadata": {},
   "outputs": [],
   "source": [
    "graph = nx.from_numpy_array(edge_model.precision_)"
   ]
  },
  {
   "cell_type": "code",
   "execution_count": 14,
   "metadata": {},
   "outputs": [
    {
     "data": {
      "image/png": "[encoded data removed]",
      "text/plain": [
       "<Figure size 432x288 with 1 Axes>"
      ]
     },
     "metadata": {},
     "output_type": "display_data"
    }
   ],
   "source": [
    "nx.draw(graph)"
   ]
  },
  {
   "cell_type": "markdown",
   "metadata": {},
   "source": [
    "## Greedy algorithm"
   ]
  },
  {
   "cell_type": "code",
   "execution_count": 15,
   "metadata": {},
   "outputs": [],
   "source": [
    "A = Ahat.T @ gamma @ Ahat\n",
    "B = gamma"
   ]
  },
  {
   "cell_type": "code",
   "execution_count": 16,
   "metadata": {},
   "outputs": [],
   "source": [
    "test_eigh = scipy.linalg.eigh(A, B)"
   ]
  },
  {
   "cell_type": "code",
   "execution_count": 17,
   "metadata": {},
   "outputs": [
    {
     "data": {
      "text/plain": [
       "(array([5.11103618e-04, 3.07906734e-02, 2.01592290e-01, 4.07817956e-01,\n",
       "        6.77035465e-01, 9.21842894e-01, 1.07290046e+00, 1.24397484e+00]),\n",
       " array([[ 3.58545307e-04,  8.45226416e-03, -4.15567747e-02,\n",
       "          1.07533244e-01,  2.64890461e-01, -6.05301311e-01,\n",
       "         -1.32148158e-01, -1.90854310e-02],\n",
       "        [ 1.07683549e-02,  4.41107484e-02,  1.73925108e-01,\n",
       "         -2.54125898e-01, -3.11657487e-01,  1.07751729e-01,\n",
       "         -5.00538280e-02, -5.65838626e-01],\n",
       "        [-5.73027269e-02, -3.55106185e-01, -5.45751012e-01,\n",
       "          2.74250370e-01, -6.05750583e-02,  2.76636811e-01,\n",
       "          5.18258160e-02, -3.99113989e-02],\n",
       "        [ 2.36565135e-01,  6.11494332e-01, -2.13541354e-02,\n",
       "          3.27671196e-01,  1.16924224e-01,  2.96882539e-01,\n",
       "          9.26641203e-02,  3.94612405e-02],\n",
       "        [-5.31363929e-01, -1.12868356e-01,  4.03219311e-01,\n",
       "          1.96041538e-01,  3.25034855e-01,  2.88973142e-01,\n",
       "          1.63228871e-01,  4.37862332e-03],\n",
       "        [ 6.06760995e-01, -3.63409593e-01,  1.82444651e-01,\n",
       "         -1.62400567e-01,  4.18143945e-01,  2.20527144e-01,\n",
       "          2.46161194e-01, -3.49147562e-02],\n",
       "        [-2.81067877e-01,  2.89336216e-01, -4.56333532e-01,\n",
       "         -6.49859554e-01,  3.74894941e-01,  7.15542497e-02,\n",
       "          3.21071033e-01, -5.24620843e-02],\n",
       "        [ 6.57943892e-03, -1.18549411e-02,  7.08013375e-02,\n",
       "          2.20572684e-01, -4.32777562e-01, -4.07069411e-01,\n",
       "          1.15637404e+00, -1.95394825e-02]]))"
      ]
     },
     "execution_count": 17,
     "metadata": {},
     "output_type": "execute_result"
    }
   ],
   "source": [
    "test_eigh"
   ]
  },
  {
   "cell_type": "code",
   "execution_count": 18,
   "metadata": {},
   "outputs": [
    {
     "data": {
      "text/plain": [
       "array([ 0.00657944, -0.01185494,  0.07080134,  0.22057268, -0.43277756,\n",
       "       -0.40706941,  1.15637404, -0.01953948])"
      ]
     },
     "execution_count": 18,
     "metadata": {},
     "output_type": "execute_result"
    }
   ],
   "source": [
    "test_eigh[1][-1, :]"
   ]
  },
  {
   "cell_type": "code",
   "execution_count": 19,
   "metadata": {},
   "outputs": [
    {
     "name": "stdout",
     "output_type": "stream",
     "text": [
      "[]\n",
      "[[0.62849321]]\n",
      "[[1.88323218]]\n",
      "[[0.570341]]\n",
      "[[0.57325197]]\n",
      "[[1.10683327]]\n",
      "[[2.295261]]\n",
      "[[3.27138176]]\n",
      "[[3.67604229]]\n",
      "[[3.57215433]]\n",
      "[[2.89348263]]\n",
      "[[0.40092797]]\n",
      "[[0.96103619]]\n",
      "[[0.41550901]]\n",
      "[[1.23760695]]\n",
      "[[0.62531508]]\n",
      "[[1.59628932]]\n",
      "[1]\n",
      "[[3.57215433 1.46706406]\n",
      " [1.46706406 1.10683327]]\n",
      "[[2.89348263 1.06523877]\n",
      " [1.06523877 2.295261  ]]\n",
      "[[3.57215433 0.7225919 ]\n",
      " [0.7225919  0.62531508]]\n",
      "[[2.89348263 0.59157642]\n",
      " [0.59157642 1.59628932]]\n",
      "[[3.57215433 0.89085727]\n",
      " [0.89085727 0.62849321]]\n",
      "[[2.89348263 0.80072175]\n",
      " [0.80072175 1.88323218]]\n",
      "[[3.57215433 2.21038034]\n",
      " [2.21038034 3.27138176]]\n",
      "[[2.89348263 1.73486723]\n",
      " [1.73486723 3.67604229]]\n",
      "[[3.57215433 0.12415391]\n",
      " [0.12415391 0.40092797]]\n",
      "[[2.89348263 0.05646819]\n",
      " [0.05646819 0.96103619]]\n",
      "[[ 3.57215433 -0.00923298]\n",
      " [-0.00923298  0.570341  ]]\n",
      "[[2.89348263 0.        ]\n",
      " [0.         0.57325197]]\n",
      "[[3.57215433 0.4169374 ]\n",
      " [0.4169374  0.41550901]]\n",
      "[[2.89348263 0.29124569]\n",
      " [0.29124569 1.23760695]]\n",
      "[1, 2]\n",
      "[[ 3.57215433e+00  1.46706406e+00 -9.23298090e-03]\n",
      " [ 1.46706406e+00  1.10683327e+00 -1.59830811e-03]\n",
      " [-9.23298090e-03 -1.59830811e-03  5.70340998e-01]]\n",
      "[[2.89348263 1.06523877 0.        ]\n",
      " [1.06523877 2.295261   0.        ]\n",
      " [0.         0.         0.57325197]]\n",
      "[[3.57215433 1.46706406 0.89085727]\n",
      " [1.46706406 1.10683327 0.70668436]\n",
      " [0.89085727 0.70668436 0.62849321]]\n",
      "[[2.89348263 1.06523877 0.80072175]\n",
      " [1.06523877 2.295261   0.57312365]\n",
      " [0.80072175 0.57312365 1.88323218]]\n",
      "[[3.57215433 1.46706406 0.4169374 ]\n",
      " [1.46706406 1.10683327 0.24840547]\n",
      " [0.4169374  0.24840547 0.41550901]]\n",
      "[[2.89348263 1.06523877 0.29124569]\n",
      " [1.06523877 2.295261   0.17529045]\n",
      " [0.29124569 0.17529045 1.23760695]]\n",
      "[[3.57215433 1.46706406 0.12415391]\n",
      " [1.46706406 1.10683327 0.05658208]\n",
      " [0.12415391 0.05658208 0.40092797]]\n",
      "[[2.89348263 1.06523877 0.05646819]\n",
      " [1.06523877 2.295261   0.04349004]\n",
      " [0.05646819 0.04349004 0.96103619]]\n",
      "[[3.57215433 1.46706406 2.21038034]\n",
      " [1.46706406 1.10683327 1.03381122]\n",
      " [2.21038034 1.03381122 3.27138176]]\n",
      "[[2.89348263 1.06523877 1.73486723]\n",
      " [1.06523877 2.295261   1.3361408 ]\n",
      " [1.73486723 1.3361408  3.67604229]]\n",
      "[[3.57215433 1.46706406 0.7225919 ]\n",
      " [1.46706406 1.10683327 0.47948464]\n",
      " [0.7225919  0.47948464 0.62531508]]\n",
      "[[2.89348263 1.06523877 0.59157642]\n",
      " [1.06523877 2.295261   0.39568399]\n",
      " [0.59157642 0.39568399 1.59628932]]\n",
      "[1, 2, 5]\n",
      "[[3.57215433 1.46706406 0.4169374  2.21038034]\n",
      " [1.46706406 1.10683327 0.24840547 1.03381122]\n",
      " [0.4169374  0.24840547 0.41550901 0.43051371]\n",
      " [2.21038034 1.03381122 0.43051371 3.27138176]]\n",
      "[[2.89348263 1.06523877 0.29124569 1.73486723]\n",
      " [1.06523877 2.295261   0.17529045 1.3361408 ]\n",
      " [0.29124569 0.17529045 1.23760695 0.43187305]\n",
      " [1.73486723 1.3361408  0.43187305 3.67604229]]\n",
      "[[3.57215433 1.46706406 0.4169374  0.7225919 ]\n",
      " [1.46706406 1.10683327 0.24840547 0.47948464]\n",
      " [0.4169374  0.24840547 0.41550901 0.43287907]\n",
      " [0.7225919  0.47948464 0.43287907 0.62531508]]\n",
      "[[2.89348263 1.06523877 0.29124569 0.59157642]\n",
      " [1.06523877 2.295261   0.17529045 0.39568399]\n",
      " [0.29124569 0.17529045 1.23760695 0.10091793]\n",
      " [0.59157642 0.39568399 0.10091793 1.59628932]]\n",
      "[[ 3.57215433e+00  1.46706406e+00  4.16937403e-01 -9.23298090e-03]\n",
      " [ 1.46706406e+00  1.10683327e+00  2.48405469e-01 -1.59830811e-03]\n",
      " [ 4.16937403e-01  2.48405469e-01  4.15509008e-01  6.13198471e-02]\n",
      " [-9.23298090e-03 -1.59830811e-03  6.13198471e-02  5.70340998e-01]]\n",
      "[[2.89348263 1.06523877 0.29124569 0.        ]\n",
      " [1.06523877 2.295261   0.17529045 0.        ]\n",
      " [0.29124569 0.17529045 1.23760695 0.        ]\n",
      " [0.         0.         0.         0.57325197]]\n",
      "[[3.57215433 1.46706406 0.4169374  0.89085727]\n",
      " [1.46706406 1.10683327 0.24840547 0.70668436]\n",
      " [0.4169374  0.24840547 0.41550901 0.28173017]\n",
      " [0.89085727 0.70668436 0.28173017 0.62849321]]\n",
      "[[2.89348263 1.06523877 0.29124569 0.80072175]\n",
      " [1.06523877 2.295261   0.17529045 0.57312365]\n",
      " [0.29124569 0.17529045 1.23760695 0.13358765]\n",
      " [0.80072175 0.57312365 0.13358765 1.88323218]]\n",
      "[[3.57215433 1.46706406 0.4169374  0.12415391]\n",
      " [1.46706406 1.10683327 0.24840547 0.05658208]\n",
      " [0.4169374  0.24840547 0.41550901 0.28175409]\n",
      " [0.12415391 0.05658208 0.28175409 0.40092797]]\n",
      "[[2.89348263 1.06523877 0.29124569 0.05646819]\n",
      " [1.06523877 2.295261   0.17529045 0.04349004]\n",
      " [0.29124569 0.17529045 1.23760695 0.01405703]\n",
      " [0.05646819 0.04349004 0.01405703 0.96103619]]\n",
      "[1, 2, 5, 3]\n",
      "[[3.57215433 1.46706406 0.4169374  0.89085727 0.12415391]\n",
      " [1.46706406 1.10683327 0.24840547 0.70668436 0.05658208]\n",
      " [0.4169374  0.24840547 0.41550901 0.28173017 0.28175409]\n",
      " [0.89085727 0.70668436 0.28173017 0.62849321 0.0387821 ]\n",
      " [0.12415391 0.05658208 0.28175409 0.0387821  0.40092797]]\n",
      "[[2.89348263 1.06523877 0.29124569 0.80072175 0.05646819]\n",
      " [1.06523877 2.295261   0.17529045 0.57312365 0.04349004]\n",
      " [0.29124569 0.17529045 1.23760695 0.13358765 0.01405703]\n",
      " [0.80072175 0.57312365 0.13358765 1.88323218 0.03329931]\n",
      " [0.05646819 0.04349004 0.01405703 0.03329931 0.96103619]]\n",
      "[[3.57215433 1.46706406 0.4169374  0.89085727 2.21038034]\n",
      " [1.46706406 1.10683327 0.24840547 0.70668436 1.03381122]\n",
      " [0.4169374  0.24840547 0.41550901 0.28173017 0.43051371]\n",
      " [0.89085727 0.70668436 0.28173017 0.62849321 0.70514583]\n",
      " [2.21038034 1.03381122 0.43051371 0.70514583 3.27138176]]\n",
      "[[2.89348263 1.06523877 0.29124569 0.80072175 1.73486723]\n",
      " [1.06523877 2.295261   0.17529045 0.57312365 1.3361408 ]\n",
      " [0.29124569 0.17529045 1.23760695 0.13358765 0.43187305]\n",
      " [0.80072175 0.57312365 0.13358765 1.88323218 1.02305187]\n",
      " [1.73486723 1.3361408  0.43187305 1.02305187 3.67604229]]\n",
      "[[ 3.57215433e+00  1.46706406e+00  4.16937403e-01  8.90857270e-01\n",
      "  -9.23298090e-03]\n",
      " [ 1.46706406e+00  1.10683327e+00  2.48405469e-01  7.06684360e-01\n",
      "  -1.59830811e-03]\n",
      " [ 4.16937403e-01  2.48405469e-01  4.15509008e-01  2.81730173e-01\n",
      "   6.13198471e-02]\n",
      " [ 8.90857270e-01  7.06684360e-01  2.81730173e-01  6.28493213e-01\n",
      "  -1.37515573e-03]\n",
      " [-9.23298090e-03 -1.59830811e-03  6.13198471e-02 -1.37515573e-03\n",
      "   5.70340998e-01]]\n",
      "[[2.89348263 1.06523877 0.29124569 0.80072175 0.        ]\n",
      " [1.06523877 2.295261   0.17529045 0.57312365 0.        ]\n",
      " [0.29124569 0.17529045 1.23760695 0.13358765 0.        ]\n",
      " [0.80072175 0.57312365 0.13358765 1.88323218 0.        ]\n",
      " [0.         0.         0.         0.         0.57325197]]\n",
      "[[3.57215433 1.46706406 0.4169374  0.89085727 0.7225919 ]\n",
      " [1.46706406 1.10683327 0.24840547 0.70668436 0.47948464]\n",
      " [0.4169374  0.24840547 0.41550901 0.28173017 0.43287907]\n",
      " [0.89085727 0.70668436 0.28173017 0.62849321 0.52295869]\n",
      " [0.7225919  0.47948464 0.43287907 0.52295869 0.62531508]]\n",
      "[[2.89348263 1.06523877 0.29124569 0.80072175 0.59157642]\n",
      " [1.06523877 2.295261   0.17529045 0.57312365 0.39568399]\n",
      " [0.29124569 0.17529045 1.23760695 0.13358765 0.10091793]\n",
      " [0.80072175 0.57312365 0.13358765 1.88323218 0.25618096]\n",
      " [0.59157642 0.39568399 0.10091793 0.25618096 1.59628932]]\n",
      "[1, 2, 5, 3, 4]\n"
     ]
    }
   ],
   "source": [
    "col_row_list = []\n",
    "candidate_list = set(range(A.shape[0]))\n",
    "designated_k = 5\n",
    "for num in range(designated_k):\n",
    "    # num is the length of support we're considering\n",
    "    print(col_row_list)\n",
    "    max_gen_eig_ratio = np.NINF\n",
    "    seq = list(candidate_list)\n",
    "    shuffle(seq)\n",
    "    for support in seq:\n",
    "        cand = col_row_list + [support]\n",
    "        left_matrix = A[cand, :][:, cand]\n",
    "        print(left_matrix)\n",
    "        right_matrix = B[cand, :][:, cand]\n",
    "        print(right_matrix)\n",
    "        if len(cand) == 1:\n",
    "            left_matrix = left_matrix.reshape(-1, 1)\n",
    "            right_matrix = right_matrix.reshape(-1, 1)\n",
    "\n",
    "        eigval, eigvec = scipy.linalg.eigh(left_matrix, right_matrix)\n",
    "        \n",
    "        x = np.zeros((A.shape[0], ))\n",
    "        x[cand] = eigvec[-1, :]\n",
    "        x = x.reshape(-1, 1)\n",
    "        \n",
    "        gen_eig_ratio = np.squeeze((x.T @ A @ x) / (x.T @ B @ x))\n",
    "        if gen_eig_ratio > max_gen_eig_ratio:\n",
    "            max_gen_eig_ratio = gen_eig_ratio\n",
    "            cur_support = support\n",
    "    col_row_list.append(cur_support)\n",
    "    candidate_list.remove(cur_support)\n",
    "        \n",
    "print(col_row_list)"
   ]
  },
  {
   "cell_type": "markdown",
   "metadata": {},
   "source": [
    "## SDP"
   ]
  },
  {
   "cell_type": "code",
   "execution_count": 20,
   "metadata": {},
   "outputs": [],
   "source": [
    "X_dim = B.shape[0]\n",
    "X = cp.Variable((X_dim, X_dim), symmetric=True)"
   ]
  },
  {
   "cell_type": "code",
   "execution_count": 21,
   "metadata": {},
   "outputs": [],
   "source": [
    "card = 8\n",
    "\n",
    "constraints = [\n",
    "    cp.sum(cp.abs(X)) <= card * cp.trace(X),\n",
    "    cp.trace(X) >= 0,\n",
    "    cp.trace(B @ X) == 1,\n",
    "    X >> 0\n",
    "]"
   ]
  },
  {
   "cell_type": "code",
   "execution_count": 22,
   "metadata": {},
   "outputs": [
    {
     "data": {
      "text/plain": [
       "1.2439727261594498"
      ]
     },
     "execution_count": 22,
     "metadata": {},
     "output_type": "execute_result"
    }
   ],
   "source": [
    "prob = cp.Problem(cp.Maximize(cp.trace(A @ X)), constraints)\n",
    "prob.solve()"
   ]
  },
  {
   "cell_type": "code",
   "execution_count": 23,
   "metadata": {},
   "outputs": [
    {
     "name": "stdout",
     "output_type": "stream",
     "text": [
      "var0 [[ 3.64035702e-04  1.07988011e-02  7.61897135e-04 -7.53039947e-04\n",
      "  -8.34484871e-05  6.66371797e-04  1.00111861e-03  3.72208993e-04]\n",
      " [ 1.07988011e-02  3.20170866e-01  2.25855729e-02 -2.23267810e-02\n",
      "  -2.47623357e-03  1.97545277e-02  2.96798935e-02  1.10357343e-02]\n",
      " [ 7.61897135e-04  2.25855729e-02  1.59319975e-03 -1.57482550e-03\n",
      "  -1.74481221e-04  1.39366071e-03  2.09364838e-03  7.78465168e-04]\n",
      " [-7.53039947e-04 -2.23267810e-02 -1.57482550e-03  1.55702893e-03\n",
      "   1.72994814e-04 -1.37744637e-03 -2.06969742e-03 -7.69581625e-04]\n",
      " [-8.34484871e-05 -2.47623357e-03 -1.74481221e-04  1.72994814e-04\n",
      "   1.91713890e-05 -1.52616920e-04 -2.29524453e-04 -8.53072520e-05]\n",
      " [ 6.66371797e-04  1.97545277e-02  1.39366071e-03 -1.37744637e-03\n",
      "  -1.52616920e-04  1.21874525e-03  1.83125646e-03  6.81000957e-04]\n",
      " [ 1.00111861e-03  2.96798935e-02  2.09364838e-03 -2.06969742e-03\n",
      "  -2.29524453e-04  1.83125646e-03  2.75103477e-03  1.02312697e-03]\n",
      " [ 3.72208993e-04  1.10357343e-02  7.78465168e-04 -7.69581625e-04\n",
      "  -8.53072520e-05  6.81000957e-04  1.02312697e-03  3.80894367e-04]]\n"
     ]
    }
   ],
   "source": [
    "for variable in prob.variables():\n",
    "    print(variable.name(), variable.value)"
   ]
  },
  {
   "cell_type": "code",
   "execution_count": 24,
   "metadata": {},
   "outputs": [],
   "source": [
    "optimized_Y = prob.variables()[0].value\n",
    "trace_BX = 1 / np.trace(optimized_Y)\n",
    "matrix_X = optimized_Y / trace_BX"
   ]
  },
  {
   "cell_type": "code",
   "execution_count": 25,
   "metadata": {},
   "outputs": [
    {
     "data": {
      "text/plain": [
       "3.0482695658265957"
      ]
     },
     "execution_count": 25,
     "metadata": {},
     "output_type": "execute_result"
    }
   ],
   "source": [
    "trace_BX"
   ]
  },
  {
   "cell_type": "code",
   "execution_count": 26,
   "metadata": {},
   "outputs": [
    {
     "data": {
      "text/plain": [
       "0.6014615028432359"
      ]
     },
     "execution_count": 26,
     "metadata": {},
     "output_type": "execute_result"
    }
   ],
   "source": [
    "np.sum(np.abs(optimized_Y))"
   ]
  },
  {
   "cell_type": "code",
   "execution_count": 27,
   "metadata": {
    "scrolled": true
   },
   "outputs": [
    {
     "data": {
      "text/plain": [
       "array([[ 1.19423723e-04,  3.54260044e-03,  2.49944147e-04,\n",
       "        -2.47038502e-04, -2.73756914e-05,  2.18606584e-04,\n",
       "         3.28421941e-04,  1.22105012e-04],\n",
       "       [ 3.54260044e-03,  1.05033646e-01,  7.40930958e-03,\n",
       "        -7.32441162e-03, -8.12340745e-04,  6.48057111e-03,\n",
       "         9.73663676e-03,  3.62032756e-03],\n",
       "       [ 2.49944147e-04,  7.40930958e-03,  5.22657105e-04,\n",
       "        -5.16629342e-04, -5.72394327e-05,  4.57197332e-04,\n",
       "         6.86831769e-04,  2.55379372e-04],\n",
       "       [-2.47038502e-04, -7.32441162e-03, -5.16629342e-04,\n",
       "         5.10791088e-04,  5.67518095e-05, -4.51878135e-04,\n",
       "        -6.78974537e-04, -2.52465082e-04],\n",
       "       [-2.73756914e-05, -8.12340745e-04, -5.72394327e-05,\n",
       "         5.67518095e-05,  6.28926955e-06, -5.00667399e-05,\n",
       "        -7.52966389e-05, -2.79854685e-05],\n",
       "       [ 2.18606584e-04,  6.48057111e-03,  4.57197332e-04,\n",
       "        -4.51878135e-04, -5.00667399e-05,  3.99815445e-04,\n",
       "         6.00752794e-04,  2.23405753e-04],\n",
       "       [ 3.28421941e-04,  9.73663676e-03,  6.86831769e-04,\n",
       "        -6.78974537e-04, -7.52966389e-05,  6.00752794e-04,\n",
       "         9.02490645e-04,  3.35641893e-04],\n",
       "       [ 1.22105012e-04,  3.62032756e-03,  2.55379372e-04,\n",
       "        -2.52465082e-04, -2.79854685e-05,  2.23405753e-04,\n",
       "         3.35641893e-04,  1.24954292e-04]])"
      ]
     },
     "execution_count": 27,
     "metadata": {},
     "output_type": "execute_result"
    }
   ],
   "source": [
    "matrix_X"
   ]
  },
  {
   "cell_type": "markdown",
   "metadata": {},
   "source": [
    "Calculate the eigenvalue of `matrix_X` and take the leading one. If `matrix_X` is rank 1 then it should only have one eigenvector."
   ]
  },
  {
   "cell_type": "code",
   "execution_count": 28,
   "metadata": {},
   "outputs": [
    {
     "data": {
      "text/plain": [
       "8"
      ]
     },
     "execution_count": 28,
     "metadata": {},
     "output_type": "execute_result"
    }
   ],
   "source": [
    "np.linalg.matrix_rank(matrix_X)"
   ]
  },
  {
   "cell_type": "code",
   "execution_count": 29,
   "metadata": {},
   "outputs": [],
   "source": [
    "eigvalues, eigvectors = np.linalg.eig(matrix_X)"
   ]
  },
  {
   "cell_type": "code",
   "execution_count": 30,
   "metadata": {},
   "outputs": [
    {
     "data": {
      "text/plain": [
       "array([ 1.07620069e-01,  2.01780130e-07,  1.70548401e-07, -1.31254370e-08,\n",
       "       -1.21802705e-07, -9.50620487e-08, -7.48536596e-08, -6.85641251e-08])"
      ]
     },
     "execution_count": 30,
     "metadata": {},
     "output_type": "execute_result"
    }
   ],
   "source": [
    "eigvalues"
   ]
  },
  {
   "cell_type": "code",
   "execution_count": 31,
   "metadata": {},
   "outputs": [
    {
     "data": {
      "text/plain": [
       "array([[ 0.03332052,  0.14125212,  0.07447783,  0.55356829,  0.52407491,\n",
       "         0.24433642, -0.44907223, -0.36184542],\n",
       "       [ 0.98791047, -0.03407599,  0.04150867, -0.1166609 ,  0.08343582,\n",
       "         0.00147208,  0.00491625,  0.02347588],\n",
       "       [ 0.06968941,  0.3548754 ,  0.24754504,  0.48331191, -0.31180225,\n",
       "         0.0583869 , -0.12399068,  0.67700408],\n",
       "       [-0.06889088,  0.49404425,  0.31797028, -0.56766385,  0.06351689,\n",
       "         0.55683268, -0.11713353, -0.00311216],\n",
       "       [-0.00764057,  0.53034311,  0.24530881, -0.12098105,  0.08930649,\n",
       "        -0.76741242, -0.101033  , -0.19172854],\n",
       "       [ 0.06095403,  0.34194336,  0.05243421,  0.32209306, -0.10635836,\n",
       "         0.17611657,  0.7768007 , -0.35653553],\n",
       "       [ 0.0915794 ,  0.06552999, -0.11560508,  0.05652965, -0.76616009,\n",
       "         0.0791735 , -0.39175636, -0.47330343],\n",
       "       [ 0.03405166,  0.45429852, -0.86836406, -0.05043596,  0.10411475,\n",
       "         0.02487093, -0.04599965,  0.14926152]])"
      ]
     },
     "execution_count": 31,
     "metadata": {},
     "output_type": "execute_result"
    }
   ],
   "source": [
    "eigvectors"
   ]
  },
  {
   "cell_type": "code",
   "execution_count": 32,
   "metadata": {},
   "outputs": [
    {
     "data": {
      "text/plain": [
       "array([ 1.07620069e-01,  2.01780130e-07,  1.70548401e-07, -1.31254370e-08,\n",
       "       -1.21802705e-07, -9.50620487e-08, -7.48536596e-08, -6.85641251e-08])"
      ]
     },
     "execution_count": 32,
     "metadata": {},
     "output_type": "execute_result"
    }
   ],
   "source": [
    "eigvalues"
   ]
  },
  {
   "cell_type": "markdown",
   "metadata": {},
   "source": [
    "## Box-Tiao"
   ]
  },
  {
   "cell_type": "code",
   "execution_count": 33,
   "metadata": {},
   "outputs": [
    {
     "name": "stderr",
     "output_type": "stream",
     "text": [
      "C:\\Anaconda3\\envs\\arbitragelab\\lib\\site-packages\\statsmodels\\tsa\\base\\tsa_model.py:527: ValueWarning: No frequency information was provided, so inferred frequency B will be used.\n",
      "  % freq, ValueWarning)\n"
     ]
    }
   ],
   "source": [
    "var_model = sm.tsa.VAR(us_swap_df)\n",
    "result = var_model.fit(1)\n",
    "Ahat = result.params.iloc[1:]\n",
    "B = us_swap_df.cov()\n",
    "Ahat.index = B.index"
   ]
  },
  {
   "cell_type": "code",
   "execution_count": 34,
   "metadata": {},
   "outputs": [
    {
     "data": {
      "text/html": [
       "<div>\n",
       "<style scoped>\n",
       "    .dataframe tbody tr th:only-of-type {\n",
       "        vertical-align: middle;\n",
       "    }\n",
       "\n",
       "    .dataframe tbody tr th {\n",
       "        vertical-align: top;\n",
       "    }\n",
       "\n",
       "    .dataframe thead th {\n",
       "        text-align: right;\n",
       "    }\n",
       "</style>\n",
       "<table border=\"1\" class=\"dataframe\">\n",
       "  <thead>\n",
       "    <tr style=\"text-align: right;\">\n",
       "      <th></th>\n",
       "      <th>1Y Swap</th>\n",
       "      <th>2Y Swap</th>\n",
       "      <th>3Y Swap</th>\n",
       "      <th>4Y Swap</th>\n",
       "      <th>5Y Swap</th>\n",
       "      <th>7Y Swap</th>\n",
       "      <th>10Y Swap</th>\n",
       "      <th>30Y Swap</th>\n",
       "    </tr>\n",
       "    <tr>\n",
       "      <th>Date</th>\n",
       "      <th></th>\n",
       "      <th></th>\n",
       "      <th></th>\n",
       "      <th></th>\n",
       "      <th></th>\n",
       "      <th></th>\n",
       "      <th></th>\n",
       "      <th></th>\n",
       "    </tr>\n",
       "  </thead>\n",
       "  <tbody>\n",
       "    <tr>\n",
       "      <th>1998-01-01</th>\n",
       "      <td>1.963198</td>\n",
       "      <td>1.660336</td>\n",
       "      <td>1.42107</td>\n",
       "      <td>1.228907</td>\n",
       "      <td>1.091777</td>\n",
       "      <td>0.874293</td>\n",
       "      <td>0.674603</td>\n",
       "      <td>0.371429</td>\n",
       "    </tr>\n",
       "    <tr>\n",
       "      <th>1998-01-02</th>\n",
       "      <td>1.943198</td>\n",
       "      <td>1.595336</td>\n",
       "      <td>1.35107</td>\n",
       "      <td>1.143907</td>\n",
       "      <td>0.991777</td>\n",
       "      <td>0.774293</td>\n",
       "      <td>0.579603</td>\n",
       "      <td>0.291429</td>\n",
       "    </tr>\n",
       "    <tr>\n",
       "      <th>1998-01-05</th>\n",
       "      <td>1.928198</td>\n",
       "      <td>1.585336</td>\n",
       "      <td>1.24607</td>\n",
       "      <td>1.133907</td>\n",
       "      <td>0.976777</td>\n",
       "      <td>0.759293</td>\n",
       "      <td>0.464603</td>\n",
       "      <td>0.191429</td>\n",
       "    </tr>\n",
       "    <tr>\n",
       "      <th>1998-01-06</th>\n",
       "      <td>1.838198</td>\n",
       "      <td>1.410336</td>\n",
       "      <td>1.14607</td>\n",
       "      <td>0.953907</td>\n",
       "      <td>0.801777</td>\n",
       "      <td>0.589293</td>\n",
       "      <td>0.414603</td>\n",
       "      <td>0.171429</td>\n",
       "    </tr>\n",
       "    <tr>\n",
       "      <th>1998-01-07</th>\n",
       "      <td>1.773198</td>\n",
       "      <td>1.450336</td>\n",
       "      <td>1.19107</td>\n",
       "      <td>0.998907</td>\n",
       "      <td>0.841777</td>\n",
       "      <td>0.644293</td>\n",
       "      <td>0.464603</td>\n",
       "      <td>0.231429</td>\n",
       "    </tr>\n",
       "    <tr>\n",
       "      <th>...</th>\n",
       "      <td>...</td>\n",
       "      <td>...</td>\n",
       "      <td>...</td>\n",
       "      <td>...</td>\n",
       "      <td>...</td>\n",
       "      <td>...</td>\n",
       "      <td>...</td>\n",
       "      <td>...</td>\n",
       "    </tr>\n",
       "    <tr>\n",
       "      <th>2005-12-26</th>\n",
       "      <td>0.875198</td>\n",
       "      <td>0.476336</td>\n",
       "      <td>0.17707</td>\n",
       "      <td>-0.029093</td>\n",
       "      <td>-0.190223</td>\n",
       "      <td>-0.417707</td>\n",
       "      <td>-0.615397</td>\n",
       "      <td>-0.870571</td>\n",
       "    </tr>\n",
       "    <tr>\n",
       "      <th>2005-12-27</th>\n",
       "      <td>0.858198</td>\n",
       "      <td>0.457836</td>\n",
       "      <td>0.14207</td>\n",
       "      <td>-0.059093</td>\n",
       "      <td>-0.215223</td>\n",
       "      <td>-0.455207</td>\n",
       "      <td>-0.657897</td>\n",
       "      <td>-0.913071</td>\n",
       "    </tr>\n",
       "    <tr>\n",
       "      <th>2005-12-28</th>\n",
       "      <td>0.866698</td>\n",
       "      <td>0.471836</td>\n",
       "      <td>0.17107</td>\n",
       "      <td>-0.032593</td>\n",
       "      <td>-0.187723</td>\n",
       "      <td>-0.423207</td>\n",
       "      <td>-0.622897</td>\n",
       "      <td>-0.887071</td>\n",
       "    </tr>\n",
       "    <tr>\n",
       "      <th>2005-12-29</th>\n",
       "      <td>0.884198</td>\n",
       "      <td>0.485836</td>\n",
       "      <td>0.18907</td>\n",
       "      <td>-0.020093</td>\n",
       "      <td>-0.185723</td>\n",
       "      <td>-0.423207</td>\n",
       "      <td>-0.629897</td>\n",
       "      <td>-0.896071</td>\n",
       "    </tr>\n",
       "    <tr>\n",
       "      <th>2005-12-30</th>\n",
       "      <td>0.895198</td>\n",
       "      <td>0.517336</td>\n",
       "      <td>0.20607</td>\n",
       "      <td>0.000907</td>\n",
       "      <td>-0.156223</td>\n",
       "      <td>-0.399707</td>\n",
       "      <td>-0.596397</td>\n",
       "      <td>-0.877571</td>\n",
       "    </tr>\n",
       "  </tbody>\n",
       "</table>\n",
       "<p>2087 rows × 8 columns</p>\n",
       "</div>"
      ],
      "text/plain": [
       "             1Y Swap   2Y Swap  3Y Swap   4Y Swap   5Y Swap   7Y Swap  \\\n",
       "Date                                                                    \n",
       "1998-01-01  1.963198  1.660336  1.42107  1.228907  1.091777  0.874293   \n",
       "1998-01-02  1.943198  1.595336  1.35107  1.143907  0.991777  0.774293   \n",
       "1998-01-05  1.928198  1.585336  1.24607  1.133907  0.976777  0.759293   \n",
       "1998-01-06  1.838198  1.410336  1.14607  0.953907  0.801777  0.589293   \n",
       "1998-01-07  1.773198  1.450336  1.19107  0.998907  0.841777  0.644293   \n",
       "...              ...       ...      ...       ...       ...       ...   \n",
       "2005-12-26  0.875198  0.476336  0.17707 -0.029093 -0.190223 -0.417707   \n",
       "2005-12-27  0.858198  0.457836  0.14207 -0.059093 -0.215223 -0.455207   \n",
       "2005-12-28  0.866698  0.471836  0.17107 -0.032593 -0.187723 -0.423207   \n",
       "2005-12-29  0.884198  0.485836  0.18907 -0.020093 -0.185723 -0.423207   \n",
       "2005-12-30  0.895198  0.517336  0.20607  0.000907 -0.156223 -0.399707   \n",
       "\n",
       "            10Y Swap  30Y Swap  \n",
       "Date                            \n",
       "1998-01-01  0.674603  0.371429  \n",
       "1998-01-02  0.579603  0.291429  \n",
       "1998-01-05  0.464603  0.191429  \n",
       "1998-01-06  0.414603  0.171429  \n",
       "1998-01-07  0.464603  0.231429  \n",
       "...              ...       ...  \n",
       "2005-12-26 -0.615397 -0.870571  \n",
       "2005-12-27 -0.657897 -0.913071  \n",
       "2005-12-28 -0.622897 -0.887071  \n",
       "2005-12-29 -0.629897 -0.896071  \n",
       "2005-12-30 -0.596397 -0.877571  \n",
       "\n",
       "[2087 rows x 8 columns]"
      ]
     },
     "execution_count": 34,
     "metadata": {},
     "output_type": "execute_result"
    }
   ],
   "source": [
    "us_swap_df_demeaned"
   ]
  },
  {
   "cell_type": "code",
   "execution_count": 35,
   "metadata": {},
   "outputs": [],
   "source": [
    "box_tiao_term1 = np.dot(us_swap_df.T, us_swap_df)\n",
    "box_tiao_term1 = scipy.linalg.sqrtm(np.linalg.inv(box_tiao_term1))\n",
    "box_tiao_term2 = np.dot(result.fittedvalues.T, result.fittedvalues)\n",
    "\n",
    "box_tiao_matrix = box_tiao_term1 @ box_tiao_term2 @ box_tiao_term1"
   ]
  },
  {
   "cell_type": "code",
   "execution_count": 36,
   "metadata": {},
   "outputs": [
    {
     "data": {
      "text/plain": [
       "array([[ 9.12908348e-01,  1.46245761e-01, -3.90262619e-02,\n",
       "        -1.58600795e-02, -6.47913327e-03,  1.58558119e-02,\n",
       "        -8.99182247e-03, -3.76505288e-03],\n",
       "       [ 1.46245761e-01,  6.38323245e-01,  2.76912394e-01,\n",
       "         2.62245947e-03, -3.58993490e-02, -8.46512093e-02,\n",
       "         3.99304824e-02,  1.22201421e-02],\n",
       "       [-3.90262619e-02,  2.76912394e-01,  4.06541916e-01,\n",
       "         2.89623015e-01,  1.29659698e-01,  6.17895447e-03,\n",
       "        -6.67055869e-02, -2.92075417e-03],\n",
       "       [-1.58600795e-02,  2.62245947e-03,  2.89623016e-01,\n",
       "         3.92759227e-01,  2.56823599e-01,  1.40721647e-01,\n",
       "        -4.75483564e-02, -1.85495912e-02],\n",
       "       [-6.47913327e-03, -3.58993490e-02,  1.29659698e-01,\n",
       "         2.56823599e-01,  3.82749311e-01,  2.50640010e-01,\n",
       "         4.12967529e-02, -2.23898857e-02],\n",
       "       [ 1.58558119e-02, -8.46512093e-02,  6.17895447e-03,\n",
       "         1.40721647e-01,  2.50640010e-01,  3.56672590e-01,\n",
       "         3.11638400e-01, -4.39864058e-04],\n",
       "       [-8.99182247e-03,  3.99304824e-02, -6.67055869e-02,\n",
       "        -4.75483564e-02,  4.12967529e-02,  3.11638400e-01,\n",
       "         6.41619942e-01,  8.87305116e-02],\n",
       "       [-3.76505288e-03,  1.22201421e-02, -2.92075417e-03,\n",
       "        -1.85495912e-02, -2.23898857e-02, -4.39864056e-04,\n",
       "         8.87305116e-02,  9.49559957e-01]])"
      ]
     },
     "execution_count": 36,
     "metadata": {},
     "output_type": "execute_result"
    }
   ],
   "source": [
    "box_tiao_matrix"
   ]
  },
  {
   "cell_type": "code",
   "execution_count": 37,
   "metadata": {},
   "outputs": [],
   "source": [
    "box_tiao_eigenvalues, box_tiao_eigenvectors = np.linalg.eig(box_tiao_matrix)"
   ]
  },
  {
   "cell_type": "code",
   "execution_count": 38,
   "metadata": {},
   "outputs": [
    {
     "data": {
      "text/plain": [
       "array([[-0.37468297,  0.26880521, -0.15545491, -0.60420901, -0.3418969 ,\n",
       "        -0.11232863, -0.51826787,  0.0029809 ],\n",
       "       [ 0.39112546, -0.66125774,  0.10329964, -0.05587549, -0.41541244,\n",
       "         0.26289517, -0.3738192 ,  0.12059862],\n",
       "       [ 0.10523766, -0.0570096 ,  0.04921465,  0.32201809,  0.42565461,\n",
       "        -0.48128976, -0.67299157, -0.11754949],\n",
       "       [ 0.40753101,  0.64957121, -0.10965827,  0.32205935, -0.17364843,\n",
       "         0.38568775, -0.2681037 ,  0.21316695],\n",
       "       [-0.62288492, -0.04425333,  0.51512658,  0.29618713,  0.05973747,\n",
       "         0.36940945, -0.19029038,  0.28413284],\n",
       "       [-0.19496424, -0.23735791, -0.74391844,  0.02947929,  0.35271256,\n",
       "         0.25551935, -0.07918206,  0.39420858],\n",
       "       [ 0.31957515,  0.08359291,  0.36254786, -0.53618255,  0.47680681,\n",
       "         0.02244196,  0.01209801,  0.49391956],\n",
       "       [-0.03677093, -0.00204954, -0.02247099,  0.2197816 , -0.37932038,\n",
       "        -0.5793241 ,  0.15567206,  0.66790766]])"
      ]
     },
     "execution_count": 38,
     "metadata": {},
     "output_type": "execute_result"
    }
   ],
   "source": [
    "box_tiao_eigenvectors[box_tiao_eigenvalues.argsort()]"
   ]
  },
  {
   "cell_type": "code",
   "execution_count": 39,
   "metadata": {},
   "outputs": [
    {
     "data": {
      "text/plain": [
       "array([0.025425  , 0.03237383, 0.16874399, 0.63730852, 0.84550956,\n",
       "       0.97351017, 0.99860191, 0.99966156])"
      ]
     },
     "execution_count": 39,
     "metadata": {},
     "output_type": "execute_result"
    }
   ],
   "source": [
    "box_tiao_eigenvalues[box_tiao_eigenvalues.argsort()]"
   ]
  },
  {
   "cell_type": "code",
   "execution_count": 40,
   "metadata": {},
   "outputs": [],
   "source": [
    "A = Ahat.T @ B @ Ahat"
   ]
  },
  {
   "cell_type": "code",
   "execution_count": 41,
   "metadata": {},
   "outputs": [
    {
     "data": {
      "text/html": [
       "<div>\n",
       "<style scoped>\n",
       "    .dataframe tbody tr th:only-of-type {\n",
       "        vertical-align: middle;\n",
       "    }\n",
       "\n",
       "    .dataframe tbody tr th {\n",
       "        vertical-align: top;\n",
       "    }\n",
       "\n",
       "    .dataframe thead th {\n",
       "        text-align: right;\n",
       "    }\n",
       "</style>\n",
       "<table border=\"1\" class=\"dataframe\">\n",
       "  <thead>\n",
       "    <tr style=\"text-align: right;\">\n",
       "      <th></th>\n",
       "      <th>1Y Swap</th>\n",
       "      <th>2Y Swap</th>\n",
       "      <th>3Y Swap</th>\n",
       "      <th>4Y Swap</th>\n",
       "      <th>5Y Swap</th>\n",
       "      <th>7Y Swap</th>\n",
       "      <th>10Y Swap</th>\n",
       "      <th>30Y Swap</th>\n",
       "    </tr>\n",
       "  </thead>\n",
       "  <tbody>\n",
       "    <tr>\n",
       "      <th>1Y Swap</th>\n",
       "      <td>3.674047</td>\n",
       "      <td>3.233594</td>\n",
       "      <td>2.834736</td>\n",
       "      <td>2.521608</td>\n",
       "      <td>2.277115</td>\n",
       "      <td>1.930353</td>\n",
       "      <td>1.618215</td>\n",
       "      <td>1.105530</td>\n",
       "    </tr>\n",
       "    <tr>\n",
       "      <th>2Y Swap</th>\n",
       "      <td>3.233594</td>\n",
       "      <td>2.890017</td>\n",
       "      <td>2.561662</td>\n",
       "      <td>2.297163</td>\n",
       "      <td>2.088020</td>\n",
       "      <td>1.787819</td>\n",
       "      <td>1.514066</td>\n",
       "      <td>1.053340</td>\n",
       "    </tr>\n",
       "    <tr>\n",
       "      <th>3Y Swap</th>\n",
       "      <td>2.834736</td>\n",
       "      <td>2.561662</td>\n",
       "      <td>2.291331</td>\n",
       "      <td>2.069247</td>\n",
       "      <td>1.891812</td>\n",
       "      <td>1.634430</td>\n",
       "      <td>1.396979</td>\n",
       "      <td>0.988865</td>\n",
       "    </tr>\n",
       "    <tr>\n",
       "      <th>4Y Swap</th>\n",
       "      <td>2.521608</td>\n",
       "      <td>2.297163</td>\n",
       "      <td>2.069247</td>\n",
       "      <td>1.879205</td>\n",
       "      <td>1.726199</td>\n",
       "      <td>1.502350</td>\n",
       "      <td>1.293881</td>\n",
       "      <td>0.929100</td>\n",
       "    </tr>\n",
       "    <tr>\n",
       "      <th>5Y Swap</th>\n",
       "      <td>2.277115</td>\n",
       "      <td>2.088020</td>\n",
       "      <td>1.891812</td>\n",
       "      <td>1.726199</td>\n",
       "      <td>1.592094</td>\n",
       "      <td>1.394443</td>\n",
       "      <td>1.208908</td>\n",
       "      <td>0.878918</td>\n",
       "    </tr>\n",
       "    <tr>\n",
       "      <th>7Y Swap</th>\n",
       "      <td>1.930353</td>\n",
       "      <td>1.787819</td>\n",
       "      <td>1.634430</td>\n",
       "      <td>1.502350</td>\n",
       "      <td>1.394443</td>\n",
       "      <td>1.233647</td>\n",
       "      <td>1.080808</td>\n",
       "      <td>0.801487</td>\n",
       "    </tr>\n",
       "    <tr>\n",
       "      <th>10Y Swap</th>\n",
       "      <td>1.618215</td>\n",
       "      <td>1.514066</td>\n",
       "      <td>1.396979</td>\n",
       "      <td>1.293881</td>\n",
       "      <td>1.208908</td>\n",
       "      <td>1.080808</td>\n",
       "      <td>0.957408</td>\n",
       "      <td>0.724736</td>\n",
       "    </tr>\n",
       "    <tr>\n",
       "      <th>30Y Swap</th>\n",
       "      <td>1.105530</td>\n",
       "      <td>1.053340</td>\n",
       "      <td>0.988865</td>\n",
       "      <td>0.929100</td>\n",
       "      <td>0.878918</td>\n",
       "      <td>0.801487</td>\n",
       "      <td>0.724736</td>\n",
       "      <td>0.570909</td>\n",
       "    </tr>\n",
       "  </tbody>\n",
       "</table>\n",
       "</div>"
      ],
      "text/plain": [
       "           1Y Swap   2Y Swap   3Y Swap   4Y Swap   5Y Swap   7Y Swap  \\\n",
       "1Y Swap   3.674047  3.233594  2.834736  2.521608  2.277115  1.930353   \n",
       "2Y Swap   3.233594  2.890017  2.561662  2.297163  2.088020  1.787819   \n",
       "3Y Swap   2.834736  2.561662  2.291331  2.069247  1.891812  1.634430   \n",
       "4Y Swap   2.521608  2.297163  2.069247  1.879205  1.726199  1.502350   \n",
       "5Y Swap   2.277115  2.088020  1.891812  1.726199  1.592094  1.394443   \n",
       "7Y Swap   1.930353  1.787819  1.634430  1.502350  1.394443  1.233647   \n",
       "10Y Swap  1.618215  1.514066  1.396979  1.293881  1.208908  1.080808   \n",
       "30Y Swap  1.105530  1.053340  0.988865  0.929100  0.878918  0.801487   \n",
       "\n",
       "          10Y Swap  30Y Swap  \n",
       "1Y Swap   1.618215  1.105530  \n",
       "2Y Swap   1.514066  1.053340  \n",
       "3Y Swap   1.396979  0.988865  \n",
       "4Y Swap   1.293881  0.929100  \n",
       "5Y Swap   1.208908  0.878918  \n",
       "7Y Swap   1.080808  0.801487  \n",
       "10Y Swap  0.957408  0.724736  \n",
       "30Y Swap  0.724736  0.570909  "
      ]
     },
     "execution_count": 41,
     "metadata": {},
     "output_type": "execute_result"
    }
   ],
   "source": [
    "Ahat.T @ B @ Ahat"
   ]
  },
  {
   "cell_type": "code",
   "execution_count": 42,
   "metadata": {},
   "outputs": [
    {
     "data": {
      "text/plain": [
       "array([3.67792674, 2.89487492, 2.29636646, 1.88414445, 1.5970598 ,\n",
       "       1.23820109, 0.96149702, 0.57352678])"
      ]
     },
     "execution_count": 42,
     "metadata": {},
     "output_type": "execute_result"
    }
   ],
   "source": [
    "B.values.diagonal()"
   ]
  },
  {
   "cell_type": "markdown",
   "metadata": {},
   "source": [
    "It is not feasible to directly calculate the sample covariance $\\Gamma$, and the least square estimate of the VAR(1) transition matrix $\\hat{A}$. As $\\Gamma = \\hat{A}^T \\Gamma \\hat{A}$. This makes no sense for the optimization problem.\n",
    "\n",
    "Instead, for $\\Gamma$ we want a MLE estimate with a regularized cardinality condition. For VAR(1) transition matrix $A$, we want a sparse model with LASSO regression.\n",
    "\n",
    "$\\Gamma^{-1}$ will yield a graph representation, and it will be compared to VAR(1) matrix obtained from a LASSO regression."
   ]
  },
  {
   "cell_type": "code",
   "execution_count": null,
   "metadata": {},
   "outputs": [],
   "source": []
  }
 ],
 "metadata": {
  "kernelspec": {
   "display_name": "Python 3",
   "language": "python",
   "name": "python3"
  },
  "language_info": {
   "codemirror_mode": {
    "name": "ipython",
    "version": 3
   },
   "file_extension": ".py",
   "mimetype": "text/x-python",
   "name": "python",
   "nbconvert_exporter": "python",
   "pygments_lexer": "ipython3",
   "version": "3.7.7"
  }
 },
 "nbformat": 4,
 "nbformat_minor": 4
}

{
 "cells": [
  {
   "cell_type": "code",
   "execution_count": 118,
   "metadata": {},
   "outputs": [],
   "source": [
    "import pandas as pd\n",
    "import numpy as np\n",
    "import scipy\n",
    "import statsmodels.api as sm\n",
    "import cvxpy as cp\n",
    "import networkx as nx\n",
    "from sklearn.linear_model import lasso_path, Lasso\n",
    "from sklearn.covariance import GraphicalLasso, GraphicalLassoCV\n",
    "from random import shuffle"
   ]
  },
  {
   "cell_type": "code",
   "execution_count": 2,
   "metadata": {},
   "outputs": [],
   "source": [
    "us_swap_df = pd.read_csv(\"USSwap.csv\")\n",
    "us_swap_df['Date'] = pd.to_datetime(us_swap_df['Date'])\n",
    "us_swap_df.set_index('Date', inplace=True)\n",
    "us_swap_df.fillna(method=\"ffill\", inplace=True)\n",
    "\n",
    "# demeaned to match the assumption, as LASSO does not need\n",
    "us_swap_df_demeaned = us_swap_df - us_swap_df.mean(axis=0)"
   ]
  },
  {
   "cell_type": "code",
   "execution_count": 3,
   "metadata": {},
   "outputs": [],
   "source": [
    "us_swap_df_shifted = us_swap_df_demeaned.shift(1).dropna()"
   ]
  },
  {
   "cell_type": "markdown",
   "metadata": {},
   "source": [
    "## LASSO estimate of $A$"
   ]
  },
  {
   "cell_type": "code",
   "execution_count": 4,
   "metadata": {},
   "outputs": [
    {
     "name": "stdout",
     "output_type": "stream",
     "text": [
      "0.005566343201245493\n",
      "0.0001333368280870626\n"
     ]
    }
   ],
   "source": [
    "alpha_candidate = []\n",
    "for instr in us_swap_df_shifted.columns:\n",
    "    dep_var = us_swap_df_demeaned[instr].loc[us_swap_df_shifted.index]\n",
    "    endog_var = us_swap_df_shifted\n",
    "    alphas_lasso, coefs_lasso, _ = lasso_path(endog_var, dep_var, eps=1e-4)\n",
    "    non_zeros = np.count_nonzero(coefs_lasso, axis=0)\n",
    "    best_alpha = alphas_lasso[((non_zeros <= 6) & (non_zeros >= 4)).argmax().min()]\n",
    "    alpha_candidate.append(best_alpha)\n",
    "    \n",
    "print(np.array(alpha_candidate).max())\n",
    "print(np.array(alpha_candidate).min())"
   ]
  },
  {
   "cell_type": "code",
   "execution_count": 5,
   "metadata": {},
   "outputs": [],
   "source": [
    "alpha1 = np.array(alpha_candidate).max()\n",
    "alpha2 = np.array(alpha_candidate).min()"
   ]
  },
  {
   "cell_type": "code",
   "execution_count": 63,
   "metadata": {},
   "outputs": [
    {
     "name": "stdout",
     "output_type": "stream",
     "text": [
      "0.00016758780942343246\n"
     ]
    },
    {
     "data": {
      "text/plain": [
       "array([[ 9.49322503e-01,  8.74181802e-02, -0.00000000e+00,\n",
       "        -2.52104544e-02, -1.20459592e-02, -3.87917279e-03,\n",
       "        -0.00000000e+00, -0.00000000e+00],\n",
       "       [ 4.44063065e-02,  8.83379898e-01,  7.86708937e-02,\n",
       "         0.00000000e+00, -0.00000000e+00, -0.00000000e+00,\n",
       "        -0.00000000e+00, -1.01664690e-02],\n",
       "       [-5.33757473e-02,  3.49064602e-01,  4.36122970e-01,\n",
       "         1.99617259e-01,  7.19642544e-02,  0.00000000e+00,\n",
       "        -0.00000000e+00, -2.81803023e-03],\n",
       "       [-2.18709585e-02,  0.00000000e+00,  4.10986410e-01,\n",
       "         3.26984937e-01,  1.87319916e-01,  9.54720910e-02,\n",
       "         0.00000000e+00, -0.00000000e+00],\n",
       "       [-4.61488752e-03, -0.00000000e+00,  5.97363862e-03,\n",
       "         3.44543296e-01,  4.23081498e-01,  2.29765053e-01,\n",
       "         0.00000000e+00,  0.00000000e+00],\n",
       "       [-1.14881531e-02, -0.00000000e+00,  0.00000000e+00,\n",
       "         3.42718709e-03,  3.41652582e-01,  4.00938902e-01,\n",
       "         2.23306819e-01,  4.47676413e-02],\n",
       "       [-7.94200001e-03, -0.00000000e+00, -0.00000000e+00,\n",
       "        -0.00000000e+00,  0.00000000e+00,  2.71430655e-01,\n",
       "         5.90645100e-01,  1.50754604e-01],\n",
       "       [-7.73744934e-05, -3.37857178e-05, -0.00000000e+00,\n",
       "        -2.50924981e-03, -0.00000000e+00,  0.00000000e+00,\n",
       "         2.03234667e-02,  9.75914631e-01]])"
      ]
     },
     "execution_count": 63,
     "metadata": {},
     "output_type": "execute_result"
    }
   ],
   "source": [
    "for alpha_ in np.logspace(-3, -4.2, 100):\n",
    "    coef_list = []\n",
    "    for instr in us_swap_df_shifted.columns:\n",
    "        dep_var = us_swap_df_demeaned[instr].loc[us_swap_df_shifted.index]\n",
    "        endog_var = us_swap_df_shifted\n",
    "        lasso_model = Lasso(alpha=alpha_, fit_intercept=False, max_iter=10000)\n",
    "        coefs_lasso = lasso_model.fit(endog_var, dep_var).coef_\n",
    "        coef_list.append(coefs_lasso)\n",
    "        \n",
    "    Ahat = np.vstack(tuple(coef_list))\n",
    "    non_zeros = np.count_nonzero(Ahat)\n",
    "    \n",
    "    if non_zeros == 40:\n",
    "        print(alpha_)\n",
    "        break\n",
    "        \n",
    "Ahat"
   ]
  },
  {
   "cell_type": "markdown",
   "metadata": {},
   "source": [
    "## Graphical LASSO estimate of $\\Gamma$"
   ]
  },
  {
   "cell_type": "code",
   "execution_count": 9,
   "metadata": {},
   "outputs": [
    {
     "data": {
      "text/plain": [
       "(2087, 8)"
      ]
     },
     "execution_count": 9,
     "metadata": {},
     "output_type": "execute_result"
    }
   ],
   "source": [
    "us_swap_df_demeaned.shape"
   ]
  },
  {
   "cell_type": "code",
   "execution_count": 61,
   "metadata": {},
   "outputs": [
    {
     "data": {
      "text/plain": [
       "array([[ 0.34714071, -0.12157042, -0.09115941, -0.06954562, -0.04812054,\n",
       "        -0.        , -0.        , -0.        ],\n",
       "       [-0.12157042,  0.41121113, -0.05535139, -0.02797636, -0.        ,\n",
       "        -0.        , -0.        , -0.        ],\n",
       "       [-0.09115941, -0.05535139,  0.48251996, -0.        , -0.        ,\n",
       "        -0.        , -0.        , -0.        ],\n",
       "       [-0.06954562, -0.02797636, -0.        ,  0.55478407, -0.        ,\n",
       "        -0.        , -0.        , -0.        ],\n",
       "       [-0.04812054, -0.        , -0.        , -0.        ,  0.63485065,\n",
       "        -0.        , -0.        , -0.        ],\n",
       "       [-0.        , -0.        , -0.        , -0.        , -0.        ,\n",
       "         0.80801043, -0.        , -0.        ],\n",
       "       [-0.        , -0.        , -0.        , -0.        , -0.        ,\n",
       "        -0.        ,  1.0405434 , -0.        ],\n",
       "       [-0.        , -0.        , -0.        , -0.        , -0.        ,\n",
       "        -0.        , -0.        ,  1.74443359]])"
      ]
     },
     "execution_count": 61,
     "metadata": {},
     "output_type": "execute_result"
    }
   ],
   "source": [
    "edge_model = GraphicalLasso(alpha=2, max_iter=1000)\n",
    "\n",
    "edge_model.fit(us_swap_df_demeaned)\n",
    "edge_model.precision_"
   ]
  },
  {
   "cell_type": "code",
   "execution_count": 53,
   "metadata": {},
   "outputs": [],
   "source": [
    "gamma = np.linalg.inv(edge_model.precision_)"
   ]
  },
  {
   "cell_type": "code",
   "execution_count": 54,
   "metadata": {},
   "outputs": [
    {
     "data": {
      "text/plain": [
       "array([[3.67617536, 1.23496842, 0.8361834 , 0.52310766, 0.27864751,\n",
       "        0.        , 0.        , 0.        ],\n",
       "       [1.23496842, 2.89349014, 0.56523608, 0.30072232, 0.0936084 ,\n",
       "        0.        , 0.        , 0.        ],\n",
       "       [0.8361834 , 0.56523608, 2.29526791, 0.13332419, 0.0633812 ,\n",
       "        0.        , 0.        , 0.        ],\n",
       "       [0.52310766, 0.30072232, 0.13332419, 1.88324254, 0.03965062,\n",
       "        0.        , 0.        , 0.        ],\n",
       "       [0.27864751, 0.0936084 , 0.0633812 , 0.03965062, 1.59629462,\n",
       "        0.        , 0.        , 0.        ],\n",
       "       [0.        , 0.        , 0.        , 0.        , 0.        ,\n",
       "        1.23760779, 0.        , 0.        ],\n",
       "       [0.        , 0.        , 0.        , 0.        , 0.        ,\n",
       "        0.        , 0.96103632, 0.        ],\n",
       "       [0.        , 0.        , 0.        , 0.        , 0.        ,\n",
       "        0.        , 0.        , 0.57325197]])"
      ]
     },
     "execution_count": 54,
     "metadata": {},
     "output_type": "execute_result"
    }
   ],
   "source": [
    "gamma"
   ]
  },
  {
   "cell_type": "code",
   "execution_count": 55,
   "metadata": {},
   "outputs": [
    {
     "data": {
      "text/plain": [
       "array([[3.67616443, 1.23496486, 0.83618093, 0.52310611, 0.27864668,\n",
       "        0.        , 0.        , 0.        ],\n",
       "       [1.23496486, 2.89348782, 0.56523514, 0.30072176, 0.09360813,\n",
       "        0.        , 0.        , 0.        ],\n",
       "       [0.83618093, 0.56523514, 2.29526614, 0.13332383, 0.06338102,\n",
       "        0.        , 0.        , 0.        ],\n",
       "       [0.52310611, 0.30072176, 0.13332383, 1.88324165, 0.03965051,\n",
       "        0.        , 0.        , 0.        ],\n",
       "       [0.27864668, 0.09360813, 0.06338102, 0.03965051, 1.59629455,\n",
       "        0.        , 0.        , 0.        ],\n",
       "       [0.        , 0.        , 0.        , 0.        , 0.        ,\n",
       "        1.23760779, 0.        , 0.        ],\n",
       "       [0.        , 0.        , 0.        , 0.        , 0.        ,\n",
       "        0.        , 0.96103632, 0.        ],\n",
       "       [0.        , 0.        , 0.        , 0.        , 0.        ,\n",
       "        0.        , 0.        , 0.57325197]])"
      ]
     },
     "execution_count": 55,
     "metadata": {},
     "output_type": "execute_result"
    }
   ],
   "source": [
    "edge_model.covariance_"
   ]
  },
  {
   "cell_type": "code",
   "execution_count": 56,
   "metadata": {},
   "outputs": [
    {
     "data": {
      "text/html": [
       "<div>\n",
       "<style scoped>\n",
       "    .dataframe tbody tr th:only-of-type {\n",
       "        vertical-align: middle;\n",
       "    }\n",
       "\n",
       "    .dataframe tbody tr th {\n",
       "        vertical-align: top;\n",
       "    }\n",
       "\n",
       "    .dataframe thead th {\n",
       "        text-align: right;\n",
       "    }\n",
       "</style>\n",
       "<table border=\"1\" class=\"dataframe\">\n",
       "  <thead>\n",
       "    <tr style=\"text-align: right;\">\n",
       "      <th></th>\n",
       "      <th>0</th>\n",
       "      <th>1</th>\n",
       "      <th>2</th>\n",
       "      <th>3</th>\n",
       "      <th>4</th>\n",
       "      <th>5</th>\n",
       "      <th>6</th>\n",
       "      <th>7</th>\n",
       "    </tr>\n",
       "  </thead>\n",
       "  <tbody>\n",
       "    <tr>\n",
       "      <th>0</th>\n",
       "      <td>0.347141</td>\n",
       "      <td>-0.121570</td>\n",
       "      <td>-0.091159</td>\n",
       "      <td>-0.069546</td>\n",
       "      <td>-0.048121</td>\n",
       "      <td>-0.00000</td>\n",
       "      <td>-0.000000</td>\n",
       "      <td>-0.000000</td>\n",
       "    </tr>\n",
       "    <tr>\n",
       "      <th>1</th>\n",
       "      <td>-0.121570</td>\n",
       "      <td>0.411211</td>\n",
       "      <td>-0.055351</td>\n",
       "      <td>-0.027976</td>\n",
       "      <td>-0.000000</td>\n",
       "      <td>-0.00000</td>\n",
       "      <td>-0.000000</td>\n",
       "      <td>-0.000000</td>\n",
       "    </tr>\n",
       "    <tr>\n",
       "      <th>2</th>\n",
       "      <td>-0.091159</td>\n",
       "      <td>-0.055351</td>\n",
       "      <td>0.482520</td>\n",
       "      <td>-0.000000</td>\n",
       "      <td>-0.000000</td>\n",
       "      <td>-0.00000</td>\n",
       "      <td>-0.000000</td>\n",
       "      <td>-0.000000</td>\n",
       "    </tr>\n",
       "    <tr>\n",
       "      <th>3</th>\n",
       "      <td>-0.069546</td>\n",
       "      <td>-0.027976</td>\n",
       "      <td>-0.000000</td>\n",
       "      <td>0.554784</td>\n",
       "      <td>-0.000000</td>\n",
       "      <td>-0.00000</td>\n",
       "      <td>-0.000000</td>\n",
       "      <td>-0.000000</td>\n",
       "    </tr>\n",
       "    <tr>\n",
       "      <th>4</th>\n",
       "      <td>-0.048121</td>\n",
       "      <td>-0.000000</td>\n",
       "      <td>-0.000000</td>\n",
       "      <td>-0.000000</td>\n",
       "      <td>0.634851</td>\n",
       "      <td>-0.00000</td>\n",
       "      <td>-0.000000</td>\n",
       "      <td>-0.000000</td>\n",
       "    </tr>\n",
       "    <tr>\n",
       "      <th>5</th>\n",
       "      <td>-0.000000</td>\n",
       "      <td>-0.000000</td>\n",
       "      <td>-0.000000</td>\n",
       "      <td>-0.000000</td>\n",
       "      <td>-0.000000</td>\n",
       "      <td>0.80801</td>\n",
       "      <td>-0.000000</td>\n",
       "      <td>-0.000000</td>\n",
       "    </tr>\n",
       "    <tr>\n",
       "      <th>6</th>\n",
       "      <td>-0.000000</td>\n",
       "      <td>-0.000000</td>\n",
       "      <td>-0.000000</td>\n",
       "      <td>-0.000000</td>\n",
       "      <td>-0.000000</td>\n",
       "      <td>-0.00000</td>\n",
       "      <td>1.040543</td>\n",
       "      <td>-0.000000</td>\n",
       "    </tr>\n",
       "    <tr>\n",
       "      <th>7</th>\n",
       "      <td>-0.000000</td>\n",
       "      <td>-0.000000</td>\n",
       "      <td>-0.000000</td>\n",
       "      <td>-0.000000</td>\n",
       "      <td>-0.000000</td>\n",
       "      <td>-0.00000</td>\n",
       "      <td>-0.000000</td>\n",
       "      <td>1.744434</td>\n",
       "    </tr>\n",
       "  </tbody>\n",
       "</table>\n",
       "</div>"
      ],
      "text/plain": [
       "          0         1         2         3         4        5         6  \\\n",
       "0  0.347141 -0.121570 -0.091159 -0.069546 -0.048121 -0.00000 -0.000000   \n",
       "1 -0.121570  0.411211 -0.055351 -0.027976 -0.000000 -0.00000 -0.000000   \n",
       "2 -0.091159 -0.055351  0.482520 -0.000000 -0.000000 -0.00000 -0.000000   \n",
       "3 -0.069546 -0.027976 -0.000000  0.554784 -0.000000 -0.00000 -0.000000   \n",
       "4 -0.048121 -0.000000 -0.000000 -0.000000  0.634851 -0.00000 -0.000000   \n",
       "5 -0.000000 -0.000000 -0.000000 -0.000000 -0.000000  0.80801 -0.000000   \n",
       "6 -0.000000 -0.000000 -0.000000 -0.000000 -0.000000 -0.00000  1.040543   \n",
       "7 -0.000000 -0.000000 -0.000000 -0.000000 -0.000000 -0.00000 -0.000000   \n",
       "\n",
       "          7  \n",
       "0 -0.000000  \n",
       "1 -0.000000  \n",
       "2 -0.000000  \n",
       "3 -0.000000  \n",
       "4 -0.000000  \n",
       "5 -0.000000  \n",
       "6 -0.000000  \n",
       "7  1.744434  "
      ]
     },
     "execution_count": 56,
     "metadata": {},
     "output_type": "execute_result"
    }
   ],
   "source": [
    "pd.DataFrame(edge_model.precision_)"
   ]
  },
  {
   "cell_type": "code",
   "execution_count": 57,
   "metadata": {},
   "outputs": [],
   "source": [
    "graph = nx.from_numpy_array(edge_model.precision_)"
   ]
  },
  {
   "cell_type": "code",
   "execution_count": 58,
   "metadata": {},
   "outputs": [
    {
     "data": {
      "image/png": "[encoded data removed]",
      "text/plain": [
       "<Figure size 432x288 with 1 Axes>"
      ]
     },
     "metadata": {},
     "output_type": "display_data"
    }
   ],
   "source": [
    "nx.draw(graph)"
   ]
  },
  {
   "cell_type": "markdown",
   "metadata": {},
   "source": [
    "## Greedy algorithm"
   ]
  },
  {
   "cell_type": "code",
   "execution_count": 66,
   "metadata": {},
   "outputs": [],
   "source": [
    "A = Ahat.T @ gamma @ Ahat\n",
    "B = gamma"
   ]
  },
  {
   "cell_type": "code",
   "execution_count": 95,
   "metadata": {},
   "outputs": [],
   "source": [
    "test_eigh = scipy.linalg.eigh(A, B)"
   ]
  },
  {
   "cell_type": "code",
   "execution_count": 97,
   "metadata": {},
   "outputs": [
    {
     "data": {
      "text/plain": [
       "(array([5.99497892e-04, 2.74749504e-02, 1.93520485e-01, 4.27011603e-01,\n",
       "        7.03683532e-01, 9.16725815e-01, 1.07616882e+00, 1.14056309e+00]),\n",
       " array([[-2.81410005e-04,  3.68076639e-03,  2.78559348e-02,\n",
       "         -8.03306303e-02,  2.81318561e-01, -4.94418881e-01,\n",
       "         -9.03803687e-02, -9.02183340e-02],\n",
       "        [-9.84324306e-03,  4.06351983e-02, -1.47712596e-01,\n",
       "          1.95982025e-01, -2.94145530e-01,  1.22507523e-01,\n",
       "          3.67883249e-02, -4.96338584e-01],\n",
       "        [ 5.25611798e-02, -3.18919842e-01,  4.72304396e-01,\n",
       "         -2.72416227e-01,  6.37301624e-04,  2.56480341e-01,\n",
       "          7.70383957e-02, -9.51203913e-02],\n",
       "        [-2.25229190e-01,  5.49301145e-01,  4.75669569e-02,\n",
       "         -3.06592369e-01,  1.45902203e-01,  2.69268644e-01,\n",
       "          1.02572588e-01, -4.18144015e-02],\n",
       "        [ 5.10309674e-01, -8.72902980e-02, -3.84913339e-01,\n",
       "         -1.51303410e-01,  3.09908915e-01,  2.57547376e-01,\n",
       "          1.68772258e-01, -7.00415895e-02],\n",
       "        [-5.83250858e-01, -3.54736872e-01, -2.06121916e-01,\n",
       "          1.90026210e-01,  4.14890478e-01,  1.58705972e-01,\n",
       "          2.47483077e-01, -6.94610809e-02],\n",
       "        [ 2.70279132e-01,  2.77580485e-01,  4.67045041e-01,\n",
       "          6.77377456e-01,  3.26109445e-01,  4.67158912e-02,\n",
       "          3.23726753e-01, -1.19006208e-02],\n",
       "        [-6.34316277e-03, -1.10032822e-02, -6.90377809e-02,\n",
       "         -2.51322254e-01, -4.21996366e-01, -4.37280890e-01,\n",
       "          1.13380694e+00,  1.46729327e-01]]))"
      ]
     },
     "execution_count": 97,
     "metadata": {},
     "output_type": "execute_result"
    }
   ],
   "source": [
    "test_eigh"
   ]
  },
  {
   "cell_type": "code",
   "execution_count": 96,
   "metadata": {},
   "outputs": [
    {
     "data": {
      "text/plain": [
       "array([-0.00634316, -0.01100328, -0.06903778, -0.25132225, -0.42199637,\n",
       "       -0.43728089,  1.13380694,  0.14672933])"
      ]
     },
     "execution_count": 96,
     "metadata": {},
     "output_type": "execute_result"
    }
   ],
   "source": [
    "test_eigh[1][-1, :]"
   ]
  },
  {
   "cell_type": "code",
   "execution_count": 123,
   "metadata": {},
   "outputs": [
    {
     "name": "stdout",
     "output_type": "stream",
     "text": [
      "[]\n",
      "[[3.31868863]]\n",
      "[[3.67617536]]\n",
      "[[0.87927083]]\n",
      "[[2.29526791]]\n",
      "[[0.39721995]]\n",
      "[[0.96103632]]\n",
      "[[3.15608391]]\n",
      "[[2.89349014]]\n",
      "[[0.37209976]]\n",
      "[[1.23760779]]\n",
      "[[0.51578408]]\n",
      "[[1.59629462]]\n",
      "[[0.57064199]]\n",
      "[[0.57325197]]\n",
      "[[0.49784105]]\n",
      "[[1.88324254]]\n",
      "[1]\n",
      "[[ 3.15608391e+00 -3.93619405e-07]\n",
      " [-3.93619405e-07  3.97219949e-01]]\n",
      "[[2.89349014 0.        ]\n",
      " [0.         0.96103632]]\n",
      "[[3.15608391 1.66314723]\n",
      " [1.66314723 3.31868863]]\n",
      "[[2.89349014 1.23496842]\n",
      " [1.23496842 3.67617536]]\n",
      "[[ 3.15608391 -0.03297924]\n",
      " [-0.03297924  0.57064199]]\n",
      "[[2.89349014 0.        ]\n",
      " [0.         0.57325197]]\n",
      "[[3.15608391 0.20001935]\n",
      " [0.20001935 0.51578408]]\n",
      "[[2.89349014 0.0936084 ]\n",
      " [0.0936084  1.59629462]]\n",
      "[[3.15608391 0.39277408]\n",
      " [0.39277408 0.49784105]]\n",
      "[[2.89349014 0.30072232]\n",
      " [0.30072232 1.88324254]]\n",
      "[[3.15608391 0.97203798]\n",
      " [0.97203798 0.87927083]]\n",
      "[[2.89349014 0.56523608]\n",
      " [0.56523608 2.29526791]]\n",
      "[[3.15608391 0.05724035]\n",
      " [0.05724035 0.37209976]]\n",
      "[[2.89349014 0.        ]\n",
      " [0.         1.23760779]]\n",
      "[1, 0]\n",
      "[[3.15608391 1.66314723 0.39277408]\n",
      " [1.66314723 3.31868863 0.28986805]\n",
      " [0.39277408 0.28986805 0.49784105]]\n",
      "[[2.89349014 1.23496842 0.30072232]\n",
      " [1.23496842 3.67617536 0.52310766]\n",
      " [0.30072232 0.52310766 1.88324254]]\n",
      "[[3.15608391 1.66314723 0.05724035]\n",
      " [1.66314723 3.31868863 0.08182154]\n",
      " [0.05724035 0.08182154 0.37209976]]\n",
      "[[2.89349014 1.23496842 0.        ]\n",
      " [1.23496842 3.67617536 0.        ]\n",
      " [0.         0.         1.23760779]]\n",
      "[[3.15608391 1.66314723 0.20001935]\n",
      " [1.66314723 3.31868863 0.19822002]\n",
      " [0.20001935 0.19822002 0.51578408]]\n",
      "[[2.89349014 1.23496842 0.0936084 ]\n",
      " [1.23496842 3.67617536 0.27864751]\n",
      " [0.0936084  0.27864751 1.59629462]]\n",
      "[[ 3.15608391e+00  1.66314723e+00 -3.93619405e-07]\n",
      " [ 1.66314723e+00  3.31868863e+00 -7.68396788e-03]\n",
      " [-3.93619405e-07 -7.68396788e-03  3.97219949e-01]]\n",
      "[[2.89349014 1.23496842 0.        ]\n",
      " [1.23496842 3.67617536 0.        ]\n",
      " [0.         0.         0.96103632]]\n",
      "[[ 3.15608391  1.66314723 -0.03297924]\n",
      " [ 1.66314723  3.31868863 -0.01663115]\n",
      " [-0.03297924 -0.01663115  0.57064199]]\n",
      "[[2.89349014 1.23496842 0.        ]\n",
      " [1.23496842 3.67617536 0.        ]\n",
      " [0.         0.         0.57325197]]\n",
      "[[3.15608391 1.66314723 0.97203798]\n",
      " [1.66314723 3.31868863 0.59292214]\n",
      " [0.97203798 0.59292214 0.87927083]]\n",
      "[[2.89349014 1.23496842 0.56523608]\n",
      " [1.23496842 3.67617536 0.8361834 ]\n",
      " [0.56523608 0.8361834  2.29526791]]\n",
      "[1, 0, 2]\n",
      "[[3.15608391 1.66314723 0.97203798 0.05724035]\n",
      " [1.66314723 3.31868863 0.59292214 0.08182154]\n",
      " [0.97203798 0.59292214 0.87927083 0.09307319]\n",
      " [0.05724035 0.08182154 0.09307319 0.37209976]]\n",
      "[[2.89349014 1.23496842 0.56523608 0.        ]\n",
      " [1.23496842 3.67617536 0.8361834  0.        ]\n",
      " [0.56523608 0.8361834  2.29526791 0.        ]\n",
      " [0.         0.         0.         1.23760779]]\n",
      "[[ 3.15608391  1.66314723  0.97203798 -0.03297924]\n",
      " [ 1.66314723  3.31868863  0.59292214 -0.01663115]\n",
      " [ 0.97203798  0.59292214  0.87927083 -0.00918427]\n",
      " [-0.03297924 -0.01663115 -0.00918427  0.57064199]]\n",
      "[[2.89349014 1.23496842 0.56523608 0.        ]\n",
      " [1.23496842 3.67617536 0.8361834  0.        ]\n",
      " [0.56523608 0.8361834  2.29526791 0.        ]\n",
      " [0.         0.         0.         0.57325197]]\n",
      "[[ 3.15608391e+00  1.66314723e+00  9.72037975e-01 -3.93619405e-07]\n",
      " [ 1.66314723e+00  3.31868863e+00  5.92922140e-01 -7.68396788e-03]\n",
      " [ 9.72037975e-01  5.92922140e-01  8.79270828e-01  0.00000000e+00]\n",
      " [-3.93619405e-07 -7.68396788e-03  0.00000000e+00  3.97219949e-01]]\n",
      "[[2.89349014 1.23496842 0.56523608 0.        ]\n",
      " [1.23496842 3.67617536 0.8361834  0.        ]\n",
      " [0.56523608 0.8361834  2.29526791 0.        ]\n",
      " [0.         0.         0.         0.96103632]]\n",
      "[[3.15608391 1.66314723 0.97203798 0.20001935]\n",
      " [1.66314723 3.31868863 0.59292214 0.19822002]\n",
      " [0.97203798 0.59292214 0.87927083 0.2571255 ]\n",
      " [0.20001935 0.19822002 0.2571255  0.51578408]]\n",
      "[[2.89349014 1.23496842 0.56523608 0.0936084 ]\n",
      " [1.23496842 3.67617536 0.8361834  0.27864751]\n",
      " [0.56523608 0.8361834  2.29526791 0.0633812 ]\n",
      " [0.0936084  0.27864751 0.0633812  1.59629462]]\n",
      "[[3.15608391 1.66314723 0.97203798 0.39277408]\n",
      " [1.66314723 3.31868863 0.59292214 0.28986805]\n",
      " [0.97203798 0.59292214 0.87927083 0.5034751 ]\n",
      " [0.39277408 0.28986805 0.5034751  0.49784105]]\n",
      "[[2.89349014 1.23496842 0.56523608 0.30072232]\n",
      " [1.23496842 3.67617536 0.8361834  0.52310766]\n",
      " [0.56523608 0.8361834  2.29526791 0.13332419]\n",
      " [0.30072232 0.52310766 0.13332419 1.88324254]]\n",
      "[1, 0, 2, 4]\n",
      "[[3.15608391 1.66314723 0.97203798 0.20001935 0.05724035]\n",
      " [1.66314723 3.31868863 0.59292214 0.19822002 0.08182154]\n",
      " [0.97203798 0.59292214 0.87927083 0.2571255  0.09307319]\n",
      " [0.20001935 0.19822002 0.2571255  0.51578408 0.36138433]\n",
      " [0.05724035 0.08182154 0.09307319 0.36138433 0.37209976]]\n",
      "[[2.89349014 1.23496842 0.56523608 0.0936084  0.        ]\n",
      " [1.23496842 3.67617536 0.8361834  0.27864751 0.        ]\n",
      " [0.56523608 0.8361834  2.29526791 0.0633812  0.        ]\n",
      " [0.0936084  0.27864751 0.0633812  1.59629462 0.        ]\n",
      " [0.         0.         0.         0.         1.23760779]]\n",
      "[[ 3.15608391e+00  1.66314723e+00  9.72037975e-01  2.00019354e-01\n",
      "  -3.93619405e-07]\n",
      " [ 1.66314723e+00  3.31868863e+00  5.92922140e-01  1.98220018e-01\n",
      "  -7.68396788e-03]\n",
      " [ 9.72037975e-01  5.92922140e-01  8.79270828e-01  2.57125504e-01\n",
      "   0.00000000e+00]\n",
      " [ 2.00019354e-01  1.98220018e-01  2.57125504e-01  5.15784080e-01\n",
      "   9.44212462e-02]\n",
      " [-3.93619405e-07 -7.68396788e-03  0.00000000e+00  9.44212462e-02\n",
      "   3.97219949e-01]]\n",
      "[[2.89349014 1.23496842 0.56523608 0.0936084  0.        ]\n",
      " [1.23496842 3.67617536 0.8361834  0.27864751 0.        ]\n",
      " [0.56523608 0.8361834  2.29526791 0.0633812  0.        ]\n",
      " [0.0936084  0.27864751 0.0633812  1.59629462 0.        ]\n",
      " [0.         0.         0.         0.         0.96103632]]\n",
      "[[3.15608391 1.66314723 0.97203798 0.20001935 0.39277408]\n",
      " [1.66314723 3.31868863 0.59292214 0.19822002 0.28986805]\n",
      " [0.97203798 0.59292214 0.87927083 0.2571255  0.5034751 ]\n",
      " [0.20001935 0.19822002 0.2571255  0.51578408 0.39448377]\n",
      " [0.39277408 0.28986805 0.5034751  0.39448377 0.49784105]]\n",
      "[[2.89349014 1.23496842 0.56523608 0.0936084  0.30072232]\n",
      " [1.23496842 3.67617536 0.8361834  0.27864751 0.52310766]\n",
      " [0.56523608 0.8361834  2.29526791 0.0633812  0.13332419]\n",
      " [0.0936084  0.27864751 0.0633812  1.59629462 0.03965062]\n",
      " [0.30072232 0.52310766 0.13332419 0.03965062 1.88324254]]\n",
      "[[ 3.15608391  1.66314723  0.97203798  0.20001935 -0.03297924]\n",
      " [ 1.66314723  3.31868863  0.59292214  0.19822002 -0.01663115]\n",
      " [ 0.97203798  0.59292214  0.87927083  0.2571255  -0.00918427]\n",
      " [ 0.20001935  0.19822002  0.2571255   0.51578408  0.01710853]\n",
      " [-0.03297924 -0.01663115 -0.00918427  0.01710853  0.57064199]]\n",
      "[[2.89349014 1.23496842 0.56523608 0.0936084  0.        ]\n",
      " [1.23496842 3.67617536 0.8361834  0.27864751 0.        ]\n",
      " [0.56523608 0.8361834  2.29526791 0.0633812  0.        ]\n",
      " [0.0936084  0.27864751 0.0633812  1.59629462 0.        ]\n",
      " [0.         0.         0.         0.         0.57325197]]\n",
      "[1, 0, 2, 4, 3]\n"
     ]
    }
   ],
   "source": [
    "col_row_list = []\n",
    "candidate_list = set(range(A.shape[0]))\n",
    "designated_k = 5\n",
    "for num in range(designated_k):\n",
    "    # num is the length of support we're considering\n",
    "    print(col_row_list)\n",
    "    max_gen_eig_ratio = np.NINF\n",
    "    seq = list(candidate_list)\n",
    "    shuffle(seq)\n",
    "    for support in seq:\n",
    "        cand = col_row_list + [support]\n",
    "        left_matrix = A[cand, :][:, cand]\n",
    "        print(left_matrix)\n",
    "        right_matrix = B[cand, :][:, cand]\n",
    "        print(right_matrix)\n",
    "        if len(cand) == 1:\n",
    "            left_matrix = left_matrix.reshape(-1, 1)\n",
    "            right_matrix = right_matrix.reshape(-1, 1)\n",
    "\n",
    "        eigval, eigvec = scipy.linalg.eigh(left_matrix, right_matrix)\n",
    "        \n",
    "        x = np.zeros((A.shape[0], ))\n",
    "        x[cand] = eigvec[-1, :]\n",
    "        x = x.reshape(-1, 1)\n",
    "        \n",
    "        gen_eig_ratio = np.squeeze((x.T @ A @ x) / (x.T @ B @ x))\n",
    "        if gen_eig_ratio > max_gen_eig_ratio:\n",
    "            max_gen_eig_ratio = gen_eig_ratio\n",
    "            cur_support = support\n",
    "    col_row_list.append(cur_support)\n",
    "    candidate_list.remove(cur_support)\n",
    "        \n",
    "print(col_row_list)"
   ]
  },
  {
   "cell_type": "markdown",
   "metadata": {},
   "source": [
    "## SDP"
   ]
  },
  {
   "cell_type": "code",
   "execution_count": 146,
   "metadata": {},
   "outputs": [],
   "source": [
    "X_dim = B.shape[0]\n",
    "X = cp.Variable((X_dim, X_dim), symmetric=True)"
   ]
  },
  {
   "cell_type": "code",
   "execution_count": 147,
   "metadata": {},
   "outputs": [],
   "source": [
    "card = 5\n",
    "\n",
    "constraints = [\n",
    "    cp.sum(cp.abs(X)) <= card * cp.trace(X),\n",
    "    cp.trace(B @ X) == 1,\n",
    "    X >> 0\n",
    "]"
   ]
  },
  {
   "cell_type": "code",
   "execution_count": 148,
   "metadata": {},
   "outputs": [
    {
     "data": {
      "text/plain": [
       "1.140572606595976"
      ]
     },
     "execution_count": 148,
     "metadata": {},
     "output_type": "execute_result"
    }
   ],
   "source": [
    "prob = cp.Problem(cp.Maximize(cp.trace(A @ X)), constraints)\n",
    "prob.solve()"
   ]
  },
  {
   "cell_type": "code",
   "execution_count": 155,
   "metadata": {},
   "outputs": [
    {
     "name": "stdout",
     "output_type": "stream",
     "text": [
      "var162 [[ 8.13821251e-03  4.47858188e-02  8.58232323e-03  3.77384707e-03\n",
      "   6.31922940e-03  6.26736238e-03  1.07344761e-03 -1.32211788e-02]\n",
      " [ 4.47858188e-02  2.46364985e-01  4.72117723e-02  2.07512376e-02\n",
      "   3.47627466e-02  3.44768061e-02  5.90898493e-03 -7.27277969e-02]\n",
      " [ 8.58232323e-03  4.72117723e-02  9.04550957e-03  3.97636739e-03\n",
      "   6.66125508e-03  6.60691443e-03  1.13187130e-03 -1.39377060e-02]\n",
      " [ 3.77384707e-03  2.07512376e-02  3.97636739e-03  1.74747947e-03\n",
      "   2.92887577e-03  2.90333752e-03  4.97745494e-04 -6.12510956e-03]\n",
      " [ 6.31922940e-03  3.47627466e-02  6.66125508e-03  2.92887577e-03\n",
      "   4.90250411e-03  4.86389867e-03  8.33316070e-04 -1.02622396e-02]\n",
      " [ 6.26736238e-03  3.44768061e-02  6.60691443e-03  2.90333752e-03\n",
      "   4.86389867e-03  4.82241174e-03  8.26720586e-04 -1.01763719e-02]\n",
      " [ 1.07344761e-03  5.90898493e-03  1.13187130e-03  4.97745494e-04\n",
      "   8.33316070e-04  8.26720586e-04  1.39844051e-04 -1.74642144e-03]\n",
      " [-1.32211788e-02 -7.27277969e-02 -1.39377060e-02 -6.12510956e-03\n",
      "  -1.02622396e-02 -1.01763719e-02 -1.74642144e-03  2.14669753e-02]]\n"
     ]
    }
   ],
   "source": [
    "for variable in prob.variables():\n",
    "    print(variable.name(), variable.value)"
   ]
  },
  {
   "cell_type": "code",
   "execution_count": 137,
   "metadata": {},
   "outputs": [
    {
     "data": {
      "text/plain": [
       "array([[ 3.31868863e+00,  1.66314723e+00,  5.92922140e-01,\n",
       "         2.89868046e-01,  1.98220018e-01,  8.18215398e-02,\n",
       "        -7.68396788e-03, -1.66311527e-02],\n",
       "       [ 1.66314723e+00,  3.15608391e+00,  9.72037975e-01,\n",
       "         3.92774079e-01,  2.00019354e-01,  5.72403527e-02,\n",
       "        -3.93619405e-07, -3.29792393e-02],\n",
       "       [ 5.92922140e-01,  9.72037975e-01,  8.79270828e-01,\n",
       "         5.03475100e-01,  2.57125504e-01,  9.30731871e-02,\n",
       "         0.00000000e+00, -9.18426906e-03],\n",
       "       [ 2.89868046e-01,  3.92774079e-01,  5.03475100e-01,\n",
       "         4.97841053e-01,  3.94483770e-01,  1.92394631e-01,\n",
       "         9.17924945e-04, -4.78818511e-03],\n",
       "       [ 1.98220018e-01,  2.00019354e-01,  2.57125504e-01,\n",
       "         3.94483770e-01,  5.15784080e-01,  3.61384326e-01,\n",
       "         9.44212462e-02,  1.71085304e-02],\n",
       "       [ 8.18215398e-02,  5.72403527e-02,  9.30731871e-02,\n",
       "         1.92394631e-01,  3.61384326e-01,  3.72099756e-01,\n",
       "         2.64878546e-01,  6.10093736e-02],\n",
       "       [-7.68396788e-03, -3.93619405e-07,  0.00000000e+00,\n",
       "         9.17924945e-04,  9.44212462e-02,  2.64878546e-01,\n",
       "         3.97219949e-01,  1.09315173e-01],\n",
       "       [-1.66311527e-02, -3.29792393e-02, -9.18426906e-03,\n",
       "        -4.78818511e-03,  1.71085304e-02,  6.10093736e-02,\n",
       "         1.09315173e-01,  5.70641994e-01]])"
      ]
     },
     "execution_count": 137,
     "metadata": {},
     "output_type": "execute_result"
    }
   ],
   "source": [
    "A"
   ]
  },
  {
   "cell_type": "code",
   "execution_count": null,
   "metadata": {},
   "outputs": [],
   "source": [
    "var_model = sm.tsa.VAR(us_swap_df)\n",
    "result = var_model.fit(1)\n",
    "Ahat = result.params.iloc[1:]\n",
    "B = us_swap_df.cov()\n",
    "Ahat.index = B.index"
   ]
  },
  {
   "cell_type": "code",
   "execution_count": 27,
   "metadata": {},
   "outputs": [
    {
     "data": {
      "text/html": [
       "<div>\n",
       "<style scoped>\n",
       "    .dataframe tbody tr th:only-of-type {\n",
       "        vertical-align: middle;\n",
       "    }\n",
       "\n",
       "    .dataframe tbody tr th {\n",
       "        vertical-align: top;\n",
       "    }\n",
       "\n",
       "    .dataframe thead th {\n",
       "        text-align: right;\n",
       "    }\n",
       "</style>\n",
       "<table border=\"1\" class=\"dataframe\">\n",
       "  <thead>\n",
       "    <tr style=\"text-align: right;\">\n",
       "      <th></th>\n",
       "      <th>1Y Swap</th>\n",
       "      <th>2Y Swap</th>\n",
       "      <th>3Y Swap</th>\n",
       "      <th>4Y Swap</th>\n",
       "      <th>5Y Swap</th>\n",
       "      <th>7Y Swap</th>\n",
       "      <th>10Y Swap</th>\n",
       "      <th>30Y Swap</th>\n",
       "    </tr>\n",
       "    <tr>\n",
       "      <th>Date</th>\n",
       "      <th></th>\n",
       "      <th></th>\n",
       "      <th></th>\n",
       "      <th></th>\n",
       "      <th></th>\n",
       "      <th></th>\n",
       "      <th></th>\n",
       "      <th></th>\n",
       "    </tr>\n",
       "  </thead>\n",
       "  <tbody>\n",
       "    <tr>\n",
       "      <th>1998-01-01</th>\n",
       "      <td>1.963198</td>\n",
       "      <td>1.660336</td>\n",
       "      <td>1.42107</td>\n",
       "      <td>1.228907</td>\n",
       "      <td>1.091777</td>\n",
       "      <td>0.874293</td>\n",
       "      <td>0.674603</td>\n",
       "      <td>0.371429</td>\n",
       "    </tr>\n",
       "    <tr>\n",
       "      <th>1998-01-02</th>\n",
       "      <td>1.943198</td>\n",
       "      <td>1.595336</td>\n",
       "      <td>1.35107</td>\n",
       "      <td>1.143907</td>\n",
       "      <td>0.991777</td>\n",
       "      <td>0.774293</td>\n",
       "      <td>0.579603</td>\n",
       "      <td>0.291429</td>\n",
       "    </tr>\n",
       "    <tr>\n",
       "      <th>1998-01-05</th>\n",
       "      <td>1.928198</td>\n",
       "      <td>1.585336</td>\n",
       "      <td>1.24607</td>\n",
       "      <td>1.133907</td>\n",
       "      <td>0.976777</td>\n",
       "      <td>0.759293</td>\n",
       "      <td>0.464603</td>\n",
       "      <td>0.191429</td>\n",
       "    </tr>\n",
       "    <tr>\n",
       "      <th>1998-01-06</th>\n",
       "      <td>1.838198</td>\n",
       "      <td>1.410336</td>\n",
       "      <td>1.14607</td>\n",
       "      <td>0.953907</td>\n",
       "      <td>0.801777</td>\n",
       "      <td>0.589293</td>\n",
       "      <td>0.414603</td>\n",
       "      <td>0.171429</td>\n",
       "    </tr>\n",
       "    <tr>\n",
       "      <th>1998-01-07</th>\n",
       "      <td>1.773198</td>\n",
       "      <td>1.450336</td>\n",
       "      <td>1.19107</td>\n",
       "      <td>0.998907</td>\n",
       "      <td>0.841777</td>\n",
       "      <td>0.644293</td>\n",
       "      <td>0.464603</td>\n",
       "      <td>0.231429</td>\n",
       "    </tr>\n",
       "    <tr>\n",
       "      <th>...</th>\n",
       "      <td>...</td>\n",
       "      <td>...</td>\n",
       "      <td>...</td>\n",
       "      <td>...</td>\n",
       "      <td>...</td>\n",
       "      <td>...</td>\n",
       "      <td>...</td>\n",
       "      <td>...</td>\n",
       "    </tr>\n",
       "    <tr>\n",
       "      <th>2005-12-26</th>\n",
       "      <td>0.875198</td>\n",
       "      <td>0.476336</td>\n",
       "      <td>0.17707</td>\n",
       "      <td>-0.029093</td>\n",
       "      <td>-0.190223</td>\n",
       "      <td>-0.417707</td>\n",
       "      <td>-0.615397</td>\n",
       "      <td>-0.870571</td>\n",
       "    </tr>\n",
       "    <tr>\n",
       "      <th>2005-12-27</th>\n",
       "      <td>0.858198</td>\n",
       "      <td>0.457836</td>\n",
       "      <td>0.14207</td>\n",
       "      <td>-0.059093</td>\n",
       "      <td>-0.215223</td>\n",
       "      <td>-0.455207</td>\n",
       "      <td>-0.657897</td>\n",
       "      <td>-0.913071</td>\n",
       "    </tr>\n",
       "    <tr>\n",
       "      <th>2005-12-28</th>\n",
       "      <td>0.866698</td>\n",
       "      <td>0.471836</td>\n",
       "      <td>0.17107</td>\n",
       "      <td>-0.032593</td>\n",
       "      <td>-0.187723</td>\n",
       "      <td>-0.423207</td>\n",
       "      <td>-0.622897</td>\n",
       "      <td>-0.887071</td>\n",
       "    </tr>\n",
       "    <tr>\n",
       "      <th>2005-12-29</th>\n",
       "      <td>0.884198</td>\n",
       "      <td>0.485836</td>\n",
       "      <td>0.18907</td>\n",
       "      <td>-0.020093</td>\n",
       "      <td>-0.185723</td>\n",
       "      <td>-0.423207</td>\n",
       "      <td>-0.629897</td>\n",
       "      <td>-0.896071</td>\n",
       "    </tr>\n",
       "    <tr>\n",
       "      <th>2005-12-30</th>\n",
       "      <td>0.895198</td>\n",
       "      <td>0.517336</td>\n",
       "      <td>0.20607</td>\n",
       "      <td>0.000907</td>\n",
       "      <td>-0.156223</td>\n",
       "      <td>-0.399707</td>\n",
       "      <td>-0.596397</td>\n",
       "      <td>-0.877571</td>\n",
       "    </tr>\n",
       "  </tbody>\n",
       "</table>\n",
       "<p>2087 rows × 8 columns</p>\n",
       "</div>"
      ],
      "text/plain": [
       "             1Y Swap   2Y Swap  3Y Swap   4Y Swap   5Y Swap   7Y Swap  \\\n",
       "Date                                                                    \n",
       "1998-01-01  1.963198  1.660336  1.42107  1.228907  1.091777  0.874293   \n",
       "1998-01-02  1.943198  1.595336  1.35107  1.143907  0.991777  0.774293   \n",
       "1998-01-05  1.928198  1.585336  1.24607  1.133907  0.976777  0.759293   \n",
       "1998-01-06  1.838198  1.410336  1.14607  0.953907  0.801777  0.589293   \n",
       "1998-01-07  1.773198  1.450336  1.19107  0.998907  0.841777  0.644293   \n",
       "...              ...       ...      ...       ...       ...       ...   \n",
       "2005-12-26  0.875198  0.476336  0.17707 -0.029093 -0.190223 -0.417707   \n",
       "2005-12-27  0.858198  0.457836  0.14207 -0.059093 -0.215223 -0.455207   \n",
       "2005-12-28  0.866698  0.471836  0.17107 -0.032593 -0.187723 -0.423207   \n",
       "2005-12-29  0.884198  0.485836  0.18907 -0.020093 -0.185723 -0.423207   \n",
       "2005-12-30  0.895198  0.517336  0.20607  0.000907 -0.156223 -0.399707   \n",
       "\n",
       "            10Y Swap  30Y Swap  \n",
       "Date                            \n",
       "1998-01-01  0.674603  0.371429  \n",
       "1998-01-02  0.579603  0.291429  \n",
       "1998-01-05  0.464603  0.191429  \n",
       "1998-01-06  0.414603  0.171429  \n",
       "1998-01-07  0.464603  0.231429  \n",
       "...              ...       ...  \n",
       "2005-12-26 -0.615397 -0.870571  \n",
       "2005-12-27 -0.657897 -0.913071  \n",
       "2005-12-28 -0.622897 -0.887071  \n",
       "2005-12-29 -0.629897 -0.896071  \n",
       "2005-12-30 -0.596397 -0.877571  \n",
       "\n",
       "[2087 rows x 8 columns]"
      ]
     },
     "execution_count": 27,
     "metadata": {},
     "output_type": "execute_result"
    }
   ],
   "source": [
    "us_swap_df_demeaned"
   ]
  },
  {
   "cell_type": "code",
   "execution_count": 4,
   "metadata": {},
   "outputs": [],
   "source": [
    "box_tiao_term1 = np.dot(us_swap_df.T, us_swap_df)\n",
    "box_tiao_term1 = scipy.linalg.sqrtm(np.linalg.inv(box_tiao_term1))\n",
    "box_tiao_term2 = np.dot(result.fittedvalues.T, result.fittedvalues)\n",
    "\n",
    "box_tiao_matrix = box_tiao_term1 @ box_tiao_term2 @ box_tiao_term1"
   ]
  },
  {
   "cell_type": "code",
   "execution_count": 5,
   "metadata": {},
   "outputs": [
    {
     "data": {
      "text/plain": [
       "array([[ 9.12908348e-01,  1.46245761e-01, -3.90262619e-02,\n",
       "        -1.58600795e-02, -6.47913327e-03,  1.58558119e-02,\n",
       "        -8.99182247e-03, -3.76505288e-03],\n",
       "       [ 1.46245761e-01,  6.38323245e-01,  2.76912394e-01,\n",
       "         2.62245947e-03, -3.58993490e-02, -8.46512093e-02,\n",
       "         3.99304824e-02,  1.22201421e-02],\n",
       "       [-3.90262619e-02,  2.76912394e-01,  4.06541916e-01,\n",
       "         2.89623015e-01,  1.29659698e-01,  6.17895447e-03,\n",
       "        -6.67055869e-02, -2.92075417e-03],\n",
       "       [-1.58600795e-02,  2.62245947e-03,  2.89623016e-01,\n",
       "         3.92759227e-01,  2.56823599e-01,  1.40721647e-01,\n",
       "        -4.75483564e-02, -1.85495912e-02],\n",
       "       [-6.47913327e-03, -3.58993490e-02,  1.29659698e-01,\n",
       "         2.56823599e-01,  3.82749311e-01,  2.50640010e-01,\n",
       "         4.12967529e-02, -2.23898857e-02],\n",
       "       [ 1.58558119e-02, -8.46512093e-02,  6.17895447e-03,\n",
       "         1.40721647e-01,  2.50640010e-01,  3.56672590e-01,\n",
       "         3.11638400e-01, -4.39864058e-04],\n",
       "       [-8.99182247e-03,  3.99304824e-02, -6.67055869e-02,\n",
       "        -4.75483564e-02,  4.12967529e-02,  3.11638400e-01,\n",
       "         6.41619942e-01,  8.87305116e-02],\n",
       "       [-3.76505288e-03,  1.22201421e-02, -2.92075417e-03,\n",
       "        -1.85495912e-02, -2.23898857e-02, -4.39864056e-04,\n",
       "         8.87305116e-02,  9.49559957e-01]])"
      ]
     },
     "execution_count": 5,
     "metadata": {},
     "output_type": "execute_result"
    }
   ],
   "source": [
    "box_tiao_matrix"
   ]
  },
  {
   "cell_type": "code",
   "execution_count": 6,
   "metadata": {},
   "outputs": [],
   "source": [
    "box_tiao_eigenvalues, box_tiao_eigenvectors = np.linalg.eig(box_tiao_matrix)"
   ]
  },
  {
   "cell_type": "code",
   "execution_count": 7,
   "metadata": {},
   "outputs": [
    {
     "data": {
      "text/plain": [
       "array([[-0.37468297,  0.26880521, -0.15545491, -0.60420901, -0.3418969 ,\n",
       "        -0.11232863, -0.51826787,  0.0029809 ],\n",
       "       [ 0.39112546, -0.66125774,  0.10329964, -0.05587549, -0.41541244,\n",
       "         0.26289517, -0.3738192 ,  0.12059862],\n",
       "       [ 0.10523766, -0.0570096 ,  0.04921465,  0.32201809,  0.42565461,\n",
       "        -0.48128976, -0.67299157, -0.11754949],\n",
       "       [ 0.40753101,  0.64957121, -0.10965827,  0.32205935, -0.17364843,\n",
       "         0.38568775, -0.2681037 ,  0.21316695],\n",
       "       [-0.62288492, -0.04425333,  0.51512658,  0.29618713,  0.05973747,\n",
       "         0.36940945, -0.19029038,  0.28413284],\n",
       "       [-0.19496424, -0.23735791, -0.74391844,  0.02947929,  0.35271256,\n",
       "         0.25551935, -0.07918206,  0.39420858],\n",
       "       [ 0.31957515,  0.08359291,  0.36254786, -0.53618255,  0.47680681,\n",
       "         0.02244196,  0.01209801,  0.49391956],\n",
       "       [-0.03677093, -0.00204954, -0.02247099,  0.2197816 , -0.37932038,\n",
       "        -0.5793241 ,  0.15567206,  0.66790766]])"
      ]
     },
     "execution_count": 7,
     "metadata": {},
     "output_type": "execute_result"
    }
   ],
   "source": [
    "box_tiao_eigenvectors[box_tiao_eigenvalues.argsort()]"
   ]
  },
  {
   "cell_type": "code",
   "execution_count": 8,
   "metadata": {},
   "outputs": [
    {
     "data": {
      "text/plain": [
       "array([0.025425  , 0.03237383, 0.16874399, 0.63730852, 0.84550956,\n",
       "       0.97351017, 0.99860191, 0.99966156])"
      ]
     },
     "execution_count": 8,
     "metadata": {},
     "output_type": "execute_result"
    }
   ],
   "source": [
    "box_tiao_eigenvalues[box_tiao_eigenvalues.argsort()]"
   ]
  },
  {
   "cell_type": "code",
   "execution_count": 9,
   "metadata": {},
   "outputs": [],
   "source": [
    "A = Ahat.T @ B @ Ahat"
   ]
  },
  {
   "cell_type": "code",
   "execution_count": 19,
   "metadata": {},
   "outputs": [
    {
     "data": {
      "text/html": [
       "<div>\n",
       "<style scoped>\n",
       "    .dataframe tbody tr th:only-of-type {\n",
       "        vertical-align: middle;\n",
       "    }\n",
       "\n",
       "    .dataframe tbody tr th {\n",
       "        vertical-align: top;\n",
       "    }\n",
       "\n",
       "    .dataframe thead th {\n",
       "        text-align: right;\n",
       "    }\n",
       "</style>\n",
       "<table border=\"1\" class=\"dataframe\">\n",
       "  <thead>\n",
       "    <tr style=\"text-align: right;\">\n",
       "      <th></th>\n",
       "      <th>1Y Swap</th>\n",
       "      <th>2Y Swap</th>\n",
       "      <th>3Y Swap</th>\n",
       "      <th>4Y Swap</th>\n",
       "      <th>5Y Swap</th>\n",
       "      <th>7Y Swap</th>\n",
       "      <th>10Y Swap</th>\n",
       "      <th>30Y Swap</th>\n",
       "    </tr>\n",
       "  </thead>\n",
       "  <tbody>\n",
       "    <tr>\n",
       "      <th>1Y Swap</th>\n",
       "      <td>3.674047</td>\n",
       "      <td>3.233594</td>\n",
       "      <td>2.834736</td>\n",
       "      <td>2.521608</td>\n",
       "      <td>2.277115</td>\n",
       "      <td>1.930353</td>\n",
       "      <td>1.618215</td>\n",
       "      <td>1.105530</td>\n",
       "    </tr>\n",
       "    <tr>\n",
       "      <th>2Y Swap</th>\n",
       "      <td>3.233594</td>\n",
       "      <td>2.890017</td>\n",
       "      <td>2.561662</td>\n",
       "      <td>2.297163</td>\n",
       "      <td>2.088020</td>\n",
       "      <td>1.787819</td>\n",
       "      <td>1.514066</td>\n",
       "      <td>1.053340</td>\n",
       "    </tr>\n",
       "    <tr>\n",
       "      <th>3Y Swap</th>\n",
       "      <td>2.834736</td>\n",
       "      <td>2.561662</td>\n",
       "      <td>2.291331</td>\n",
       "      <td>2.069247</td>\n",
       "      <td>1.891812</td>\n",
       "      <td>1.634430</td>\n",
       "      <td>1.396979</td>\n",
       "      <td>0.988865</td>\n",
       "    </tr>\n",
       "    <tr>\n",
       "      <th>4Y Swap</th>\n",
       "      <td>2.521608</td>\n",
       "      <td>2.297163</td>\n",
       "      <td>2.069247</td>\n",
       "      <td>1.879205</td>\n",
       "      <td>1.726199</td>\n",
       "      <td>1.502350</td>\n",
       "      <td>1.293881</td>\n",
       "      <td>0.929100</td>\n",
       "    </tr>\n",
       "    <tr>\n",
       "      <th>5Y Swap</th>\n",
       "      <td>2.277115</td>\n",
       "      <td>2.088020</td>\n",
       "      <td>1.891812</td>\n",
       "      <td>1.726199</td>\n",
       "      <td>1.592094</td>\n",
       "      <td>1.394443</td>\n",
       "      <td>1.208908</td>\n",
       "      <td>0.878918</td>\n",
       "    </tr>\n",
       "    <tr>\n",
       "      <th>7Y Swap</th>\n",
       "      <td>1.930353</td>\n",
       "      <td>1.787819</td>\n",
       "      <td>1.634430</td>\n",
       "      <td>1.502350</td>\n",
       "      <td>1.394443</td>\n",
       "      <td>1.233647</td>\n",
       "      <td>1.080808</td>\n",
       "      <td>0.801487</td>\n",
       "    </tr>\n",
       "    <tr>\n",
       "      <th>10Y Swap</th>\n",
       "      <td>1.618215</td>\n",
       "      <td>1.514066</td>\n",
       "      <td>1.396979</td>\n",
       "      <td>1.293881</td>\n",
       "      <td>1.208908</td>\n",
       "      <td>1.080808</td>\n",
       "      <td>0.957408</td>\n",
       "      <td>0.724736</td>\n",
       "    </tr>\n",
       "    <tr>\n",
       "      <th>30Y Swap</th>\n",
       "      <td>1.105530</td>\n",
       "      <td>1.053340</td>\n",
       "      <td>0.988865</td>\n",
       "      <td>0.929100</td>\n",
       "      <td>0.878918</td>\n",
       "      <td>0.801487</td>\n",
       "      <td>0.724736</td>\n",
       "      <td>0.570909</td>\n",
       "    </tr>\n",
       "  </tbody>\n",
       "</table>\n",
       "</div>"
      ],
      "text/plain": [
       "           1Y Swap   2Y Swap   3Y Swap   4Y Swap   5Y Swap   7Y Swap  \\\n",
       "1Y Swap   3.674047  3.233594  2.834736  2.521608  2.277115  1.930353   \n",
       "2Y Swap   3.233594  2.890017  2.561662  2.297163  2.088020  1.787819   \n",
       "3Y Swap   2.834736  2.561662  2.291331  2.069247  1.891812  1.634430   \n",
       "4Y Swap   2.521608  2.297163  2.069247  1.879205  1.726199  1.502350   \n",
       "5Y Swap   2.277115  2.088020  1.891812  1.726199  1.592094  1.394443   \n",
       "7Y Swap   1.930353  1.787819  1.634430  1.502350  1.394443  1.233647   \n",
       "10Y Swap  1.618215  1.514066  1.396979  1.293881  1.208908  1.080808   \n",
       "30Y Swap  1.105530  1.053340  0.988865  0.929100  0.878918  0.801487   \n",
       "\n",
       "          10Y Swap  30Y Swap  \n",
       "1Y Swap   1.618215  1.105530  \n",
       "2Y Swap   1.514066  1.053340  \n",
       "3Y Swap   1.396979  0.988865  \n",
       "4Y Swap   1.293881  0.929100  \n",
       "5Y Swap   1.208908  0.878918  \n",
       "7Y Swap   1.080808  0.801487  \n",
       "10Y Swap  0.957408  0.724736  \n",
       "30Y Swap  0.724736  0.570909  "
      ]
     },
     "execution_count": 19,
     "metadata": {},
     "output_type": "execute_result"
    }
   ],
   "source": [
    "Ahat.T @ B @ Ahat"
   ]
  },
  {
   "cell_type": "markdown",
   "metadata": {},
   "source": [
    "## Greedy algorithm"
   ]
  },
  {
   "cell_type": "code",
   "execution_count": 10,
   "metadata": {},
   "outputs": [
    {
     "data": {
      "text/html": [
       "<div>\n",
       "<style scoped>\n",
       "    .dataframe tbody tr th:only-of-type {\n",
       "        vertical-align: middle;\n",
       "    }\n",
       "\n",
       "    .dataframe tbody tr th {\n",
       "        vertical-align: top;\n",
       "    }\n",
       "\n",
       "    .dataframe thead th {\n",
       "        text-align: right;\n",
       "    }\n",
       "</style>\n",
       "<table border=\"1\" class=\"dataframe\">\n",
       "  <thead>\n",
       "    <tr style=\"text-align: right;\">\n",
       "      <th></th>\n",
       "      <th>1Y Swap</th>\n",
       "      <th>2Y Swap</th>\n",
       "      <th>3Y Swap</th>\n",
       "      <th>4Y Swap</th>\n",
       "      <th>5Y Swap</th>\n",
       "      <th>7Y Swap</th>\n",
       "      <th>10Y Swap</th>\n",
       "      <th>30Y Swap</th>\n",
       "    </tr>\n",
       "  </thead>\n",
       "  <tbody>\n",
       "    <tr>\n",
       "      <th>1Y Swap</th>\n",
       "      <td>3.674047</td>\n",
       "      <td>3.233594</td>\n",
       "      <td>2.834736</td>\n",
       "      <td>2.521608</td>\n",
       "      <td>2.277115</td>\n",
       "      <td>1.930353</td>\n",
       "      <td>1.618215</td>\n",
       "      <td>1.105530</td>\n",
       "    </tr>\n",
       "    <tr>\n",
       "      <th>2Y Swap</th>\n",
       "      <td>3.233594</td>\n",
       "      <td>2.890017</td>\n",
       "      <td>2.561662</td>\n",
       "      <td>2.297163</td>\n",
       "      <td>2.088020</td>\n",
       "      <td>1.787819</td>\n",
       "      <td>1.514066</td>\n",
       "      <td>1.053340</td>\n",
       "    </tr>\n",
       "    <tr>\n",
       "      <th>3Y Swap</th>\n",
       "      <td>2.834736</td>\n",
       "      <td>2.561662</td>\n",
       "      <td>2.291331</td>\n",
       "      <td>2.069247</td>\n",
       "      <td>1.891812</td>\n",
       "      <td>1.634430</td>\n",
       "      <td>1.396979</td>\n",
       "      <td>0.988865</td>\n",
       "    </tr>\n",
       "    <tr>\n",
       "      <th>4Y Swap</th>\n",
       "      <td>2.521608</td>\n",
       "      <td>2.297163</td>\n",
       "      <td>2.069247</td>\n",
       "      <td>1.879205</td>\n",
       "      <td>1.726199</td>\n",
       "      <td>1.502350</td>\n",
       "      <td>1.293881</td>\n",
       "      <td>0.929100</td>\n",
       "    </tr>\n",
       "    <tr>\n",
       "      <th>5Y Swap</th>\n",
       "      <td>2.277115</td>\n",
       "      <td>2.088020</td>\n",
       "      <td>1.891812</td>\n",
       "      <td>1.726199</td>\n",
       "      <td>1.592094</td>\n",
       "      <td>1.394443</td>\n",
       "      <td>1.208908</td>\n",
       "      <td>0.878918</td>\n",
       "    </tr>\n",
       "    <tr>\n",
       "      <th>7Y Swap</th>\n",
       "      <td>1.930353</td>\n",
       "      <td>1.787819</td>\n",
       "      <td>1.634430</td>\n",
       "      <td>1.502350</td>\n",
       "      <td>1.394443</td>\n",
       "      <td>1.233647</td>\n",
       "      <td>1.080808</td>\n",
       "      <td>0.801487</td>\n",
       "    </tr>\n",
       "    <tr>\n",
       "      <th>10Y Swap</th>\n",
       "      <td>1.618215</td>\n",
       "      <td>1.514066</td>\n",
       "      <td>1.396979</td>\n",
       "      <td>1.293881</td>\n",
       "      <td>1.208908</td>\n",
       "      <td>1.080808</td>\n",
       "      <td>0.957408</td>\n",
       "      <td>0.724736</td>\n",
       "    </tr>\n",
       "    <tr>\n",
       "      <th>30Y Swap</th>\n",
       "      <td>1.105530</td>\n",
       "      <td>1.053340</td>\n",
       "      <td>0.988865</td>\n",
       "      <td>0.929100</td>\n",
       "      <td>0.878918</td>\n",
       "      <td>0.801487</td>\n",
       "      <td>0.724736</td>\n",
       "      <td>0.570909</td>\n",
       "    </tr>\n",
       "  </tbody>\n",
       "</table>\n",
       "</div>"
      ],
      "text/plain": [
       "           1Y Swap   2Y Swap   3Y Swap   4Y Swap   5Y Swap   7Y Swap  \\\n",
       "1Y Swap   3.674047  3.233594  2.834736  2.521608  2.277115  1.930353   \n",
       "2Y Swap   3.233594  2.890017  2.561662  2.297163  2.088020  1.787819   \n",
       "3Y Swap   2.834736  2.561662  2.291331  2.069247  1.891812  1.634430   \n",
       "4Y Swap   2.521608  2.297163  2.069247  1.879205  1.726199  1.502350   \n",
       "5Y Swap   2.277115  2.088020  1.891812  1.726199  1.592094  1.394443   \n",
       "7Y Swap   1.930353  1.787819  1.634430  1.502350  1.394443  1.233647   \n",
       "10Y Swap  1.618215  1.514066  1.396979  1.293881  1.208908  1.080808   \n",
       "30Y Swap  1.105530  1.053340  0.988865  0.929100  0.878918  0.801487   \n",
       "\n",
       "          10Y Swap  30Y Swap  \n",
       "1Y Swap   1.618215  1.105530  \n",
       "2Y Swap   1.514066  1.053340  \n",
       "3Y Swap   1.396979  0.988865  \n",
       "4Y Swap   1.293881  0.929100  \n",
       "5Y Swap   1.208908  0.878918  \n",
       "7Y Swap   1.080808  0.801487  \n",
       "10Y Swap  0.957408  0.724736  \n",
       "30Y Swap  0.724736  0.570909  "
      ]
     },
     "execution_count": 10,
     "metadata": {},
     "output_type": "execute_result"
    }
   ],
   "source": [
    "A"
   ]
  },
  {
   "cell_type": "code",
   "execution_count": 11,
   "metadata": {},
   "outputs": [
    {
     "data": {
      "text/html": [
       "<div>\n",
       "<style scoped>\n",
       "    .dataframe tbody tr th:only-of-type {\n",
       "        vertical-align: middle;\n",
       "    }\n",
       "\n",
       "    .dataframe tbody tr th {\n",
       "        vertical-align: top;\n",
       "    }\n",
       "\n",
       "    .dataframe thead th {\n",
       "        text-align: right;\n",
       "    }\n",
       "</style>\n",
       "<table border=\"1\" class=\"dataframe\">\n",
       "  <thead>\n",
       "    <tr style=\"text-align: right;\">\n",
       "      <th></th>\n",
       "      <th>1Y Swap</th>\n",
       "      <th>2Y Swap</th>\n",
       "      <th>3Y Swap</th>\n",
       "      <th>4Y Swap</th>\n",
       "      <th>5Y Swap</th>\n",
       "      <th>7Y Swap</th>\n",
       "      <th>10Y Swap</th>\n",
       "      <th>30Y Swap</th>\n",
       "    </tr>\n",
       "  </thead>\n",
       "  <tbody>\n",
       "    <tr>\n",
       "      <th>1Y Swap</th>\n",
       "      <td>3.677927</td>\n",
       "      <td>3.236511</td>\n",
       "      <td>2.837534</td>\n",
       "      <td>2.524310</td>\n",
       "      <td>2.279739</td>\n",
       "      <td>1.932806</td>\n",
       "      <td>1.620432</td>\n",
       "      <td>1.107263</td>\n",
       "    </tr>\n",
       "    <tr>\n",
       "      <th>2Y Swap</th>\n",
       "      <td>3.236511</td>\n",
       "      <td>2.894875</td>\n",
       "      <td>2.566465</td>\n",
       "      <td>2.301825</td>\n",
       "      <td>2.092575</td>\n",
       "      <td>1.792108</td>\n",
       "      <td>1.517985</td>\n",
       "      <td>1.056200</td>\n",
       "    </tr>\n",
       "    <tr>\n",
       "      <th>3Y Swap</th>\n",
       "      <td>2.837534</td>\n",
       "      <td>2.566465</td>\n",
       "      <td>2.296366</td>\n",
       "      <td>2.074126</td>\n",
       "      <td>1.896600</td>\n",
       "      <td>1.638938</td>\n",
       "      <td>1.401112</td>\n",
       "      <td>0.991876</td>\n",
       "    </tr>\n",
       "    <tr>\n",
       "      <th>4Y Swap</th>\n",
       "      <td>2.524310</td>\n",
       "      <td>2.301825</td>\n",
       "      <td>2.074126</td>\n",
       "      <td>1.884144</td>\n",
       "      <td>1.731033</td>\n",
       "      <td>1.506914</td>\n",
       "      <td>1.298074</td>\n",
       "      <td>0.932167</td>\n",
       "    </tr>\n",
       "    <tr>\n",
       "      <th>5Y Swap</th>\n",
       "      <td>2.279739</td>\n",
       "      <td>2.092575</td>\n",
       "      <td>1.896600</td>\n",
       "      <td>1.731033</td>\n",
       "      <td>1.597060</td>\n",
       "      <td>1.399090</td>\n",
       "      <td>1.213208</td>\n",
       "      <td>0.882065</td>\n",
       "    </tr>\n",
       "    <tr>\n",
       "      <th>7Y Swap</th>\n",
       "      <td>1.932806</td>\n",
       "      <td>1.792108</td>\n",
       "      <td>1.638938</td>\n",
       "      <td>1.506914</td>\n",
       "      <td>1.399090</td>\n",
       "      <td>1.238201</td>\n",
       "      <td>1.084998</td>\n",
       "      <td>0.804546</td>\n",
       "    </tr>\n",
       "    <tr>\n",
       "      <th>10Y Swap</th>\n",
       "      <td>1.620432</td>\n",
       "      <td>1.517985</td>\n",
       "      <td>1.401112</td>\n",
       "      <td>1.298074</td>\n",
       "      <td>1.213208</td>\n",
       "      <td>1.084998</td>\n",
       "      <td>0.961497</td>\n",
       "      <td>0.727718</td>\n",
       "    </tr>\n",
       "    <tr>\n",
       "      <th>30Y Swap</th>\n",
       "      <td>1.107263</td>\n",
       "      <td>1.056200</td>\n",
       "      <td>0.991876</td>\n",
       "      <td>0.932167</td>\n",
       "      <td>0.882065</td>\n",
       "      <td>0.804546</td>\n",
       "      <td>0.727718</td>\n",
       "      <td>0.573527</td>\n",
       "    </tr>\n",
       "  </tbody>\n",
       "</table>\n",
       "</div>"
      ],
      "text/plain": [
       "           1Y Swap   2Y Swap   3Y Swap   4Y Swap   5Y Swap   7Y Swap  \\\n",
       "1Y Swap   3.677927  3.236511  2.837534  2.524310  2.279739  1.932806   \n",
       "2Y Swap   3.236511  2.894875  2.566465  2.301825  2.092575  1.792108   \n",
       "3Y Swap   2.837534  2.566465  2.296366  2.074126  1.896600  1.638938   \n",
       "4Y Swap   2.524310  2.301825  2.074126  1.884144  1.731033  1.506914   \n",
       "5Y Swap   2.279739  2.092575  1.896600  1.731033  1.597060  1.399090   \n",
       "7Y Swap   1.932806  1.792108  1.638938  1.506914  1.399090  1.238201   \n",
       "10Y Swap  1.620432  1.517985  1.401112  1.298074  1.213208  1.084998   \n",
       "30Y Swap  1.107263  1.056200  0.991876  0.932167  0.882065  0.804546   \n",
       "\n",
       "          10Y Swap  30Y Swap  \n",
       "1Y Swap   1.620432  1.107263  \n",
       "2Y Swap   1.517985  1.056200  \n",
       "3Y Swap   1.401112  0.991876  \n",
       "4Y Swap   1.298074  0.932167  \n",
       "5Y Swap   1.213208  0.882065  \n",
       "7Y Swap   1.084998  0.804546  \n",
       "10Y Swap  0.961497  0.727718  \n",
       "30Y Swap  0.727718  0.573527  "
      ]
     },
     "execution_count": 11,
     "metadata": {},
     "output_type": "execute_result"
    }
   ],
   "source": [
    "B"
   ]
  },
  {
   "cell_type": "code",
   "execution_count": 15,
   "metadata": {},
   "outputs": [
    {
     "data": {
      "text/plain": [
       "array([3.67404747, 2.89001729, 2.29133111, 1.87920473, 1.59209357,\n",
       "       1.2336472 , 0.9574075 , 0.57090929])"
      ]
     },
     "execution_count": 15,
     "metadata": {},
     "output_type": "execute_result"
    }
   ],
   "source": [
    "A.values.diagonal()"
   ]
  },
  {
   "cell_type": "code",
   "execution_count": 16,
   "metadata": {},
   "outputs": [
    {
     "data": {
      "text/plain": [
       "array([3.67792674, 2.89487492, 2.29636646, 1.88414445, 1.5970598 ,\n",
       "       1.23820109, 0.96149702, 0.57352678])"
      ]
     },
     "execution_count": 16,
     "metadata": {},
     "output_type": "execute_result"
    }
   ],
   "source": [
    "B.values.diagonal()"
   ]
  },
  {
   "cell_type": "markdown",
   "metadata": {},
   "source": [
    "It is not feasible to directly calculate the sample covariance $\\Gamma$, and the least square estimate of the VAR(1) transition matrix $\\hat{A}$. As $\\Gamma = \\hat{A}^T \\Gamma \\hat{A}$. This makes no sense for the optimization problem.\n",
    "\n",
    "Instead, for $\\Gamma$ we want a MLE estimate with a regularized cardinality condition. For VAR(1) transition matrix $A$, we want a sparse model with LASSO regression.\n",
    "\n",
    "$\\Gamma^{-1}$ will yield a graph representation, and it will be compared to VAR(1) matrix obtained from a LASSO regression."
   ]
  },
  {
   "cell_type": "code",
   "execution_count": null,
   "metadata": {},
   "outputs": [],
   "source": []
  }
 ],
 "metadata": {
  "kernelspec": {
   "display_name": "Python 3",
   "language": "python",
   "name": "python3"
  },
  "language_info": {
   "codemirror_mode": {
    "name": "ipython",
    "version": 3
   },
   "file_extension": ".py",
   "mimetype": "text/x-python",
   "name": "python",
   "nbconvert_exporter": "python",
   "pygments_lexer": "ipython3",
   "version": "3.7.3"
  }
 },
 "nbformat": 4,
 "nbformat_minor": 4
}
